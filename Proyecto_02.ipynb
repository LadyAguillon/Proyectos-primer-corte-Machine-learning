{
  "nbformat": 4,
  "nbformat_minor": 0,
  "metadata": {
    "colab": {
      "provenance": [],
      "collapsed_sections": [
        "m8vGXc03ntWl",
        "C6a-GdNawOh9",
        "RUR_uR1J3Cxa",
        "fZsoCe-ao-68",
        "NydvPLm5pm80",
        "QcWnsLcV4rvd",
        "56jPWMgF73Dw",
        "cLSz5XB62ROI"
      ]
    },
    "kernelspec": {
      "name": "python3",
      "display_name": "Python 3"
    },
    "language_info": {
      "name": "python"
    }
  },
  "cells": [
    {
      "cell_type": "markdown",
      "source": [
        "###**Proyecto 02**\n",
        "\n",
        "Laura Alejandra Palomino Camacho y Lady Tatiana Aguillón Suárez"
      ],
      "metadata": {
        "id": "pAmRVJzGvpYO"
      }
    },
    {
      "cell_type": "markdown",
      "source": [
        "###Tabla de contenido\n",
        "######1.Introducción\n",
        "######2.Desarrollo del proyecto\n",
        "######2.1.Exploración inicial de los datos\n",
        "######2.2.Visualización de distribuciones\n",
        "######2.3.Visualización de proporciones\n",
        "######2.4.Visualización de relaciones (cuando aplique)\n",
        "######2.5.Análisis de correlación (cuando aplique)\n",
        "######3.Conclusión general"
      ],
      "metadata": {
        "id": "Nw0mIQQ34SIm"
      }
    },
    {
      "cell_type": "markdown",
      "source": [
        "##Introducción \n",
        "En el proyecto que se muestra a continuación, se desarrolló un análisis de la tenencia de tarjetas de crédito por parte de los individuos, analizando esto por medios de variables como la edad, género, nivel de educación entre otras. Para conseguir este análisis se realizó la visualización de proporciones, relaciones y la correlación que podia existir entre cada una de las variables"
      ],
      "metadata": {
        "id": "CyL-eGuC4deT"
      }
    },
    {
      "cell_type": "markdown",
      "source": [
        "##### Instalación de librerías y base de datos"
      ],
      "metadata": {
        "id": "m8vGXc03ntWl"
      }
    },
    {
      "cell_type": "code",
      "execution_count": null,
      "metadata": {
        "colab": {
          "base_uri": "https://localhost:8080/"
        },
        "id": "vh-IiCv8vW6I",
        "outputId": "354a5668-c624-4145-f395-e49b388e397d"
      },
      "outputs": [
        {
          "output_type": "stream",
          "name": "stdout",
          "text": [
            "Looking in indexes: https://pypi.org/simple, https://us-python.pkg.dev/colab-wheels/public/simple/\n",
            "Collecting wooldridge\n",
            "  Downloading wooldridge-0.4.4-py3-none-any.whl (5.1 MB)\n",
            "\u001b[2K     \u001b[90m━━━━━━━━━━━━━━━━━━━━━━━━━━━━━━━━━━━━━━━━\u001b[0m \u001b[32m5.1/5.1 MB\u001b[0m \u001b[31m20.9 MB/s\u001b[0m eta \u001b[36m0:00:00\u001b[0m\n",
            "\u001b[?25hCollecting pingouin\n",
            "  Downloading pingouin-0.5.3-py3-none-any.whl (198 kB)\n",
            "\u001b[2K     \u001b[90m━━━━━━━━━━━━━━━━━━━━━━━━━━━━━━━━━━━━━━━\u001b[0m \u001b[32m198.6/198.6 KB\u001b[0m \u001b[31m8.8 MB/s\u001b[0m eta \u001b[36m0:00:00\u001b[0m\n",
            "\u001b[?25hRequirement already satisfied: missingno in /usr/local/lib/python3.8/dist-packages (0.5.2)\n",
            "Requirement already satisfied: pandas in /usr/local/lib/python3.8/dist-packages (from wooldridge) (1.3.5)\n",
            "Requirement already satisfied: seaborn>=0.11 in /usr/local/lib/python3.8/dist-packages (from pingouin) (0.11.2)\n",
            "Requirement already satisfied: matplotlib>=3.0.2 in /usr/local/lib/python3.8/dist-packages (from pingouin) (3.5.3)\n",
            "Collecting pandas-flavor>=0.2.0\n",
            "  Downloading pandas_flavor-0.5.0-py3-none-any.whl (7.1 kB)\n",
            "Requirement already satisfied: numpy>=1.19 in /usr/local/lib/python3.8/dist-packages (from pingouin) (1.22.4)\n",
            "Requirement already satisfied: statsmodels>=0.13 in /usr/local/lib/python3.8/dist-packages (from pingouin) (0.13.5)\n",
            "Requirement already satisfied: scikit-learn in /usr/local/lib/python3.8/dist-packages (from pingouin) (1.2.1)\n",
            "Collecting outdated\n",
            "  Downloading outdated-0.2.2-py2.py3-none-any.whl (7.5 kB)\n",
            "Requirement already satisfied: tabulate in /usr/local/lib/python3.8/dist-packages (from pingouin) (0.8.10)\n",
            "Requirement already satisfied: scipy>=1.7 in /usr/local/lib/python3.8/dist-packages (from pingouin) (1.10.1)\n",
            "Requirement already satisfied: cycler>=0.10 in /usr/local/lib/python3.8/dist-packages (from matplotlib>=3.0.2->pingouin) (0.11.0)\n",
            "Requirement already satisfied: fonttools>=4.22.0 in /usr/local/lib/python3.8/dist-packages (from matplotlib>=3.0.2->pingouin) (4.38.0)\n",
            "Requirement already satisfied: pyparsing>=2.2.1 in /usr/local/lib/python3.8/dist-packages (from matplotlib>=3.0.2->pingouin) (3.0.9)\n",
            "Requirement already satisfied: packaging>=20.0 in /usr/local/lib/python3.8/dist-packages (from matplotlib>=3.0.2->pingouin) (23.0)\n",
            "Requirement already satisfied: python-dateutil>=2.7 in /usr/local/lib/python3.8/dist-packages (from matplotlib>=3.0.2->pingouin) (2.8.2)\n",
            "Requirement already satisfied: kiwisolver>=1.0.1 in /usr/local/lib/python3.8/dist-packages (from matplotlib>=3.0.2->pingouin) (1.4.4)\n",
            "Requirement already satisfied: pillow>=6.2.0 in /usr/local/lib/python3.8/dist-packages (from matplotlib>=3.0.2->pingouin) (8.4.0)\n",
            "Requirement already satisfied: pytz>=2017.3 in /usr/local/lib/python3.8/dist-packages (from pandas->wooldridge) (2022.7.1)\n",
            "Collecting lazy-loader>=0.1\n",
            "  Downloading lazy_loader-0.1-py3-none-any.whl (8.6 kB)\n",
            "Requirement already satisfied: xarray in /usr/local/lib/python3.8/dist-packages (from pandas-flavor>=0.2.0->pingouin) (2022.12.0)\n",
            "Requirement already satisfied: patsy>=0.5.2 in /usr/local/lib/python3.8/dist-packages (from statsmodels>=0.13->pingouin) (0.5.3)\n",
            "Collecting littleutils\n",
            "  Downloading littleutils-0.2.2.tar.gz (6.6 kB)\n",
            "  Preparing metadata (setup.py) ... \u001b[?25l\u001b[?25hdone\n",
            "Requirement already satisfied: setuptools>=44 in /usr/local/lib/python3.8/dist-packages (from outdated->pingouin) (57.4.0)\n",
            "Requirement already satisfied: requests in /usr/local/lib/python3.8/dist-packages (from outdated->pingouin) (2.25.1)\n",
            "Requirement already satisfied: threadpoolctl>=2.0.0 in /usr/local/lib/python3.8/dist-packages (from scikit-learn->pingouin) (3.1.0)\n",
            "Requirement already satisfied: joblib>=1.1.1 in /usr/local/lib/python3.8/dist-packages (from scikit-learn->pingouin) (1.2.0)\n",
            "Requirement already satisfied: six in /usr/local/lib/python3.8/dist-packages (from patsy>=0.5.2->statsmodels>=0.13->pingouin) (1.15.0)\n",
            "Requirement already satisfied: chardet<5,>=3.0.2 in /usr/local/lib/python3.8/dist-packages (from requests->outdated->pingouin) (4.0.0)\n",
            "Requirement already satisfied: idna<3,>=2.5 in /usr/local/lib/python3.8/dist-packages (from requests->outdated->pingouin) (2.10)\n",
            "Requirement already satisfied: urllib3<1.27,>=1.21.1 in /usr/local/lib/python3.8/dist-packages (from requests->outdated->pingouin) (1.26.14)\n",
            "Requirement already satisfied: certifi>=2017.4.17 in /usr/local/lib/python3.8/dist-packages (from requests->outdated->pingouin) (2022.12.7)\n",
            "Building wheels for collected packages: littleutils\n",
            "  Building wheel for littleutils (setup.py) ... \u001b[?25l\u001b[?25hdone\n",
            "  Created wheel for littleutils: filename=littleutils-0.2.2-py3-none-any.whl size=7047 sha256=c486baf375b931b575ae38ae4f9409790fac517814eb3823c5654ba7cc5f054f\n",
            "  Stored in directory: /root/.cache/pip/wheels/6a/33/c4/0ef84d7f5568c2823e3d63a6e08988852fb9e4bc822034870a\n",
            "Successfully built littleutils\n",
            "Installing collected packages: littleutils, lazy-loader, outdated, wooldridge, pandas-flavor, pingouin\n",
            "Successfully installed lazy-loader-0.1 littleutils-0.2.2 outdated-0.2.2 pandas-flavor-0.5.0 pingouin-0.5.3 wooldridge-0.4.4\n"
          ]
        }
      ],
      "source": [
        "!pip install wooldridge pingouin missingno\n",
        "\n",
        "import wooldridge as wd\n",
        "import pandas as pd\n",
        "import numpy as np\n",
        "\n",
        "import matplotlib.pyplot as plt\n",
        "import seaborn as sns\n",
        "import plotly.express as px\n",
        "\n",
        "import scipy.stats as st\n",
        "import pingouin as pg\n",
        "\n",
        "import missingno as ms\n",
        "\n",
        "from sklearn.preprocessing import StandardScaler\n",
        "from sklearn.ensemble import IsolationForest\n",
        "from sklearn.impute import KNNImputer, MissingIndicator\n",
        "from scipy.spatial.distance import mahalanobis"
      ]
    },
    {
      "cell_type": "code",
      "source": [
        "dataset = pd.read_csv('https://raw.githubusercontent.com/labeconometria/MLxE/main/proyectos1er/dataset_2.csv')\n",
        "dataset"
      ],
      "metadata": {
        "colab": {
          "base_uri": "https://localhost:8080/"
        },
        "id": "V6SJ_hi8wGS1",
        "outputId": "8d79c8ec-9c6d-46a5-e241-ce16dc202471"
      },
      "execution_count": null,
      "outputs": [
        {
          "output_type": "execute_result",
          "data": {
            "text/plain": [
              "       CLIENTNUM     Attrition_Flag  Customer_Age Gender  Dependent_count  \\\n",
              "0      768805383  Existing Customer            45      M                3   \n",
              "1      818770008  Existing Customer            49      F                5   \n",
              "2      713982108  Existing Customer            51      M                3   \n",
              "3      769911858  Existing Customer            40      F                4   \n",
              "4      709106358  Existing Customer            40      M                3   \n",
              "...          ...                ...           ...    ...              ...   \n",
              "10122  772366833  Existing Customer            50      M                2   \n",
              "10123  710638233  Attrited Customer            41      M                2   \n",
              "10124  716506083  Attrited Customer            44      F                1   \n",
              "10125  717406983  Attrited Customer            30      M                2   \n",
              "10126  714337233  Attrited Customer            43      F                2   \n",
              "\n",
              "      Education_Level Marital_Status Income_Category Card_Category  \\\n",
              "0         High School        Married     $60K - $80K          Blue   \n",
              "1            Graduate         Single  Less than $40K          Blue   \n",
              "2            Graduate        Married    $80K - $120K          Blue   \n",
              "3         High School        Unknown  Less than $40K          Blue   \n",
              "4          Uneducated        Married     $60K - $80K          Blue   \n",
              "...               ...            ...             ...           ...   \n",
              "10122        Graduate         Single     $40K - $60K          Blue   \n",
              "10123         Unknown       Divorced     $40K - $60K          Blue   \n",
              "10124     High School        Married  Less than $40K          Blue   \n",
              "10125        Graduate        Unknown     $40K - $60K          Blue   \n",
              "10126        Graduate        Married  Less than $40K        Silver   \n",
              "\n",
              "       Months_on_book  ...  Credit_Limit  Total_Revolving_Bal  \\\n",
              "0                  39  ...       12691.0                  777   \n",
              "1                  44  ...        8256.0                  864   \n",
              "2                  36  ...        3418.0                    0   \n",
              "3                  34  ...        3313.0                 2517   \n",
              "4                  21  ...        4716.0                    0   \n",
              "...               ...  ...           ...                  ...   \n",
              "10122              40  ...        4003.0                 1851   \n",
              "10123              25  ...        4277.0                 2186   \n",
              "10124              36  ...        5409.0                    0   \n",
              "10125              36  ...        5281.0                    0   \n",
              "10126              25  ...       10388.0                 1961   \n",
              "\n",
              "       Avg_Open_To_Buy  Total_Amt_Chng_Q4_Q1  Total_Trans_Amt  Total_Trans_Ct  \\\n",
              "0              11914.0                 1.335             1144              42   \n",
              "1               7392.0                 1.541             1291              33   \n",
              "2               3418.0                 2.594             1887              20   \n",
              "3                796.0                 1.405             1171              20   \n",
              "4               4716.0                 2.175              816              28   \n",
              "...                ...                   ...              ...             ...   \n",
              "10122           2152.0                 0.703            15476             117   \n",
              "10123           2091.0                 0.804             8764              69   \n",
              "10124           5409.0                 0.819            10291              60   \n",
              "10125           5281.0                 0.535             8395              62   \n",
              "10126           8427.0                 0.703            10294              61   \n",
              "\n",
              "       Total_Ct_Chng_Q4_Q1  Avg_Utilization_Ratio  \\\n",
              "0                    1.625                  0.061   \n",
              "1                    3.714                  0.105   \n",
              "2                    2.333                  0.000   \n",
              "3                    2.333                  0.760   \n",
              "4                    2.500                  0.000   \n",
              "...                    ...                    ...   \n",
              "10122                0.857                  0.462   \n",
              "10123                0.683                  0.511   \n",
              "10124                0.818                  0.000   \n",
              "10125                0.722                  0.000   \n",
              "10126                0.649                  0.189   \n",
              "\n",
              "       Naive_Bayes_Classifier_Attrition_Flag_Card_Category_Contacts_Count_12_mon_Dependent_count_Education_Level_Months_Inactive_12_mon_1  \\\n",
              "0                                               0.000093                                                                                    \n",
              "1                                               0.000057                                                                                    \n",
              "2                                               0.000021                                                                                    \n",
              "3                                               0.000134                                                                                    \n",
              "4                                               0.000022                                                                                    \n",
              "...                                                  ...                                                                                    \n",
              "10122                                           0.000191                                                                                    \n",
              "10123                                           0.995270                                                                                    \n",
              "10124                                           0.997880                                                                                    \n",
              "10125                                           0.996710                                                                                    \n",
              "10126                                           0.996620                                                                                    \n",
              "\n",
              "       Naive_Bayes_Classifier_Attrition_Flag_Card_Category_Contacts_Count_12_mon_Dependent_count_Education_Level_Months_Inactive_12_mon_2  \n",
              "0                                               0.999910                                                                                   \n",
              "1                                               0.999940                                                                                   \n",
              "2                                               0.999980                                                                                   \n",
              "3                                               0.999870                                                                                   \n",
              "4                                               0.999980                                                                                   \n",
              "...                                                  ...                                                                                   \n",
              "10122                                           0.999810                                                                                   \n",
              "10123                                           0.004729                                                                                   \n",
              "10124                                           0.002118                                                                                   \n",
              "10125                                           0.003294                                                                                   \n",
              "10126                                           0.003377                                                                                   \n",
              "\n",
              "[10127 rows x 23 columns]"
            ],
            "text/html": [
              "\n",
              "  <div id=\"df-32d46188-49a7-4abc-bdbf-65d52321b038\">\n",
              "    <div class=\"colab-df-container\">\n",
              "      <div>\n",
              "<style scoped>\n",
              "    .dataframe tbody tr th:only-of-type {\n",
              "        vertical-align: middle;\n",
              "    }\n",
              "\n",
              "    .dataframe tbody tr th {\n",
              "        vertical-align: top;\n",
              "    }\n",
              "\n",
              "    .dataframe thead th {\n",
              "        text-align: right;\n",
              "    }\n",
              "</style>\n",
              "<table border=\"1\" class=\"dataframe\">\n",
              "  <thead>\n",
              "    <tr style=\"text-align: right;\">\n",
              "      <th></th>\n",
              "      <th>CLIENTNUM</th>\n",
              "      <th>Attrition_Flag</th>\n",
              "      <th>Customer_Age</th>\n",
              "      <th>Gender</th>\n",
              "      <th>Dependent_count</th>\n",
              "      <th>Education_Level</th>\n",
              "      <th>Marital_Status</th>\n",
              "      <th>Income_Category</th>\n",
              "      <th>Card_Category</th>\n",
              "      <th>Months_on_book</th>\n",
              "      <th>...</th>\n",
              "      <th>Credit_Limit</th>\n",
              "      <th>Total_Revolving_Bal</th>\n",
              "      <th>Avg_Open_To_Buy</th>\n",
              "      <th>Total_Amt_Chng_Q4_Q1</th>\n",
              "      <th>Total_Trans_Amt</th>\n",
              "      <th>Total_Trans_Ct</th>\n",
              "      <th>Total_Ct_Chng_Q4_Q1</th>\n",
              "      <th>Avg_Utilization_Ratio</th>\n",
              "      <th>Naive_Bayes_Classifier_Attrition_Flag_Card_Category_Contacts_Count_12_mon_Dependent_count_Education_Level_Months_Inactive_12_mon_1</th>\n",
              "      <th>Naive_Bayes_Classifier_Attrition_Flag_Card_Category_Contacts_Count_12_mon_Dependent_count_Education_Level_Months_Inactive_12_mon_2</th>\n",
              "    </tr>\n",
              "  </thead>\n",
              "  <tbody>\n",
              "    <tr>\n",
              "      <th>0</th>\n",
              "      <td>768805383</td>\n",
              "      <td>Existing Customer</td>\n",
              "      <td>45</td>\n",
              "      <td>M</td>\n",
              "      <td>3</td>\n",
              "      <td>High School</td>\n",
              "      <td>Married</td>\n",
              "      <td>$60K - $80K</td>\n",
              "      <td>Blue</td>\n",
              "      <td>39</td>\n",
              "      <td>...</td>\n",
              "      <td>12691.0</td>\n",
              "      <td>777</td>\n",
              "      <td>11914.0</td>\n",
              "      <td>1.335</td>\n",
              "      <td>1144</td>\n",
              "      <td>42</td>\n",
              "      <td>1.625</td>\n",
              "      <td>0.061</td>\n",
              "      <td>0.000093</td>\n",
              "      <td>0.999910</td>\n",
              "    </tr>\n",
              "    <tr>\n",
              "      <th>1</th>\n",
              "      <td>818770008</td>\n",
              "      <td>Existing Customer</td>\n",
              "      <td>49</td>\n",
              "      <td>F</td>\n",
              "      <td>5</td>\n",
              "      <td>Graduate</td>\n",
              "      <td>Single</td>\n",
              "      <td>Less than $40K</td>\n",
              "      <td>Blue</td>\n",
              "      <td>44</td>\n",
              "      <td>...</td>\n",
              "      <td>8256.0</td>\n",
              "      <td>864</td>\n",
              "      <td>7392.0</td>\n",
              "      <td>1.541</td>\n",
              "      <td>1291</td>\n",
              "      <td>33</td>\n",
              "      <td>3.714</td>\n",
              "      <td>0.105</td>\n",
              "      <td>0.000057</td>\n",
              "      <td>0.999940</td>\n",
              "    </tr>\n",
              "    <tr>\n",
              "      <th>2</th>\n",
              "      <td>713982108</td>\n",
              "      <td>Existing Customer</td>\n",
              "      <td>51</td>\n",
              "      <td>M</td>\n",
              "      <td>3</td>\n",
              "      <td>Graduate</td>\n",
              "      <td>Married</td>\n",
              "      <td>$80K - $120K</td>\n",
              "      <td>Blue</td>\n",
              "      <td>36</td>\n",
              "      <td>...</td>\n",
              "      <td>3418.0</td>\n",
              "      <td>0</td>\n",
              "      <td>3418.0</td>\n",
              "      <td>2.594</td>\n",
              "      <td>1887</td>\n",
              "      <td>20</td>\n",
              "      <td>2.333</td>\n",
              "      <td>0.000</td>\n",
              "      <td>0.000021</td>\n",
              "      <td>0.999980</td>\n",
              "    </tr>\n",
              "    <tr>\n",
              "      <th>3</th>\n",
              "      <td>769911858</td>\n",
              "      <td>Existing Customer</td>\n",
              "      <td>40</td>\n",
              "      <td>F</td>\n",
              "      <td>4</td>\n",
              "      <td>High School</td>\n",
              "      <td>Unknown</td>\n",
              "      <td>Less than $40K</td>\n",
              "      <td>Blue</td>\n",
              "      <td>34</td>\n",
              "      <td>...</td>\n",
              "      <td>3313.0</td>\n",
              "      <td>2517</td>\n",
              "      <td>796.0</td>\n",
              "      <td>1.405</td>\n",
              "      <td>1171</td>\n",
              "      <td>20</td>\n",
              "      <td>2.333</td>\n",
              "      <td>0.760</td>\n",
              "      <td>0.000134</td>\n",
              "      <td>0.999870</td>\n",
              "    </tr>\n",
              "    <tr>\n",
              "      <th>4</th>\n",
              "      <td>709106358</td>\n",
              "      <td>Existing Customer</td>\n",
              "      <td>40</td>\n",
              "      <td>M</td>\n",
              "      <td>3</td>\n",
              "      <td>Uneducated</td>\n",
              "      <td>Married</td>\n",
              "      <td>$60K - $80K</td>\n",
              "      <td>Blue</td>\n",
              "      <td>21</td>\n",
              "      <td>...</td>\n",
              "      <td>4716.0</td>\n",
              "      <td>0</td>\n",
              "      <td>4716.0</td>\n",
              "      <td>2.175</td>\n",
              "      <td>816</td>\n",
              "      <td>28</td>\n",
              "      <td>2.500</td>\n",
              "      <td>0.000</td>\n",
              "      <td>0.000022</td>\n",
              "      <td>0.999980</td>\n",
              "    </tr>\n",
              "    <tr>\n",
              "      <th>...</th>\n",
              "      <td>...</td>\n",
              "      <td>...</td>\n",
              "      <td>...</td>\n",
              "      <td>...</td>\n",
              "      <td>...</td>\n",
              "      <td>...</td>\n",
              "      <td>...</td>\n",
              "      <td>...</td>\n",
              "      <td>...</td>\n",
              "      <td>...</td>\n",
              "      <td>...</td>\n",
              "      <td>...</td>\n",
              "      <td>...</td>\n",
              "      <td>...</td>\n",
              "      <td>...</td>\n",
              "      <td>...</td>\n",
              "      <td>...</td>\n",
              "      <td>...</td>\n",
              "      <td>...</td>\n",
              "      <td>...</td>\n",
              "      <td>...</td>\n",
              "    </tr>\n",
              "    <tr>\n",
              "      <th>10122</th>\n",
              "      <td>772366833</td>\n",
              "      <td>Existing Customer</td>\n",
              "      <td>50</td>\n",
              "      <td>M</td>\n",
              "      <td>2</td>\n",
              "      <td>Graduate</td>\n",
              "      <td>Single</td>\n",
              "      <td>$40K - $60K</td>\n",
              "      <td>Blue</td>\n",
              "      <td>40</td>\n",
              "      <td>...</td>\n",
              "      <td>4003.0</td>\n",
              "      <td>1851</td>\n",
              "      <td>2152.0</td>\n",
              "      <td>0.703</td>\n",
              "      <td>15476</td>\n",
              "      <td>117</td>\n",
              "      <td>0.857</td>\n",
              "      <td>0.462</td>\n",
              "      <td>0.000191</td>\n",
              "      <td>0.999810</td>\n",
              "    </tr>\n",
              "    <tr>\n",
              "      <th>10123</th>\n",
              "      <td>710638233</td>\n",
              "      <td>Attrited Customer</td>\n",
              "      <td>41</td>\n",
              "      <td>M</td>\n",
              "      <td>2</td>\n",
              "      <td>Unknown</td>\n",
              "      <td>Divorced</td>\n",
              "      <td>$40K - $60K</td>\n",
              "      <td>Blue</td>\n",
              "      <td>25</td>\n",
              "      <td>...</td>\n",
              "      <td>4277.0</td>\n",
              "      <td>2186</td>\n",
              "      <td>2091.0</td>\n",
              "      <td>0.804</td>\n",
              "      <td>8764</td>\n",
              "      <td>69</td>\n",
              "      <td>0.683</td>\n",
              "      <td>0.511</td>\n",
              "      <td>0.995270</td>\n",
              "      <td>0.004729</td>\n",
              "    </tr>\n",
              "    <tr>\n",
              "      <th>10124</th>\n",
              "      <td>716506083</td>\n",
              "      <td>Attrited Customer</td>\n",
              "      <td>44</td>\n",
              "      <td>F</td>\n",
              "      <td>1</td>\n",
              "      <td>High School</td>\n",
              "      <td>Married</td>\n",
              "      <td>Less than $40K</td>\n",
              "      <td>Blue</td>\n",
              "      <td>36</td>\n",
              "      <td>...</td>\n",
              "      <td>5409.0</td>\n",
              "      <td>0</td>\n",
              "      <td>5409.0</td>\n",
              "      <td>0.819</td>\n",
              "      <td>10291</td>\n",
              "      <td>60</td>\n",
              "      <td>0.818</td>\n",
              "      <td>0.000</td>\n",
              "      <td>0.997880</td>\n",
              "      <td>0.002118</td>\n",
              "    </tr>\n",
              "    <tr>\n",
              "      <th>10125</th>\n",
              "      <td>717406983</td>\n",
              "      <td>Attrited Customer</td>\n",
              "      <td>30</td>\n",
              "      <td>M</td>\n",
              "      <td>2</td>\n",
              "      <td>Graduate</td>\n",
              "      <td>Unknown</td>\n",
              "      <td>$40K - $60K</td>\n",
              "      <td>Blue</td>\n",
              "      <td>36</td>\n",
              "      <td>...</td>\n",
              "      <td>5281.0</td>\n",
              "      <td>0</td>\n",
              "      <td>5281.0</td>\n",
              "      <td>0.535</td>\n",
              "      <td>8395</td>\n",
              "      <td>62</td>\n",
              "      <td>0.722</td>\n",
              "      <td>0.000</td>\n",
              "      <td>0.996710</td>\n",
              "      <td>0.003294</td>\n",
              "    </tr>\n",
              "    <tr>\n",
              "      <th>10126</th>\n",
              "      <td>714337233</td>\n",
              "      <td>Attrited Customer</td>\n",
              "      <td>43</td>\n",
              "      <td>F</td>\n",
              "      <td>2</td>\n",
              "      <td>Graduate</td>\n",
              "      <td>Married</td>\n",
              "      <td>Less than $40K</td>\n",
              "      <td>Silver</td>\n",
              "      <td>25</td>\n",
              "      <td>...</td>\n",
              "      <td>10388.0</td>\n",
              "      <td>1961</td>\n",
              "      <td>8427.0</td>\n",
              "      <td>0.703</td>\n",
              "      <td>10294</td>\n",
              "      <td>61</td>\n",
              "      <td>0.649</td>\n",
              "      <td>0.189</td>\n",
              "      <td>0.996620</td>\n",
              "      <td>0.003377</td>\n",
              "    </tr>\n",
              "  </tbody>\n",
              "</table>\n",
              "<p>10127 rows × 23 columns</p>\n",
              "</div>\n",
              "      <button class=\"colab-df-convert\" onclick=\"convertToInteractive('df-32d46188-49a7-4abc-bdbf-65d52321b038')\"\n",
              "              title=\"Convert this dataframe to an interactive table.\"\n",
              "              style=\"display:none;\">\n",
              "        \n",
              "  <svg xmlns=\"http://www.w3.org/2000/svg\" height=\"24px\"viewBox=\"0 0 24 24\"\n",
              "       width=\"24px\">\n",
              "    <path d=\"M0 0h24v24H0V0z\" fill=\"none\"/>\n",
              "    <path d=\"M18.56 5.44l.94 2.06.94-2.06 2.06-.94-2.06-.94-.94-2.06-.94 2.06-2.06.94zm-11 1L8.5 8.5l.94-2.06 2.06-.94-2.06-.94L8.5 2.5l-.94 2.06-2.06.94zm10 10l.94 2.06.94-2.06 2.06-.94-2.06-.94-.94-2.06-.94 2.06-2.06.94z\"/><path d=\"M17.41 7.96l-1.37-1.37c-.4-.4-.92-.59-1.43-.59-.52 0-1.04.2-1.43.59L10.3 9.45l-7.72 7.72c-.78.78-.78 2.05 0 2.83L4 21.41c.39.39.9.59 1.41.59.51 0 1.02-.2 1.41-.59l7.78-7.78 2.81-2.81c.8-.78.8-2.07 0-2.86zM5.41 20L4 18.59l7.72-7.72 1.47 1.35L5.41 20z\"/>\n",
              "  </svg>\n",
              "      </button>\n",
              "      \n",
              "  <style>\n",
              "    .colab-df-container {\n",
              "      display:flex;\n",
              "      flex-wrap:wrap;\n",
              "      gap: 12px;\n",
              "    }\n",
              "\n",
              "    .colab-df-convert {\n",
              "      background-color: #E8F0FE;\n",
              "      border: none;\n",
              "      border-radius: 50%;\n",
              "      cursor: pointer;\n",
              "      display: none;\n",
              "      fill: #1967D2;\n",
              "      height: 32px;\n",
              "      padding: 0 0 0 0;\n",
              "      width: 32px;\n",
              "    }\n",
              "\n",
              "    .colab-df-convert:hover {\n",
              "      background-color: #E2EBFA;\n",
              "      box-shadow: 0px 1px 2px rgba(60, 64, 67, 0.3), 0px 1px 3px 1px rgba(60, 64, 67, 0.15);\n",
              "      fill: #174EA6;\n",
              "    }\n",
              "\n",
              "    [theme=dark] .colab-df-convert {\n",
              "      background-color: #3B4455;\n",
              "      fill: #D2E3FC;\n",
              "    }\n",
              "\n",
              "    [theme=dark] .colab-df-convert:hover {\n",
              "      background-color: #434B5C;\n",
              "      box-shadow: 0px 1px 3px 1px rgba(0, 0, 0, 0.15);\n",
              "      filter: drop-shadow(0px 1px 2px rgba(0, 0, 0, 0.3));\n",
              "      fill: #FFFFFF;\n",
              "    }\n",
              "  </style>\n",
              "\n",
              "      <script>\n",
              "        const buttonEl =\n",
              "          document.querySelector('#df-32d46188-49a7-4abc-bdbf-65d52321b038 button.colab-df-convert');\n",
              "        buttonEl.style.display =\n",
              "          google.colab.kernel.accessAllowed ? 'block' : 'none';\n",
              "\n",
              "        async function convertToInteractive(key) {\n",
              "          const element = document.querySelector('#df-32d46188-49a7-4abc-bdbf-65d52321b038');\n",
              "          const dataTable =\n",
              "            await google.colab.kernel.invokeFunction('convertToInteractive',\n",
              "                                                     [key], {});\n",
              "          if (!dataTable) return;\n",
              "\n",
              "          const docLinkHtml = 'Like what you see? Visit the ' +\n",
              "            '<a target=\"_blank\" href=https://colab.research.google.com/notebooks/data_table.ipynb>data table notebook</a>'\n",
              "            + ' to learn more about interactive tables.';\n",
              "          element.innerHTML = '';\n",
              "          dataTable['output_type'] = 'display_data';\n",
              "          await google.colab.output.renderOutput(dataTable, element);\n",
              "          const docLink = document.createElement('div');\n",
              "          docLink.innerHTML = docLinkHtml;\n",
              "          element.appendChild(docLink);\n",
              "        }\n",
              "      </script>\n",
              "    </div>\n",
              "  </div>\n",
              "  "
            ]
          },
          "metadata": {},
          "execution_count": 2
        }
      ]
    },
    {
      "cell_type": "markdown",
      "source": [
        "#### Exploración inicial de los datos"
      ],
      "metadata": {
        "id": "C6a-GdNawOh9"
      }
    },
    {
      "cell_type": "code",
      "source": [
        "dataset.head()"
      ],
      "metadata": {
        "colab": {
          "base_uri": "https://localhost:8080/"
        },
        "id": "9p2P_O46wXBk",
        "outputId": "cc11fabe-b290-4477-966b-a6a73333097b"
      },
      "execution_count": null,
      "outputs": [
        {
          "output_type": "execute_result",
          "data": {
            "text/plain": [
              "   CLIENTNUM     Attrition_Flag  Customer_Age Gender  Dependent_count  \\\n",
              "0  768805383  Existing Customer            45      M                3   \n",
              "1  818770008  Existing Customer            49      F                5   \n",
              "2  713982108  Existing Customer            51      M                3   \n",
              "3  769911858  Existing Customer            40      F                4   \n",
              "4  709106358  Existing Customer            40      M                3   \n",
              "\n",
              "  Education_Level Marital_Status Income_Category Card_Category  \\\n",
              "0     High School        Married     $60K - $80K          Blue   \n",
              "1        Graduate         Single  Less than $40K          Blue   \n",
              "2        Graduate        Married    $80K - $120K          Blue   \n",
              "3     High School        Unknown  Less than $40K          Blue   \n",
              "4      Uneducated        Married     $60K - $80K          Blue   \n",
              "\n",
              "   Months_on_book  ...  Credit_Limit  Total_Revolving_Bal  Avg_Open_To_Buy  \\\n",
              "0              39  ...       12691.0                  777          11914.0   \n",
              "1              44  ...        8256.0                  864           7392.0   \n",
              "2              36  ...        3418.0                    0           3418.0   \n",
              "3              34  ...        3313.0                 2517            796.0   \n",
              "4              21  ...        4716.0                    0           4716.0   \n",
              "\n",
              "   Total_Amt_Chng_Q4_Q1  Total_Trans_Amt  Total_Trans_Ct  Total_Ct_Chng_Q4_Q1  \\\n",
              "0                 1.335             1144              42                1.625   \n",
              "1                 1.541             1291              33                3.714   \n",
              "2                 2.594             1887              20                2.333   \n",
              "3                 1.405             1171              20                2.333   \n",
              "4                 2.175              816              28                2.500   \n",
              "\n",
              "   Avg_Utilization_Ratio  \\\n",
              "0                  0.061   \n",
              "1                  0.105   \n",
              "2                  0.000   \n",
              "3                  0.760   \n",
              "4                  0.000   \n",
              "\n",
              "   Naive_Bayes_Classifier_Attrition_Flag_Card_Category_Contacts_Count_12_mon_Dependent_count_Education_Level_Months_Inactive_12_mon_1  \\\n",
              "0                                           0.000093                                                                                    \n",
              "1                                           0.000057                                                                                    \n",
              "2                                           0.000021                                                                                    \n",
              "3                                           0.000134                                                                                    \n",
              "4                                           0.000022                                                                                    \n",
              "\n",
              "   Naive_Bayes_Classifier_Attrition_Flag_Card_Category_Contacts_Count_12_mon_Dependent_count_Education_Level_Months_Inactive_12_mon_2  \n",
              "0                                            0.99991                                                                                   \n",
              "1                                            0.99994                                                                                   \n",
              "2                                            0.99998                                                                                   \n",
              "3                                            0.99987                                                                                   \n",
              "4                                            0.99998                                                                                   \n",
              "\n",
              "[5 rows x 23 columns]"
            ],
            "text/html": [
              "\n",
              "  <div id=\"df-587c8e83-a34b-4fec-9515-927368595313\">\n",
              "    <div class=\"colab-df-container\">\n",
              "      <div>\n",
              "<style scoped>\n",
              "    .dataframe tbody tr th:only-of-type {\n",
              "        vertical-align: middle;\n",
              "    }\n",
              "\n",
              "    .dataframe tbody tr th {\n",
              "        vertical-align: top;\n",
              "    }\n",
              "\n",
              "    .dataframe thead th {\n",
              "        text-align: right;\n",
              "    }\n",
              "</style>\n",
              "<table border=\"1\" class=\"dataframe\">\n",
              "  <thead>\n",
              "    <tr style=\"text-align: right;\">\n",
              "      <th></th>\n",
              "      <th>CLIENTNUM</th>\n",
              "      <th>Attrition_Flag</th>\n",
              "      <th>Customer_Age</th>\n",
              "      <th>Gender</th>\n",
              "      <th>Dependent_count</th>\n",
              "      <th>Education_Level</th>\n",
              "      <th>Marital_Status</th>\n",
              "      <th>Income_Category</th>\n",
              "      <th>Card_Category</th>\n",
              "      <th>Months_on_book</th>\n",
              "      <th>...</th>\n",
              "      <th>Credit_Limit</th>\n",
              "      <th>Total_Revolving_Bal</th>\n",
              "      <th>Avg_Open_To_Buy</th>\n",
              "      <th>Total_Amt_Chng_Q4_Q1</th>\n",
              "      <th>Total_Trans_Amt</th>\n",
              "      <th>Total_Trans_Ct</th>\n",
              "      <th>Total_Ct_Chng_Q4_Q1</th>\n",
              "      <th>Avg_Utilization_Ratio</th>\n",
              "      <th>Naive_Bayes_Classifier_Attrition_Flag_Card_Category_Contacts_Count_12_mon_Dependent_count_Education_Level_Months_Inactive_12_mon_1</th>\n",
              "      <th>Naive_Bayes_Classifier_Attrition_Flag_Card_Category_Contacts_Count_12_mon_Dependent_count_Education_Level_Months_Inactive_12_mon_2</th>\n",
              "    </tr>\n",
              "  </thead>\n",
              "  <tbody>\n",
              "    <tr>\n",
              "      <th>0</th>\n",
              "      <td>768805383</td>\n",
              "      <td>Existing Customer</td>\n",
              "      <td>45</td>\n",
              "      <td>M</td>\n",
              "      <td>3</td>\n",
              "      <td>High School</td>\n",
              "      <td>Married</td>\n",
              "      <td>$60K - $80K</td>\n",
              "      <td>Blue</td>\n",
              "      <td>39</td>\n",
              "      <td>...</td>\n",
              "      <td>12691.0</td>\n",
              "      <td>777</td>\n",
              "      <td>11914.0</td>\n",
              "      <td>1.335</td>\n",
              "      <td>1144</td>\n",
              "      <td>42</td>\n",
              "      <td>1.625</td>\n",
              "      <td>0.061</td>\n",
              "      <td>0.000093</td>\n",
              "      <td>0.99991</td>\n",
              "    </tr>\n",
              "    <tr>\n",
              "      <th>1</th>\n",
              "      <td>818770008</td>\n",
              "      <td>Existing Customer</td>\n",
              "      <td>49</td>\n",
              "      <td>F</td>\n",
              "      <td>5</td>\n",
              "      <td>Graduate</td>\n",
              "      <td>Single</td>\n",
              "      <td>Less than $40K</td>\n",
              "      <td>Blue</td>\n",
              "      <td>44</td>\n",
              "      <td>...</td>\n",
              "      <td>8256.0</td>\n",
              "      <td>864</td>\n",
              "      <td>7392.0</td>\n",
              "      <td>1.541</td>\n",
              "      <td>1291</td>\n",
              "      <td>33</td>\n",
              "      <td>3.714</td>\n",
              "      <td>0.105</td>\n",
              "      <td>0.000057</td>\n",
              "      <td>0.99994</td>\n",
              "    </tr>\n",
              "    <tr>\n",
              "      <th>2</th>\n",
              "      <td>713982108</td>\n",
              "      <td>Existing Customer</td>\n",
              "      <td>51</td>\n",
              "      <td>M</td>\n",
              "      <td>3</td>\n",
              "      <td>Graduate</td>\n",
              "      <td>Married</td>\n",
              "      <td>$80K - $120K</td>\n",
              "      <td>Blue</td>\n",
              "      <td>36</td>\n",
              "      <td>...</td>\n",
              "      <td>3418.0</td>\n",
              "      <td>0</td>\n",
              "      <td>3418.0</td>\n",
              "      <td>2.594</td>\n",
              "      <td>1887</td>\n",
              "      <td>20</td>\n",
              "      <td>2.333</td>\n",
              "      <td>0.000</td>\n",
              "      <td>0.000021</td>\n",
              "      <td>0.99998</td>\n",
              "    </tr>\n",
              "    <tr>\n",
              "      <th>3</th>\n",
              "      <td>769911858</td>\n",
              "      <td>Existing Customer</td>\n",
              "      <td>40</td>\n",
              "      <td>F</td>\n",
              "      <td>4</td>\n",
              "      <td>High School</td>\n",
              "      <td>Unknown</td>\n",
              "      <td>Less than $40K</td>\n",
              "      <td>Blue</td>\n",
              "      <td>34</td>\n",
              "      <td>...</td>\n",
              "      <td>3313.0</td>\n",
              "      <td>2517</td>\n",
              "      <td>796.0</td>\n",
              "      <td>1.405</td>\n",
              "      <td>1171</td>\n",
              "      <td>20</td>\n",
              "      <td>2.333</td>\n",
              "      <td>0.760</td>\n",
              "      <td>0.000134</td>\n",
              "      <td>0.99987</td>\n",
              "    </tr>\n",
              "    <tr>\n",
              "      <th>4</th>\n",
              "      <td>709106358</td>\n",
              "      <td>Existing Customer</td>\n",
              "      <td>40</td>\n",
              "      <td>M</td>\n",
              "      <td>3</td>\n",
              "      <td>Uneducated</td>\n",
              "      <td>Married</td>\n",
              "      <td>$60K - $80K</td>\n",
              "      <td>Blue</td>\n",
              "      <td>21</td>\n",
              "      <td>...</td>\n",
              "      <td>4716.0</td>\n",
              "      <td>0</td>\n",
              "      <td>4716.0</td>\n",
              "      <td>2.175</td>\n",
              "      <td>816</td>\n",
              "      <td>28</td>\n",
              "      <td>2.500</td>\n",
              "      <td>0.000</td>\n",
              "      <td>0.000022</td>\n",
              "      <td>0.99998</td>\n",
              "    </tr>\n",
              "  </tbody>\n",
              "</table>\n",
              "<p>5 rows × 23 columns</p>\n",
              "</div>\n",
              "      <button class=\"colab-df-convert\" onclick=\"convertToInteractive('df-587c8e83-a34b-4fec-9515-927368595313')\"\n",
              "              title=\"Convert this dataframe to an interactive table.\"\n",
              "              style=\"display:none;\">\n",
              "        \n",
              "  <svg xmlns=\"http://www.w3.org/2000/svg\" height=\"24px\"viewBox=\"0 0 24 24\"\n",
              "       width=\"24px\">\n",
              "    <path d=\"M0 0h24v24H0V0z\" fill=\"none\"/>\n",
              "    <path d=\"M18.56 5.44l.94 2.06.94-2.06 2.06-.94-2.06-.94-.94-2.06-.94 2.06-2.06.94zm-11 1L8.5 8.5l.94-2.06 2.06-.94-2.06-.94L8.5 2.5l-.94 2.06-2.06.94zm10 10l.94 2.06.94-2.06 2.06-.94-2.06-.94-.94-2.06-.94 2.06-2.06.94z\"/><path d=\"M17.41 7.96l-1.37-1.37c-.4-.4-.92-.59-1.43-.59-.52 0-1.04.2-1.43.59L10.3 9.45l-7.72 7.72c-.78.78-.78 2.05 0 2.83L4 21.41c.39.39.9.59 1.41.59.51 0 1.02-.2 1.41-.59l7.78-7.78 2.81-2.81c.8-.78.8-2.07 0-2.86zM5.41 20L4 18.59l7.72-7.72 1.47 1.35L5.41 20z\"/>\n",
              "  </svg>\n",
              "      </button>\n",
              "      \n",
              "  <style>\n",
              "    .colab-df-container {\n",
              "      display:flex;\n",
              "      flex-wrap:wrap;\n",
              "      gap: 12px;\n",
              "    }\n",
              "\n",
              "    .colab-df-convert {\n",
              "      background-color: #E8F0FE;\n",
              "      border: none;\n",
              "      border-radius: 50%;\n",
              "      cursor: pointer;\n",
              "      display: none;\n",
              "      fill: #1967D2;\n",
              "      height: 32px;\n",
              "      padding: 0 0 0 0;\n",
              "      width: 32px;\n",
              "    }\n",
              "\n",
              "    .colab-df-convert:hover {\n",
              "      background-color: #E2EBFA;\n",
              "      box-shadow: 0px 1px 2px rgba(60, 64, 67, 0.3), 0px 1px 3px 1px rgba(60, 64, 67, 0.15);\n",
              "      fill: #174EA6;\n",
              "    }\n",
              "\n",
              "    [theme=dark] .colab-df-convert {\n",
              "      background-color: #3B4455;\n",
              "      fill: #D2E3FC;\n",
              "    }\n",
              "\n",
              "    [theme=dark] .colab-df-convert:hover {\n",
              "      background-color: #434B5C;\n",
              "      box-shadow: 0px 1px 3px 1px rgba(0, 0, 0, 0.15);\n",
              "      filter: drop-shadow(0px 1px 2px rgba(0, 0, 0, 0.3));\n",
              "      fill: #FFFFFF;\n",
              "    }\n",
              "  </style>\n",
              "\n",
              "      <script>\n",
              "        const buttonEl =\n",
              "          document.querySelector('#df-587c8e83-a34b-4fec-9515-927368595313 button.colab-df-convert');\n",
              "        buttonEl.style.display =\n",
              "          google.colab.kernel.accessAllowed ? 'block' : 'none';\n",
              "\n",
              "        async function convertToInteractive(key) {\n",
              "          const element = document.querySelector('#df-587c8e83-a34b-4fec-9515-927368595313');\n",
              "          const dataTable =\n",
              "            await google.colab.kernel.invokeFunction('convertToInteractive',\n",
              "                                                     [key], {});\n",
              "          if (!dataTable) return;\n",
              "\n",
              "          const docLinkHtml = 'Like what you see? Visit the ' +\n",
              "            '<a target=\"_blank\" href=https://colab.research.google.com/notebooks/data_table.ipynb>data table notebook</a>'\n",
              "            + ' to learn more about interactive tables.';\n",
              "          element.innerHTML = '';\n",
              "          dataTable['output_type'] = 'display_data';\n",
              "          await google.colab.output.renderOutput(dataTable, element);\n",
              "          const docLink = document.createElement('div');\n",
              "          docLink.innerHTML = docLinkHtml;\n",
              "          element.appendChild(docLink);\n",
              "        }\n",
              "      </script>\n",
              "    </div>\n",
              "  </div>\n",
              "  "
            ]
          },
          "metadata": {},
          "execution_count": 3
        }
      ]
    },
    {
      "cell_type": "code",
      "source": [
        "dataset.tail()"
      ],
      "metadata": {
        "colab": {
          "base_uri": "https://localhost:8080/"
        },
        "id": "A5sDshwTwb4c",
        "outputId": "00f3a7b3-5fab-470a-c32f-f6a75f714f5b"
      },
      "execution_count": null,
      "outputs": [
        {
          "output_type": "execute_result",
          "data": {
            "text/plain": [
              "       CLIENTNUM     Attrition_Flag  Customer_Age Gender  Dependent_count  \\\n",
              "10122  772366833  Existing Customer            50      M                2   \n",
              "10123  710638233  Attrited Customer            41      M                2   \n",
              "10124  716506083  Attrited Customer            44      F                1   \n",
              "10125  717406983  Attrited Customer            30      M                2   \n",
              "10126  714337233  Attrited Customer            43      F                2   \n",
              "\n",
              "      Education_Level Marital_Status Income_Category Card_Category  \\\n",
              "10122        Graduate         Single     $40K - $60K          Blue   \n",
              "10123         Unknown       Divorced     $40K - $60K          Blue   \n",
              "10124     High School        Married  Less than $40K          Blue   \n",
              "10125        Graduate        Unknown     $40K - $60K          Blue   \n",
              "10126        Graduate        Married  Less than $40K        Silver   \n",
              "\n",
              "       Months_on_book  ...  Credit_Limit  Total_Revolving_Bal  \\\n",
              "10122              40  ...        4003.0                 1851   \n",
              "10123              25  ...        4277.0                 2186   \n",
              "10124              36  ...        5409.0                    0   \n",
              "10125              36  ...        5281.0                    0   \n",
              "10126              25  ...       10388.0                 1961   \n",
              "\n",
              "       Avg_Open_To_Buy  Total_Amt_Chng_Q4_Q1  Total_Trans_Amt  Total_Trans_Ct  \\\n",
              "10122           2152.0                 0.703            15476             117   \n",
              "10123           2091.0                 0.804             8764              69   \n",
              "10124           5409.0                 0.819            10291              60   \n",
              "10125           5281.0                 0.535             8395              62   \n",
              "10126           8427.0                 0.703            10294              61   \n",
              "\n",
              "       Total_Ct_Chng_Q4_Q1  Avg_Utilization_Ratio  \\\n",
              "10122                0.857                  0.462   \n",
              "10123                0.683                  0.511   \n",
              "10124                0.818                  0.000   \n",
              "10125                0.722                  0.000   \n",
              "10126                0.649                  0.189   \n",
              "\n",
              "       Naive_Bayes_Classifier_Attrition_Flag_Card_Category_Contacts_Count_12_mon_Dependent_count_Education_Level_Months_Inactive_12_mon_1  \\\n",
              "10122                                           0.000191                                                                                    \n",
              "10123                                           0.995270                                                                                    \n",
              "10124                                           0.997880                                                                                    \n",
              "10125                                           0.996710                                                                                    \n",
              "10126                                           0.996620                                                                                    \n",
              "\n",
              "       Naive_Bayes_Classifier_Attrition_Flag_Card_Category_Contacts_Count_12_mon_Dependent_count_Education_Level_Months_Inactive_12_mon_2  \n",
              "10122                                           0.999810                                                                                   \n",
              "10123                                           0.004729                                                                                   \n",
              "10124                                           0.002118                                                                                   \n",
              "10125                                           0.003294                                                                                   \n",
              "10126                                           0.003377                                                                                   \n",
              "\n",
              "[5 rows x 23 columns]"
            ],
            "text/html": [
              "\n",
              "  <div id=\"df-85760fc2-a344-4014-a3ae-2d3e12145302\">\n",
              "    <div class=\"colab-df-container\">\n",
              "      <div>\n",
              "<style scoped>\n",
              "    .dataframe tbody tr th:only-of-type {\n",
              "        vertical-align: middle;\n",
              "    }\n",
              "\n",
              "    .dataframe tbody tr th {\n",
              "        vertical-align: top;\n",
              "    }\n",
              "\n",
              "    .dataframe thead th {\n",
              "        text-align: right;\n",
              "    }\n",
              "</style>\n",
              "<table border=\"1\" class=\"dataframe\">\n",
              "  <thead>\n",
              "    <tr style=\"text-align: right;\">\n",
              "      <th></th>\n",
              "      <th>CLIENTNUM</th>\n",
              "      <th>Attrition_Flag</th>\n",
              "      <th>Customer_Age</th>\n",
              "      <th>Gender</th>\n",
              "      <th>Dependent_count</th>\n",
              "      <th>Education_Level</th>\n",
              "      <th>Marital_Status</th>\n",
              "      <th>Income_Category</th>\n",
              "      <th>Card_Category</th>\n",
              "      <th>Months_on_book</th>\n",
              "      <th>...</th>\n",
              "      <th>Credit_Limit</th>\n",
              "      <th>Total_Revolving_Bal</th>\n",
              "      <th>Avg_Open_To_Buy</th>\n",
              "      <th>Total_Amt_Chng_Q4_Q1</th>\n",
              "      <th>Total_Trans_Amt</th>\n",
              "      <th>Total_Trans_Ct</th>\n",
              "      <th>Total_Ct_Chng_Q4_Q1</th>\n",
              "      <th>Avg_Utilization_Ratio</th>\n",
              "      <th>Naive_Bayes_Classifier_Attrition_Flag_Card_Category_Contacts_Count_12_mon_Dependent_count_Education_Level_Months_Inactive_12_mon_1</th>\n",
              "      <th>Naive_Bayes_Classifier_Attrition_Flag_Card_Category_Contacts_Count_12_mon_Dependent_count_Education_Level_Months_Inactive_12_mon_2</th>\n",
              "    </tr>\n",
              "  </thead>\n",
              "  <tbody>\n",
              "    <tr>\n",
              "      <th>10122</th>\n",
              "      <td>772366833</td>\n",
              "      <td>Existing Customer</td>\n",
              "      <td>50</td>\n",
              "      <td>M</td>\n",
              "      <td>2</td>\n",
              "      <td>Graduate</td>\n",
              "      <td>Single</td>\n",
              "      <td>$40K - $60K</td>\n",
              "      <td>Blue</td>\n",
              "      <td>40</td>\n",
              "      <td>...</td>\n",
              "      <td>4003.0</td>\n",
              "      <td>1851</td>\n",
              "      <td>2152.0</td>\n",
              "      <td>0.703</td>\n",
              "      <td>15476</td>\n",
              "      <td>117</td>\n",
              "      <td>0.857</td>\n",
              "      <td>0.462</td>\n",
              "      <td>0.000191</td>\n",
              "      <td>0.999810</td>\n",
              "    </tr>\n",
              "    <tr>\n",
              "      <th>10123</th>\n",
              "      <td>710638233</td>\n",
              "      <td>Attrited Customer</td>\n",
              "      <td>41</td>\n",
              "      <td>M</td>\n",
              "      <td>2</td>\n",
              "      <td>Unknown</td>\n",
              "      <td>Divorced</td>\n",
              "      <td>$40K - $60K</td>\n",
              "      <td>Blue</td>\n",
              "      <td>25</td>\n",
              "      <td>...</td>\n",
              "      <td>4277.0</td>\n",
              "      <td>2186</td>\n",
              "      <td>2091.0</td>\n",
              "      <td>0.804</td>\n",
              "      <td>8764</td>\n",
              "      <td>69</td>\n",
              "      <td>0.683</td>\n",
              "      <td>0.511</td>\n",
              "      <td>0.995270</td>\n",
              "      <td>0.004729</td>\n",
              "    </tr>\n",
              "    <tr>\n",
              "      <th>10124</th>\n",
              "      <td>716506083</td>\n",
              "      <td>Attrited Customer</td>\n",
              "      <td>44</td>\n",
              "      <td>F</td>\n",
              "      <td>1</td>\n",
              "      <td>High School</td>\n",
              "      <td>Married</td>\n",
              "      <td>Less than $40K</td>\n",
              "      <td>Blue</td>\n",
              "      <td>36</td>\n",
              "      <td>...</td>\n",
              "      <td>5409.0</td>\n",
              "      <td>0</td>\n",
              "      <td>5409.0</td>\n",
              "      <td>0.819</td>\n",
              "      <td>10291</td>\n",
              "      <td>60</td>\n",
              "      <td>0.818</td>\n",
              "      <td>0.000</td>\n",
              "      <td>0.997880</td>\n",
              "      <td>0.002118</td>\n",
              "    </tr>\n",
              "    <tr>\n",
              "      <th>10125</th>\n",
              "      <td>717406983</td>\n",
              "      <td>Attrited Customer</td>\n",
              "      <td>30</td>\n",
              "      <td>M</td>\n",
              "      <td>2</td>\n",
              "      <td>Graduate</td>\n",
              "      <td>Unknown</td>\n",
              "      <td>$40K - $60K</td>\n",
              "      <td>Blue</td>\n",
              "      <td>36</td>\n",
              "      <td>...</td>\n",
              "      <td>5281.0</td>\n",
              "      <td>0</td>\n",
              "      <td>5281.0</td>\n",
              "      <td>0.535</td>\n",
              "      <td>8395</td>\n",
              "      <td>62</td>\n",
              "      <td>0.722</td>\n",
              "      <td>0.000</td>\n",
              "      <td>0.996710</td>\n",
              "      <td>0.003294</td>\n",
              "    </tr>\n",
              "    <tr>\n",
              "      <th>10126</th>\n",
              "      <td>714337233</td>\n",
              "      <td>Attrited Customer</td>\n",
              "      <td>43</td>\n",
              "      <td>F</td>\n",
              "      <td>2</td>\n",
              "      <td>Graduate</td>\n",
              "      <td>Married</td>\n",
              "      <td>Less than $40K</td>\n",
              "      <td>Silver</td>\n",
              "      <td>25</td>\n",
              "      <td>...</td>\n",
              "      <td>10388.0</td>\n",
              "      <td>1961</td>\n",
              "      <td>8427.0</td>\n",
              "      <td>0.703</td>\n",
              "      <td>10294</td>\n",
              "      <td>61</td>\n",
              "      <td>0.649</td>\n",
              "      <td>0.189</td>\n",
              "      <td>0.996620</td>\n",
              "      <td>0.003377</td>\n",
              "    </tr>\n",
              "  </tbody>\n",
              "</table>\n",
              "<p>5 rows × 23 columns</p>\n",
              "</div>\n",
              "      <button class=\"colab-df-convert\" onclick=\"convertToInteractive('df-85760fc2-a344-4014-a3ae-2d3e12145302')\"\n",
              "              title=\"Convert this dataframe to an interactive table.\"\n",
              "              style=\"display:none;\">\n",
              "        \n",
              "  <svg xmlns=\"http://www.w3.org/2000/svg\" height=\"24px\"viewBox=\"0 0 24 24\"\n",
              "       width=\"24px\">\n",
              "    <path d=\"M0 0h24v24H0V0z\" fill=\"none\"/>\n",
              "    <path d=\"M18.56 5.44l.94 2.06.94-2.06 2.06-.94-2.06-.94-.94-2.06-.94 2.06-2.06.94zm-11 1L8.5 8.5l.94-2.06 2.06-.94-2.06-.94L8.5 2.5l-.94 2.06-2.06.94zm10 10l.94 2.06.94-2.06 2.06-.94-2.06-.94-.94-2.06-.94 2.06-2.06.94z\"/><path d=\"M17.41 7.96l-1.37-1.37c-.4-.4-.92-.59-1.43-.59-.52 0-1.04.2-1.43.59L10.3 9.45l-7.72 7.72c-.78.78-.78 2.05 0 2.83L4 21.41c.39.39.9.59 1.41.59.51 0 1.02-.2 1.41-.59l7.78-7.78 2.81-2.81c.8-.78.8-2.07 0-2.86zM5.41 20L4 18.59l7.72-7.72 1.47 1.35L5.41 20z\"/>\n",
              "  </svg>\n",
              "      </button>\n",
              "      \n",
              "  <style>\n",
              "    .colab-df-container {\n",
              "      display:flex;\n",
              "      flex-wrap:wrap;\n",
              "      gap: 12px;\n",
              "    }\n",
              "\n",
              "    .colab-df-convert {\n",
              "      background-color: #E8F0FE;\n",
              "      border: none;\n",
              "      border-radius: 50%;\n",
              "      cursor: pointer;\n",
              "      display: none;\n",
              "      fill: #1967D2;\n",
              "      height: 32px;\n",
              "      padding: 0 0 0 0;\n",
              "      width: 32px;\n",
              "    }\n",
              "\n",
              "    .colab-df-convert:hover {\n",
              "      background-color: #E2EBFA;\n",
              "      box-shadow: 0px 1px 2px rgba(60, 64, 67, 0.3), 0px 1px 3px 1px rgba(60, 64, 67, 0.15);\n",
              "      fill: #174EA6;\n",
              "    }\n",
              "\n",
              "    [theme=dark] .colab-df-convert {\n",
              "      background-color: #3B4455;\n",
              "      fill: #D2E3FC;\n",
              "    }\n",
              "\n",
              "    [theme=dark] .colab-df-convert:hover {\n",
              "      background-color: #434B5C;\n",
              "      box-shadow: 0px 1px 3px 1px rgba(0, 0, 0, 0.15);\n",
              "      filter: drop-shadow(0px 1px 2px rgba(0, 0, 0, 0.3));\n",
              "      fill: #FFFFFF;\n",
              "    }\n",
              "  </style>\n",
              "\n",
              "      <script>\n",
              "        const buttonEl =\n",
              "          document.querySelector('#df-85760fc2-a344-4014-a3ae-2d3e12145302 button.colab-df-convert');\n",
              "        buttonEl.style.display =\n",
              "          google.colab.kernel.accessAllowed ? 'block' : 'none';\n",
              "\n",
              "        async function convertToInteractive(key) {\n",
              "          const element = document.querySelector('#df-85760fc2-a344-4014-a3ae-2d3e12145302');\n",
              "          const dataTable =\n",
              "            await google.colab.kernel.invokeFunction('convertToInteractive',\n",
              "                                                     [key], {});\n",
              "          if (!dataTable) return;\n",
              "\n",
              "          const docLinkHtml = 'Like what you see? Visit the ' +\n",
              "            '<a target=\"_blank\" href=https://colab.research.google.com/notebooks/data_table.ipynb>data table notebook</a>'\n",
              "            + ' to learn more about interactive tables.';\n",
              "          element.innerHTML = '';\n",
              "          dataTable['output_type'] = 'display_data';\n",
              "          await google.colab.output.renderOutput(dataTable, element);\n",
              "          const docLink = document.createElement('div');\n",
              "          docLink.innerHTML = docLinkHtml;\n",
              "          element.appendChild(docLink);\n",
              "        }\n",
              "      </script>\n",
              "    </div>\n",
              "  </div>\n",
              "  "
            ]
          },
          "metadata": {},
          "execution_count": 4
        }
      ]
    },
    {
      "cell_type": "code",
      "source": [
        "dataset.info()"
      ],
      "metadata": {
        "colab": {
          "base_uri": "https://localhost:8080/"
        },
        "id": "lwxeUVVkwdtU",
        "outputId": "33f5c95c-0889-4ee1-d561-2533402d85aa"
      },
      "execution_count": null,
      "outputs": [
        {
          "output_type": "stream",
          "name": "stdout",
          "text": [
            "<class 'pandas.core.frame.DataFrame'>\n",
            "RangeIndex: 10127 entries, 0 to 10126\n",
            "Data columns (total 23 columns):\n",
            " #   Column                                                                                                                              Non-Null Count  Dtype  \n",
            "---  ------                                                                                                                              --------------  -----  \n",
            " 0   CLIENTNUM                                                                                                                           10127 non-null  int64  \n",
            " 1   Attrition_Flag                                                                                                                      10127 non-null  object \n",
            " 2   Customer_Age                                                                                                                        10127 non-null  int64  \n",
            " 3   Gender                                                                                                                              10127 non-null  object \n",
            " 4   Dependent_count                                                                                                                     10127 non-null  int64  \n",
            " 5   Education_Level                                                                                                                     10127 non-null  object \n",
            " 6   Marital_Status                                                                                                                      10127 non-null  object \n",
            " 7   Income_Category                                                                                                                     10127 non-null  object \n",
            " 8   Card_Category                                                                                                                       10127 non-null  object \n",
            " 9   Months_on_book                                                                                                                      10127 non-null  int64  \n",
            " 10  Total_Relationship_Count                                                                                                            10127 non-null  int64  \n",
            " 11  Months_Inactive_12_mon                                                                                                              10127 non-null  int64  \n",
            " 12  Contacts_Count_12_mon                                                                                                               10127 non-null  int64  \n",
            " 13  Credit_Limit                                                                                                                        10127 non-null  float64\n",
            " 14  Total_Revolving_Bal                                                                                                                 10127 non-null  int64  \n",
            " 15  Avg_Open_To_Buy                                                                                                                     10127 non-null  float64\n",
            " 16  Total_Amt_Chng_Q4_Q1                                                                                                                10127 non-null  float64\n",
            " 17  Total_Trans_Amt                                                                                                                     10127 non-null  int64  \n",
            " 18  Total_Trans_Ct                                                                                                                      10127 non-null  int64  \n",
            " 19  Total_Ct_Chng_Q4_Q1                                                                                                                 10127 non-null  float64\n",
            " 20  Avg_Utilization_Ratio                                                                                                               10127 non-null  float64\n",
            " 21  Naive_Bayes_Classifier_Attrition_Flag_Card_Category_Contacts_Count_12_mon_Dependent_count_Education_Level_Months_Inactive_12_mon_1  10127 non-null  float64\n",
            " 22  Naive_Bayes_Classifier_Attrition_Flag_Card_Category_Contacts_Count_12_mon_Dependent_count_Education_Level_Months_Inactive_12_mon_2  10127 non-null  float64\n",
            "dtypes: float64(7), int64(10), object(6)\n",
            "memory usage: 1.8+ MB\n"
          ]
        }
      ]
    },
    {
      "cell_type": "code",
      "source": [
        "dataset.columns"
      ],
      "metadata": {
        "colab": {
          "base_uri": "https://localhost:8080/"
        },
        "id": "R1S7FHXIxhk5",
        "outputId": "216c1f71-3e89-4fab-f015-6c06eaeb1003"
      },
      "execution_count": null,
      "outputs": [
        {
          "output_type": "execute_result",
          "data": {
            "text/plain": [
              "Index(['CLIENTNUM', 'Attrition_Flag', 'Customer_Age', 'Gender',\n",
              "       'Dependent_count', 'Education_Level', 'Marital_Status',\n",
              "       'Income_Category', 'Card_Category', 'Months_on_book',\n",
              "       'Total_Relationship_Count', 'Months_Inactive_12_mon',\n",
              "       'Contacts_Count_12_mon', 'Credit_Limit', 'Total_Revolving_Bal',\n",
              "       'Avg_Open_To_Buy', 'Total_Amt_Chng_Q4_Q1', 'Total_Trans_Amt',\n",
              "       'Total_Trans_Ct', 'Total_Ct_Chng_Q4_Q1', 'Avg_Utilization_Ratio',\n",
              "       'Naive_Bayes_Classifier_Attrition_Flag_Card_Category_Contacts_Count_12_mon_Dependent_count_Education_Level_Months_Inactive_12_mon_1',\n",
              "       'Naive_Bayes_Classifier_Attrition_Flag_Card_Category_Contacts_Count_12_mon_Dependent_count_Education_Level_Months_Inactive_12_mon_2'],\n",
              "      dtype='object')"
            ]
          },
          "metadata": {},
          "execution_count": 6
        }
      ]
    },
    {
      "cell_type": "code",
      "source": [
        "dataset = dataset.drop(columns=['CLIENTNUM','Naive_Bayes_Classifier_Attrition_Flag_Card_Category_Contacts_Count_12_mon_Dependent_count_Education_Level_Months_Inactive_12_mon_1','Naive_Bayes_Classifier_Attrition_Flag_Card_Category_Contacts_Count_12_mon_Dependent_count_Education_Level_Months_Inactive_12_mon_2'])"
      ],
      "metadata": {
        "id": "aGggofdIx_Sz"
      },
      "execution_count": null,
      "outputs": []
    },
    {
      "cell_type": "code",
      "source": [
        "for col in ['Attrition_Flag','Gender','Education_Level','Marital_Status','Card_Category']:\n",
        "  dataset[col]=dataset[col].str.lower()"
      ],
      "metadata": {
        "id": "K10cpfe31SeT"
      },
      "execution_count": null,
      "outputs": []
    },
    {
      "cell_type": "code",
      "source": [
        "dataset['Attrition_Flag'].value_counts(normalize=True)"
      ],
      "metadata": {
        "colab": {
          "base_uri": "https://localhost:8080/"
        },
        "id": "K-3FNX6J2UDE",
        "outputId": "bbe9d2a3-68af-4e53-9191-caa1780144dd"
      },
      "execution_count": null,
      "outputs": [
        {
          "output_type": "execute_result",
          "data": {
            "text/plain": [
              "existing customer    0.83934\n",
              "attrited customer    0.16066\n",
              "Name: Attrition_Flag, dtype: float64"
            ]
          },
          "metadata": {},
          "execution_count": 9
        }
      ]
    },
    {
      "cell_type": "code",
      "source": [
        "dataset['Gender'].value_counts(normalize=True)"
      ],
      "metadata": {
        "colab": {
          "base_uri": "https://localhost:8080/"
        },
        "id": "1q5dm7tL2eZd",
        "outputId": "94eaad7a-c5d8-43f1-ce97-0e00f2daf4d9"
      },
      "execution_count": null,
      "outputs": [
        {
          "output_type": "execute_result",
          "data": {
            "text/plain": [
              "f    0.529081\n",
              "m    0.470919\n",
              "Name: Gender, dtype: float64"
            ]
          },
          "metadata": {},
          "execution_count": 10
        }
      ]
    },
    {
      "cell_type": "code",
      "source": [
        "dataset['Marital_Status'].value_counts(normalize=True)"
      ],
      "metadata": {
        "colab": {
          "base_uri": "https://localhost:8080/"
        },
        "id": "I_YpcFZ82kLb",
        "outputId": "bf3ba96a-249b-4894-89c0-8ac6b7a16ceb"
      },
      "execution_count": null,
      "outputs": [
        {
          "output_type": "execute_result",
          "data": {
            "text/plain": [
              "married     0.462822\n",
              "single      0.389355\n",
              "unknown     0.073961\n",
              "divorced    0.073862\n",
              "Name: Marital_Status, dtype: float64"
            ]
          },
          "metadata": {},
          "execution_count": 11
        }
      ]
    },
    {
      "cell_type": "code",
      "source": [
        "dataset.duplicated().sum()"
      ],
      "metadata": {
        "colab": {
          "base_uri": "https://localhost:8080/"
        },
        "id": "rOTp4x4423PS",
        "outputId": "765f3513-c69e-4832-f05c-325a9eef1595"
      },
      "execution_count": null,
      "outputs": [
        {
          "output_type": "execute_result",
          "data": {
            "text/plain": [
              "0"
            ]
          },
          "metadata": {},
          "execution_count": 12
        }
      ]
    },
    {
      "cell_type": "code",
      "source": [
        "dataset.isna().sum()"
      ],
      "metadata": {
        "colab": {
          "base_uri": "https://localhost:8080/"
        },
        "id": "kDeVP5a728PK",
        "outputId": "d961b39b-5888-4e4f-d9de-e96873e8ac22"
      },
      "execution_count": null,
      "outputs": [
        {
          "output_type": "execute_result",
          "data": {
            "text/plain": [
              "Attrition_Flag              0\n",
              "Customer_Age                0\n",
              "Gender                      0\n",
              "Dependent_count             0\n",
              "Education_Level             0\n",
              "Marital_Status              0\n",
              "Income_Category             0\n",
              "Card_Category               0\n",
              "Months_on_book              0\n",
              "Total_Relationship_Count    0\n",
              "Months_Inactive_12_mon      0\n",
              "Contacts_Count_12_mon       0\n",
              "Credit_Limit                0\n",
              "Total_Revolving_Bal         0\n",
              "Avg_Open_To_Buy             0\n",
              "Total_Amt_Chng_Q4_Q1        0\n",
              "Total_Trans_Amt             0\n",
              "Total_Trans_Ct              0\n",
              "Total_Ct_Chng_Q4_Q1         0\n",
              "Avg_Utilization_Ratio       0\n",
              "dtype: int64"
            ]
          },
          "metadata": {},
          "execution_count": 13
        }
      ]
    },
    {
      "cell_type": "markdown",
      "source": [
        "##### Conclusión\n",
        "Gracias a la exploración inicial de la base de datos se puede observar que es una base con 5 filas y 23 columnas, de las cuales hay 5 categóricas que posteriormente se transformaron a minúsculas, se hizo la eliminación de tres columnas ya que no tenían relevancia dentro del análisis buscado y se buscaron duplicados dentro de la base, de los cuales no se encontró presencia, así como tampoco se encontraron missing values.\n"
      ],
      "metadata": {
        "id": "cecjXbevQUen"
      }
    },
    {
      "cell_type": "markdown",
      "source": [
        "#### Visualización de distribuciones y de proporciones"
      ],
      "metadata": {
        "id": "RUR_uR1J3Cxa"
      }
    },
    {
      "cell_type": "markdown",
      "source": [
        "###### Distribución y proporción de variables categóricas "
      ],
      "metadata": {
        "id": "fZsoCe-ao-68"
      }
    },
    {
      "cell_type": "code",
      "source": [
        "dataset['Attrition_Flag'].value_counts().plot(kind='bar')"
      ],
      "metadata": {
        "colab": {
          "base_uri": "https://localhost:8080/"
        },
        "id": "a7B29oWb3E2q",
        "outputId": "bbbbce43-a7b1-4fce-d851-aa37191b742b"
      },
      "execution_count": null,
      "outputs": [
        {
          "output_type": "execute_result",
          "data": {
            "text/plain": [
              "<AxesSubplot:>"
            ]
          },
          "metadata": {},
          "execution_count": 14
        },
        {
          "output_type": "display_data",
          "data": {
            "text/plain": [
              "<Figure size 432x288 with 1 Axes>"
            ],
            "image/png": "[encoded data removed]"
          },
          "metadata": {
            "needs_background": "light"
          }
        }
      ]
    },
    {
      "cell_type": "code",
      "source": [
        "dataset['Gender'].value_counts().plot(kind='bar')"
      ],
      "metadata": {
        "colab": {
          "base_uri": "https://localhost:8080/"
        },
        "id": "7CglToHP4DwX",
        "outputId": "1a9f71da-7382-4587-e994-78cd7664ee8d"
      },
      "execution_count": null,
      "outputs": [
        {
          "output_type": "execute_result",
          "data": {
            "text/plain": [
              "<AxesSubplot:>"
            ]
          },
          "metadata": {},
          "execution_count": 15
        },
        {
          "output_type": "display_data",
          "data": {
            "text/plain": [
              "<Figure size 432x288 with 1 Axes>"
            ],
            "image/png": "[encoded data removed]"
          },
          "metadata": {
            "needs_background": "light"
          }
        }
      ]
    },
    {
      "cell_type": "code",
      "source": [
        "dataset['Dependent_count'].value_counts().plot(kind='bar')"
      ],
      "metadata": {
        "colab": {
          "base_uri": "https://localhost:8080/"
        },
        "id": "NtFW4deF4WIG",
        "outputId": "1492f424-4905-4ff3-f8eb-04cfeb98cc3e"
      },
      "execution_count": null,
      "outputs": [
        {
          "output_type": "execute_result",
          "data": {
            "text/plain": [
              "<AxesSubplot:>"
            ]
          },
          "metadata": {},
          "execution_count": 16
        },
        {
          "output_type": "display_data",
          "data": {
            "text/plain": [
              "<Figure size 432x288 with 1 Axes>"
            ],
            "image/png": "[encoded data removed]"
          },
          "metadata": {
            "needs_background": "light"
          }
        }
      ]
    },
    {
      "cell_type": "code",
      "source": [
        "dataset['Education_Level'].value_counts().plot(kind='bar',stacked=True)"
      ],
      "metadata": {
        "colab": {
          "base_uri": "https://localhost:8080/"
        },
        "id": "FZjm7aIp4gx2",
        "outputId": "47e30399-2726-4afb-8a12-18308970be7d"
      },
      "execution_count": null,
      "outputs": [
        {
          "output_type": "execute_result",
          "data": {
            "text/plain": [
              "<AxesSubplot:>"
            ]
          },
          "metadata": {},
          "execution_count": 17
        },
        {
          "output_type": "display_data",
          "data": {
            "text/plain": [
              "<Figure size 432x288 with 1 Axes>"
            ],
            "image/png": "[encoded data removed]"
          },
          "metadata": {
            "needs_background": "light"
          }
        }
      ]
    },
    {
      "cell_type": "code",
      "source": [
        "dataset['Marital_Status'].value_counts().plot(kind='bar')"
      ],
      "metadata": {
        "colab": {
          "base_uri": "https://localhost:8080/"
        },
        "id": "1JB7tI7lp6hv",
        "outputId": "b2a8cd13-c3a6-42ff-a73b-935b0e5cc592"
      },
      "execution_count": null,
      "outputs": [
        {
          "output_type": "execute_result",
          "data": {
            "text/plain": [
              "<AxesSubplot:>"
            ]
          },
          "metadata": {},
          "execution_count": 18
        },
        {
          "output_type": "display_data",
          "data": {
            "text/plain": [
              "<Figure size 432x288 with 1 Axes>"
            ],
            "image/png": "[encoded data removed]"
          },
          "metadata": {
            "needs_background": "light"
          }
        }
      ]
    },
    {
      "cell_type": "code",
      "source": [
        "dataset['Income_Category'].value_counts().plot(kind='bar')"
      ],
      "metadata": {
        "colab": {
          "base_uri": "https://localhost:8080/"
        },
        "id": "lVDy3f3RqPHD",
        "outputId": "81b53772-e0f5-4b20-d372-ad5d7f1dc610"
      },
      "execution_count": null,
      "outputs": [
        {
          "output_type": "execute_result",
          "data": {
            "text/plain": [
              "<AxesSubplot:>"
            ]
          },
          "metadata": {},
          "execution_count": 19
        },
        {
          "output_type": "display_data",
          "data": {
            "text/plain": [
              "<Figure size 432x288 with 1 Axes>"
            ],
            "image/png": "[encoded data removed]"
          },
          "metadata": {
            "needs_background": "light"
          }
        }
      ]
    },
    {
      "cell_type": "code",
      "source": [
        "dataset['Card_Category'].value_counts().plot(kind='bar')"
      ],
      "metadata": {
        "colab": {
          "base_uri": "https://localhost:8080/"
        },
        "id": "r4N0aL_jqbTC",
        "outputId": "18e25745-af86-4667-d00b-cd32763e1828"
      },
      "execution_count": null,
      "outputs": [
        {
          "output_type": "execute_result",
          "data": {
            "text/plain": [
              "<AxesSubplot:>"
            ]
          },
          "metadata": {},
          "execution_count": 20
        },
        {
          "output_type": "display_data",
          "data": {
            "text/plain": [
              "<Figure size 432x288 with 1 Axes>"
            ],
            "image/png": "[encoded data removed]"
          },
          "metadata": {
            "needs_background": "light"
          }
        }
      ]
    },
    {
      "cell_type": "markdown",
      "source": [
        "###### Distribución y proporción de variables númericas"
      ],
      "metadata": {
        "id": "NydvPLm5pm80"
      }
    },
    {
      "cell_type": "code",
      "source": [
        "dataset['Customer_Age'].hist()"
      ],
      "metadata": {
        "colab": {
          "base_uri": "https://localhost:8080/"
        },
        "id": "qoBDpz-k38ng",
        "outputId": "dc33b23d-b343-40ed-d104-47a8727773a1"
      },
      "execution_count": null,
      "outputs": [
        {
          "output_type": "execute_result",
          "data": {
            "text/plain": [
              "<AxesSubplot:>"
            ]
          },
          "metadata": {},
          "execution_count": 21
        },
        {
          "output_type": "display_data",
          "data": {
            "text/plain": [
              "<Figure size 432x288 with 1 Axes>"
            ],
            "image/png": "[encoded data removed]"
          },
          "metadata": {
            "needs_background": "light"
          }
        }
      ]
    },
    {
      "cell_type": "code",
      "source": [
        "dataset['Total_Relationship_Count'].hist()"
      ],
      "metadata": {
        "colab": {
          "base_uri": "https://localhost:8080/"
        },
        "id": "BaST1ckXrZQm",
        "outputId": "0d5a773d-8095-484b-a053-dea4fa766b9f"
      },
      "execution_count": null,
      "outputs": [
        {
          "output_type": "execute_result",
          "data": {
            "text/plain": [
              "<AxesSubplot:>"
            ]
          },
          "metadata": {},
          "execution_count": 22
        },
        {
          "output_type": "display_data",
          "data": {
            "text/plain": [
              "<Figure size 432x288 with 1 Axes>"
            ],
            "image/png": "[encoded data removed]"
          },
          "metadata": {
            "needs_background": "light"
          }
        }
      ]
    },
    {
      "cell_type": "code",
      "source": [
        "dataset['Months_Inactive_12_mon'].hist()"
      ],
      "metadata": {
        "colab": {
          "base_uri": "https://localhost:8080/"
        },
        "id": "EsjeASWmrzkt",
        "outputId": "4d9b1543-5ada-47f4-f6c8-fa7924c2a6e0"
      },
      "execution_count": null,
      "outputs": [
        {
          "output_type": "execute_result",
          "data": {
            "text/plain": [
              "<AxesSubplot:>"
            ]
          },
          "metadata": {},
          "execution_count": 23
        },
        {
          "output_type": "display_data",
          "data": {
            "text/plain": [
              "<Figure size 432x288 with 1 Axes>"
            ],
            "image/png": "[encoded data removed]"
          },
          "metadata": {
            "needs_background": "light"
          }
        }
      ]
    },
    {
      "cell_type": "code",
      "source": [
        "dataset['Contacts_Count_12_mon'].hist()"
      ],
      "metadata": {
        "colab": {
          "base_uri": "https://localhost:8080/"
        },
        "id": "B0YqbKqTsJEw",
        "outputId": "34e83136-e5c6-4eef-ecd0-5416baf8f659"
      },
      "execution_count": null,
      "outputs": [
        {
          "output_type": "execute_result",
          "data": {
            "text/plain": [
              "<AxesSubplot:>"
            ]
          },
          "metadata": {},
          "execution_count": 24
        },
        {
          "output_type": "display_data",
          "data": {
            "text/plain": [
              "<Figure size 432x288 with 1 Axes>"
            ],
            "image/png": "[encoded data removed]"
          },
          "metadata": {
            "needs_background": "light"
          }
        }
      ]
    },
    {
      "cell_type": "code",
      "source": [
        "dataset['Credit_Limit'].hist()"
      ],
      "metadata": {
        "colab": {
          "base_uri": "https://localhost:8080/"
        },
        "id": "uMw9uwEMsSNX",
        "outputId": "6dd1154c-cac4-4472-da04-ce4fbcff52dd"
      },
      "execution_count": null,
      "outputs": [
        {
          "output_type": "execute_result",
          "data": {
            "text/plain": [
              "<AxesSubplot:>"
            ]
          },
          "metadata": {},
          "execution_count": 25
        },
        {
          "output_type": "display_data",
          "data": {
            "text/plain": [
              "<Figure size 432x288 with 1 Axes>"
            ],
            "image/png": "[encoded data removed]"
          },
          "metadata": {
            "needs_background": "light"
          }
        }
      ]
    },
    {
      "cell_type": "code",
      "source": [
        "dataset['Total_Amt_Chng_Q4_Q1'].hist()"
      ],
      "metadata": {
        "colab": {
          "base_uri": "https://localhost:8080/"
        },
        "id": "RGmw7b44s4OR",
        "outputId": "06ba14bf-a1d4-42d3-f5fe-ae0e03d30bc5"
      },
      "execution_count": null,
      "outputs": [
        {
          "output_type": "execute_result",
          "data": {
            "text/plain": [
              "<AxesSubplot:>"
            ]
          },
          "metadata": {},
          "execution_count": 28
        },
        {
          "output_type": "display_data",
          "data": {
            "text/plain": [
              "<Figure size 432x288 with 1 Axes>"
            ],
            "image/png": "[encoded data removed]"
          },
          "metadata": {
            "needs_background": "light"
          }
        }
      ]
    },
    {
      "cell_type": "code",
      "source": [
        "dataset['Total_Trans_Amt'].hist()"
      ],
      "metadata": {
        "colab": {
          "base_uri": "https://localhost:8080/"
        },
        "id": "SYPtHaZTuRC5",
        "outputId": "6a74467c-7936-460d-d692-e210deacb523"
      },
      "execution_count": null,
      "outputs": [
        {
          "output_type": "execute_result",
          "data": {
            "text/plain": [
              "<AxesSubplot:>"
            ]
          },
          "metadata": {},
          "execution_count": 29
        },
        {
          "output_type": "display_data",
          "data": {
            "text/plain": [
              "<Figure size 432x288 with 1 Axes>"
            ],
            "image/png": "[encoded data removed]"
          },
          "metadata": {
            "needs_background": "light"
          }
        }
      ]
    },
    {
      "cell_type": "code",
      "source": [
        "dataset['Total_Trans_Ct'].hist()"
      ],
      "metadata": {
        "colab": {
          "base_uri": "https://localhost:8080/"
        },
        "id": "qopfd3ZxugsO",
        "outputId": "541ca474-b5fa-4f41-bea7-c72e8f2aeb6c"
      },
      "execution_count": null,
      "outputs": [
        {
          "output_type": "execute_result",
          "data": {
            "text/plain": [
              "<AxesSubplot:>"
            ]
          },
          "metadata": {},
          "execution_count": 30
        },
        {
          "output_type": "display_data",
          "data": {
            "text/plain": [
              "<Figure size 432x288 with 1 Axes>"
            ],
            "image/png": "[encoded data removed]"
          },
          "metadata": {
            "needs_background": "light"
          }
        }
      ]
    },
    {
      "cell_type": "code",
      "source": [
        "dataset['Total_Ct_Chng_Q4_Q1'].hist()"
      ],
      "metadata": {
        "colab": {
          "base_uri": "https://localhost:8080/"
        },
        "id": "x-UGcgD0ug1Z",
        "outputId": "142cd88b-cd9a-4bb1-8c9f-9b633e464ef6"
      },
      "execution_count": null,
      "outputs": [
        {
          "output_type": "execute_result",
          "data": {
            "text/plain": [
              "<AxesSubplot:>"
            ]
          },
          "metadata": {},
          "execution_count": 31
        },
        {
          "output_type": "display_data",
          "data": {
            "text/plain": [
              "<Figure size 432x288 with 1 Axes>"
            ],
            "image/png": "[encoded data removed]"
          },
          "metadata": {
            "needs_background": "light"
          }
        }
      ]
    },
    {
      "cell_type": "code",
      "source": [
        "dataset['Avg_Utilization_Ratio'].hist()"
      ],
      "metadata": {
        "colab": {
          "base_uri": "https://localhost:8080/"
        },
        "id": "7bwP0aYsumlc",
        "outputId": "69b7ca8c-b218-4f94-caa3-56d9f11a02de"
      },
      "execution_count": null,
      "outputs": [
        {
          "output_type": "execute_result",
          "data": {
            "text/plain": [
              "<AxesSubplot:>"
            ]
          },
          "metadata": {},
          "execution_count": 32
        },
        {
          "output_type": "display_data",
          "data": {
            "text/plain": [
              "<Figure size 432x288 with 1 Axes>"
            ],
            "image/png": "[encoded data removed]"
          },
          "metadata": {
            "needs_background": "light"
          }
        }
      ]
    },
    {
      "cell_type": "markdown",
      "source": [
        "##### Conclusión\n",
        "Inicialmente se puede observar que en Attrition flag hay una carga positiva de distribución en los clientes existentes en comparación a los individuos que han desertado, para el caso del género existe una distribución relativamente proporcional entre los dos géneros con una leve inclinación mayor en el género femenino, por otro lado se puede evidenciar una tendencia negativa en el uso de tarjetas de crédito cuando se tiene un mayor número de dependent y de forma similar, en cuanto a los niveles educacionales se puede evidenciar que entre más alto es el nivel educativo, más se hace uso de tarjetas de crédito. Sin embargo, se ve una distribución con tendencia negativa y relación inversa entre el ingreso y el uso de tarjetas, ya que entre más ingresos tienen los individuos menos uso hacen de estás. En contraste a todo lo anterior se logra evidenciar una distribución normal en la edad de los clientes, respecto a la cantidad de productos financieros de cada individuo se puede notar que en promedio la gente tiene entre 3 y 6 productos financieros, teniendo así un sesgo hacía la derecha, en cuanto al límite de crédito se evidencia una distribución con sesgo hacía la izquierda ya que la mayoría de individuos tiene un límite medianamente inferior.\n"
      ],
      "metadata": {
        "id": "VGvGwQJ8QlvR"
      }
    },
    {
      "cell_type": "markdown",
      "source": [
        "#### Visualización de relaciones"
      ],
      "metadata": {
        "id": "QcWnsLcV4rvd"
      }
    },
    {
      "cell_type": "code",
      "source": [
        "dataset.boxplot(column='Customer_Age', by='Attrition_Flag')"
      ],
      "metadata": {
        "colab": {
          "base_uri": "https://localhost:8080/",
          "height": 319
        },
        "id": "9pmUkvpN52K4",
        "outputId": "942b5136-212b-475b-858c-3a9aa3789091"
      },
      "execution_count": null,
      "outputs": [
        {
          "output_type": "execute_result",
          "data": {
            "text/plain": [
              "<AxesSubplot:title={'center':'Customer_Age'}, xlabel='Attrition_Flag'>"
            ]
          },
          "metadata": {},
          "execution_count": 33
        },
        {
          "output_type": "display_data",
          "data": {
            "text/plain": [
              "<Figure size 432x288 with 1 Axes>"
            ],
            "image/png": "[encoded data removed]"
          },
          "metadata": {
            "needs_background": "light"
          }
        }
      ]
    },
    {
      "cell_type": "code",
      "source": [
        "dataset[['Education_Level','Attrition_Flag']].value_counts().reset_index().pivot_table(columns=['Attrition_Flag'], \n",
        "                     index='Education_Level',values=0).plot.bar(stacked=True)"
      ],
      "metadata": {
        "colab": {
          "base_uri": "https://localhost:8080/",
          "height": 358
        },
        "id": "0SWHh8Fk605s",
        "outputId": "690e5079-5f47-467f-a097-39271ec70e79"
      },
      "execution_count": null,
      "outputs": [
        {
          "output_type": "execute_result",
          "data": {
            "text/plain": [
              "<AxesSubplot:xlabel='Education_Level'>"
            ]
          },
          "metadata": {},
          "execution_count": 34
        },
        {
          "output_type": "display_data",
          "data": {
            "text/plain": [
              "<Figure size 432x288 with 1 Axes>"
            ],
            "image/png": "[encoded data removed]"
          },
          "metadata": {
            "needs_background": "light"
          }
        }
      ]
    },
    {
      "cell_type": "code",
      "source": [
        "dataset[['Gender','Attrition_Flag']].value_counts().reset_index().pivot_table(columns=['Attrition_Flag'], \n",
        "                     index='Gender',values=0).plot.bar(stacked=True)"
      ],
      "metadata": {
        "colab": {
          "base_uri": "https://localhost:8080/",
          "height": 296
        },
        "id": "dLgGVptqyae4",
        "outputId": "340e8e2c-d8e1-4f73-97b2-cf1df97759ed"
      },
      "execution_count": null,
      "outputs": [
        {
          "output_type": "execute_result",
          "data": {
            "text/plain": [
              "<AxesSubplot:xlabel='Gender'>"
            ]
          },
          "metadata": {},
          "execution_count": 35
        },
        {
          "output_type": "display_data",
          "data": {
            "text/plain": [
              "<Figure size 432x288 with 1 Axes>"
            ],
            "image/png": "[encoded data removed]"
          },
          "metadata": {
            "needs_background": "light"
          }
        }
      ]
    },
    {
      "cell_type": "code",
      "source": [
        "dataset[['Dependent_count','Attrition_Flag']].value_counts().reset_index().pivot_table(columns=['Attrition_Flag'], \n",
        "                     index='Dependent_count',values=0).plot.bar(stacked=True)"
      ],
      "metadata": {
        "colab": {
          "base_uri": "https://localhost:8080/",
          "height": 294
        },
        "id": "Ld2hZCAxzhCe",
        "outputId": "5c11c8f4-482e-40e3-dd21-79b393ddf2e3"
      },
      "execution_count": null,
      "outputs": [
        {
          "output_type": "execute_result",
          "data": {
            "text/plain": [
              "<AxesSubplot:xlabel='Dependent_count'>"
            ]
          },
          "metadata": {},
          "execution_count": 36
        },
        {
          "output_type": "display_data",
          "data": {
            "text/plain": [
              "<Figure size 432x288 with 1 Axes>"
            ],
            "image/png": "[encoded data removed]"
          },
          "metadata": {
            "needs_background": "light"
          }
        }
      ]
    },
    {
      "cell_type": "code",
      "source": [
        "dataset[['Marital_Status','Attrition_Flag']].value_counts().reset_index().pivot_table(columns=['Attrition_Flag'], \n",
        "                     index='Marital_Status',values=0).plot.bar(stacked=True)"
      ],
      "metadata": {
        "colab": {
          "base_uri": "https://localhost:8080/",
          "height": 333
        },
        "id": "38ZvAaLFzyXF",
        "outputId": "f41b0972-9f91-4ab1-ed9f-628a7c2b4eb5"
      },
      "execution_count": null,
      "outputs": [
        {
          "output_type": "execute_result",
          "data": {
            "text/plain": [
              "<AxesSubplot:xlabel='Marital_Status'>"
            ]
          },
          "metadata": {},
          "execution_count": 37
        },
        {
          "output_type": "display_data",
          "data": {
            "text/plain": [
              "<Figure size 432x288 with 1 Axes>"
            ],
            "image/png": "[encoded data removed]"
          },
          "metadata": {
            "needs_background": "light"
          }
        }
      ]
    },
    {
      "cell_type": "code",
      "source": [
        "dataset[['Income_Category','Attrition_Flag']].value_counts().reset_index().pivot_table(columns=['Attrition_Flag'], \n",
        "                     index='Income_Category',values=0).plot.bar(stacked=True)"
      ],
      "metadata": {
        "colab": {
          "base_uri": "https://localhost:8080/",
          "height": 364
        },
        "id": "s9xa2NAez7zc",
        "outputId": "a21beae7-7a32-4f6f-f168-9ac45114df58"
      },
      "execution_count": null,
      "outputs": [
        {
          "output_type": "execute_result",
          "data": {
            "text/plain": [
              "<AxesSubplot:xlabel='Income_Category'>"
            ]
          },
          "metadata": {},
          "execution_count": 38
        },
        {
          "output_type": "display_data",
          "data": {
            "text/plain": [
              "<Figure size 432x288 with 1 Axes>"
            ],
            "image/png": "[encoded data removed]"
          },
          "metadata": {
            "needs_background": "light"
          }
        }
      ]
    },
    {
      "cell_type": "code",
      "source": [
        "dataset[['Card_Category','Attrition_Flag']].value_counts().reset_index().pivot_table(columns=['Attrition_Flag'], \n",
        "                     index='Card_Category',values=0).plot.bar(stacked=True)"
      ],
      "metadata": {
        "colab": {
          "base_uri": "https://localhost:8080/",
          "height": 332
        },
        "id": "vQ0UwCVh0EAd",
        "outputId": "7edc3454-8a57-428d-cc31-82df934ace04"
      },
      "execution_count": null,
      "outputs": [
        {
          "output_type": "execute_result",
          "data": {
            "text/plain": [
              "<AxesSubplot:xlabel='Card_Category'>"
            ]
          },
          "metadata": {},
          "execution_count": 39
        },
        {
          "output_type": "display_data",
          "data": {
            "text/plain": [
              "<Figure size 432x288 with 1 Axes>"
            ],
            "image/png": "[encoded data removed]"
          },
          "metadata": {
            "needs_background": "light"
          }
        }
      ]
    },
    {
      "cell_type": "code",
      "source": [
        "dataset.boxplot(column='Months_on_book', by='Attrition_Flag')"
      ],
      "metadata": {
        "colab": {
          "base_uri": "https://localhost:8080/",
          "height": 319
        },
        "id": "aCiBUdjS0iJK",
        "outputId": "ab7ae1f9-bfb7-46c4-f208-39d9c042d51e"
      },
      "execution_count": null,
      "outputs": [
        {
          "output_type": "execute_result",
          "data": {
            "text/plain": [
              "<AxesSubplot:title={'center':'Months_on_book'}, xlabel='Attrition_Flag'>"
            ]
          },
          "metadata": {},
          "execution_count": 40
        },
        {
          "output_type": "display_data",
          "data": {
            "text/plain": [
              "<Figure size 432x288 with 1 Axes>"
            ],
            "image/png": "[encoded data removed]"
          },
          "metadata": {
            "needs_background": "light"
          }
        }
      ]
    },
    {
      "cell_type": "code",
      "source": [
        "dataset.boxplot(column='Total_Relationship_Count', by='Attrition_Flag')"
      ],
      "metadata": {
        "colab": {
          "base_uri": "https://localhost:8080/",
          "height": 319
        },
        "id": "EwxREmc90wLJ",
        "outputId": "fc7fe312-5cec-4fcc-d9fc-5245ddda106f"
      },
      "execution_count": null,
      "outputs": [
        {
          "output_type": "execute_result",
          "data": {
            "text/plain": [
              "<AxesSubplot:title={'center':'Total_Relationship_Count'}, xlabel='Attrition_Flag'>"
            ]
          },
          "metadata": {},
          "execution_count": 41
        },
        {
          "output_type": "display_data",
          "data": {
            "text/plain": [
              "<Figure size 432x288 with 1 Axes>"
            ],
            "image/png": "[encoded data removed]"
          },
          "metadata": {
            "needs_background": "light"
          }
        }
      ]
    },
    {
      "cell_type": "code",
      "source": [
        "dataset.boxplot(column='Months_Inactive_12_mon', by='Attrition_Flag')"
      ],
      "metadata": {
        "colab": {
          "base_uri": "https://localhost:8080/",
          "height": 319
        },
        "id": "BoUIpGfH02aq",
        "outputId": "882d3a28-a253-45c7-c78a-74a343af747a"
      },
      "execution_count": null,
      "outputs": [
        {
          "output_type": "execute_result",
          "data": {
            "text/plain": [
              "<AxesSubplot:title={'center':'Months_Inactive_12_mon'}, xlabel='Attrition_Flag'>"
            ]
          },
          "metadata": {},
          "execution_count": 42
        },
        {
          "output_type": "display_data",
          "data": {
            "text/plain": [
              "<Figure size 432x288 with 1 Axes>"
            ],
            "image/png": "[encoded data removed]"
          },
          "metadata": {
            "needs_background": "light"
          }
        }
      ]
    },
    {
      "cell_type": "code",
      "source": [
        "dataset.boxplot(column='Contacts_Count_12_mon', by='Attrition_Flag')"
      ],
      "metadata": {
        "colab": {
          "base_uri": "https://localhost:8080/",
          "height": 319
        },
        "id": "Z7rY3A0W0-mA",
        "outputId": "389340d9-94c2-41b0-ed30-ac0fca7f46c3"
      },
      "execution_count": null,
      "outputs": [
        {
          "output_type": "execute_result",
          "data": {
            "text/plain": [
              "<AxesSubplot:title={'center':'Contacts_Count_12_mon'}, xlabel='Attrition_Flag'>"
            ]
          },
          "metadata": {},
          "execution_count": 43
        },
        {
          "output_type": "display_data",
          "data": {
            "text/plain": [
              "<Figure size 432x288 with 1 Axes>"
            ],
            "image/png": "[encoded data removed]"
          },
          "metadata": {
            "needs_background": "light"
          }
        }
      ]
    },
    {
      "cell_type": "code",
      "source": [
        "dataset.boxplot(column='Credit_Limit', by='Attrition_Flag')"
      ],
      "metadata": {
        "colab": {
          "base_uri": "https://localhost:8080/",
          "height": 319
        },
        "id": "S0Q79PU71Fy1",
        "outputId": "5d09894d-a90f-4f9a-fd4b-f297dffba915"
      },
      "execution_count": null,
      "outputs": [
        {
          "output_type": "execute_result",
          "data": {
            "text/plain": [
              "<AxesSubplot:title={'center':'Credit_Limit'}, xlabel='Attrition_Flag'>"
            ]
          },
          "metadata": {},
          "execution_count": 44
        },
        {
          "output_type": "display_data",
          "data": {
            "text/plain": [
              "<Figure size 432x288 with 1 Axes>"
            ],
            "image/png": "[encoded data removed]"
          },
          "metadata": {
            "needs_background": "light"
          }
        }
      ]
    },
    {
      "cell_type": "code",
      "source": [
        "dataset.boxplot(column='Total_Revolving_Bal', by='Attrition_Flag')"
      ],
      "metadata": {
        "colab": {
          "base_uri": "https://localhost:8080/",
          "height": 319
        },
        "id": "yN_FhB4H1JkB",
        "outputId": "018cd664-a49c-4620-a10c-df7d9dff4f31"
      },
      "execution_count": null,
      "outputs": [
        {
          "output_type": "execute_result",
          "data": {
            "text/plain": [
              "<AxesSubplot:title={'center':'Total_Revolving_Bal'}, xlabel='Attrition_Flag'>"
            ]
          },
          "metadata": {},
          "execution_count": 45
        },
        {
          "output_type": "display_data",
          "data": {
            "text/plain": [
              "<Figure size 432x288 with 1 Axes>"
            ],
            "image/png": "[encoded data removed]"
          },
          "metadata": {
            "needs_background": "light"
          }
        }
      ]
    },
    {
      "cell_type": "code",
      "source": [
        "dataset.boxplot(column='Avg_Open_To_Buy', by='Attrition_Flag')"
      ],
      "metadata": {
        "colab": {
          "base_uri": "https://localhost:8080/",
          "height": 319
        },
        "id": "Pgkalf0r1RaA",
        "outputId": "4256006a-0ac4-4e56-8ef0-1fb8a1166491"
      },
      "execution_count": null,
      "outputs": [
        {
          "output_type": "execute_result",
          "data": {
            "text/plain": [
              "<AxesSubplot:title={'center':'Avg_Open_To_Buy'}, xlabel='Attrition_Flag'>"
            ]
          },
          "metadata": {},
          "execution_count": 46
        },
        {
          "output_type": "display_data",
          "data": {
            "text/plain": [
              "<Figure size 432x288 with 1 Axes>"
            ],
            "image/png": "[encoded data removed]"
          },
          "metadata": {
            "needs_background": "light"
          }
        }
      ]
    },
    {
      "cell_type": "code",
      "source": [
        "dataset.boxplot(column='Total_Amt_Chng_Q4_Q1', by='Attrition_Flag')"
      ],
      "metadata": {
        "colab": {
          "base_uri": "https://localhost:8080/",
          "height": 319
        },
        "id": "Qtz1r7Ai1WrY",
        "outputId": "eefa21eb-736b-4174-c2dd-54149d95441b"
      },
      "execution_count": null,
      "outputs": [
        {
          "output_type": "execute_result",
          "data": {
            "text/plain": [
              "<AxesSubplot:title={'center':'Total_Amt_Chng_Q4_Q1'}, xlabel='Attrition_Flag'>"
            ]
          },
          "metadata": {},
          "execution_count": 47
        },
        {
          "output_type": "display_data",
          "data": {
            "text/plain": [
              "<Figure size 432x288 with 1 Axes>"
            ],
            "image/png": "[encoded data removed]"
          },
          "metadata": {
            "needs_background": "light"
          }
        }
      ]
    },
    {
      "cell_type": "code",
      "source": [
        "dataset.boxplot(column='Total_Trans_Amt', by='Attrition_Flag')"
      ],
      "metadata": {
        "colab": {
          "base_uri": "https://localhost:8080/",
          "height": 319
        },
        "id": "-_AKj-521dRS",
        "outputId": "e7f78679-15e7-4a65-9464-b81a1b8f4e0e"
      },
      "execution_count": null,
      "outputs": [
        {
          "output_type": "execute_result",
          "data": {
            "text/plain": [
              "<AxesSubplot:title={'center':'Total_Trans_Amt'}, xlabel='Attrition_Flag'>"
            ]
          },
          "metadata": {},
          "execution_count": 48
        },
        {
          "output_type": "display_data",
          "data": {
            "text/plain": [
              "<Figure size 432x288 with 1 Axes>"
            ],
            "image/png": "[encoded data removed]"
          },
          "metadata": {
            "needs_background": "light"
          }
        }
      ]
    },
    {
      "cell_type": "code",
      "source": [
        "dataset.boxplot(column='Total_Trans_Ct', by='Attrition_Flag')"
      ],
      "metadata": {
        "colab": {
          "base_uri": "https://localhost:8080/",
          "height": 319
        },
        "id": "_AIvysjI1iWs",
        "outputId": "e99845bf-1094-4ffe-e0b9-8f556560d49a"
      },
      "execution_count": null,
      "outputs": [
        {
          "output_type": "execute_result",
          "data": {
            "text/plain": [
              "<AxesSubplot:title={'center':'Total_Trans_Ct'}, xlabel='Attrition_Flag'>"
            ]
          },
          "metadata": {},
          "execution_count": 49
        },
        {
          "output_type": "display_data",
          "data": {
            "text/plain": [
              "<Figure size 432x288 with 1 Axes>"
            ],
            "image/png": "[encoded data removed]"
          },
          "metadata": {
            "needs_background": "light"
          }
        }
      ]
    },
    {
      "cell_type": "code",
      "source": [
        "dataset.boxplot(column='Total_Ct_Chng_Q4_Q1', by='Attrition_Flag')"
      ],
      "metadata": {
        "colab": {
          "base_uri": "https://localhost:8080/",
          "height": 319
        },
        "id": "jHZ450I51l4O",
        "outputId": "8a111240-7a3f-4d47-c7e9-2a700a60cc57"
      },
      "execution_count": null,
      "outputs": [
        {
          "output_type": "execute_result",
          "data": {
            "text/plain": [
              "<AxesSubplot:title={'center':'Total_Ct_Chng_Q4_Q1'}, xlabel='Attrition_Flag'>"
            ]
          },
          "metadata": {},
          "execution_count": 50
        },
        {
          "output_type": "display_data",
          "data": {
            "text/plain": [
              "<Figure size 432x288 with 1 Axes>"
            ],
            "image/png": "[encoded data removed]"
          },
          "metadata": {
            "needs_background": "light"
          }
        }
      ]
    },
    {
      "cell_type": "code",
      "source": [
        "dataset.boxplot(column='Avg_Utilization_Ratio', by='Attrition_Flag')"
      ],
      "metadata": {
        "colab": {
          "base_uri": "https://localhost:8080/",
          "height": 319
        },
        "id": "dL2v3XUc1t68",
        "outputId": "4ac3375e-a349-4478-aad6-c549f9f2f7d6"
      },
      "execution_count": null,
      "outputs": [
        {
          "output_type": "execute_result",
          "data": {
            "text/plain": [
              "<AxesSubplot:title={'center':'Avg_Utilization_Ratio'}, xlabel='Attrition_Flag'>"
            ]
          },
          "metadata": {},
          "execution_count": 51
        },
        {
          "output_type": "display_data",
          "data": {
            "text/plain": [
              "<Figure size 432x288 with 1 Axes>"
            ],
            "image/png": "[encoded data removed]"
          },
          "metadata": {
            "needs_background": "light"
          }
        }
      ]
    },
    {
      "cell_type": "markdown",
      "source": [
        "##### Conclusión\n",
        "La relación percibida entre la edad de los clientes y su pertenencia como cliente en la compañía se encuentra que los individuos que los jóvenes en promedio han mantenido su cuenta mientras que las personas levemente mayores la han cerrado, así también se puede ver una relación proporcional con el nivel educativo de los individuos y se puede destacar que los individuos que más tienen sus cuentas existentes son graduadas o se encuentran en el high school, este mismo patrón lo sigue la relación que se encontró respecto al genero de los individuos y su abandono en las cuentas. Analizado el total de transacciones frente a la tenencia de tarjetas de crédito se encuentra que aunque existen datos atípicos la personas que tienen tarjetas de crédito realizan en promedio promedio 45 transacciones para el caso del límite crediticio se encuentra que la personas que ya no tienen esta tarjeta de crédito tienen un límite superior en sus tarjetas frente a las que a un la siguen teniendo"
      ],
      "metadata": {
        "id": "rxIfXoZ-U6UN"
      }
    },
    {
      "cell_type": "markdown",
      "source": [
        "#### Análisis de correlación"
      ],
      "metadata": {
        "id": "56jPWMgF73Dw"
      }
    },
    {
      "cell_type": "code",
      "source": [
        "dataset.corr()"
      ],
      "metadata": {
        "colab": {
          "base_uri": "https://localhost:8080/"
        },
        "id": "7W10ntor8Vn3",
        "outputId": "7a0eee89-ac77-42f8-e681-df0432227046"
      },
      "execution_count": null,
      "outputs": [
        {
          "output_type": "execute_result",
          "data": {
            "text/plain": [
              "                          Customer_Age  Dependent_count  Months_on_book  \\\n",
              "Customer_Age                  1.000000        -0.122254        0.788912   \n",
              "Dependent_count              -0.122254         1.000000       -0.103062   \n",
              "Months_on_book                0.788912        -0.103062        1.000000   \n",
              "Total_Relationship_Count     -0.010931        -0.039076       -0.009203   \n",
              "Months_Inactive_12_mon        0.054361        -0.010768        0.074164   \n",
              "Contacts_Count_12_mon        -0.018452        -0.040505       -0.010774   \n",
              "Credit_Limit                  0.002476         0.068065        0.007507   \n",
              "Total_Revolving_Bal           0.014780        -0.002688        0.008623   \n",
              "Avg_Open_To_Buy               0.001151         0.068291        0.006732   \n",
              "Total_Amt_Chng_Q4_Q1         -0.062042        -0.035439       -0.048959   \n",
              "Total_Trans_Amt              -0.046446         0.025046       -0.038591   \n",
              "Total_Trans_Ct               -0.067097         0.049912       -0.049819   \n",
              "Total_Ct_Chng_Q4_Q1          -0.012143         0.011087       -0.014072   \n",
              "Avg_Utilization_Ratio         0.007114        -0.037135       -0.007541   \n",
              "\n",
              "                          Total_Relationship_Count  Months_Inactive_12_mon  \\\n",
              "Customer_Age                             -0.010931                0.054361   \n",
              "Dependent_count                          -0.039076               -0.010768   \n",
              "Months_on_book                           -0.009203                0.074164   \n",
              "Total_Relationship_Count                  1.000000               -0.003675   \n",
              "Months_Inactive_12_mon                   -0.003675                1.000000   \n",
              "Contacts_Count_12_mon                     0.055203                0.029493   \n",
              "Credit_Limit                             -0.071386               -0.020394   \n",
              "Total_Revolving_Bal                       0.013726               -0.042210   \n",
              "Avg_Open_To_Buy                          -0.072601               -0.016605   \n",
              "Total_Amt_Chng_Q4_Q1                      0.050119               -0.032247   \n",
              "Total_Trans_Amt                          -0.347229               -0.036982   \n",
              "Total_Trans_Ct                           -0.241891               -0.042787   \n",
              "Total_Ct_Chng_Q4_Q1                       0.040831               -0.038989   \n",
              "Avg_Utilization_Ratio                     0.067663               -0.007503   \n",
              "\n",
              "                          Contacts_Count_12_mon  Credit_Limit  \\\n",
              "Customer_Age                          -0.018452      0.002476   \n",
              "Dependent_count                       -0.040505      0.068065   \n",
              "Months_on_book                        -0.010774      0.007507   \n",
              "Total_Relationship_Count               0.055203     -0.071386   \n",
              "Months_Inactive_12_mon                 0.029493     -0.020394   \n",
              "Contacts_Count_12_mon                  1.000000      0.020817   \n",
              "Credit_Limit                           0.020817      1.000000   \n",
              "Total_Revolving_Bal                   -0.053913      0.042493   \n",
              "Avg_Open_To_Buy                        0.025646      0.995981   \n",
              "Total_Amt_Chng_Q4_Q1                  -0.024445      0.012813   \n",
              "Total_Trans_Amt                       -0.112774      0.171730   \n",
              "Total_Trans_Ct                        -0.152213      0.075927   \n",
              "Total_Ct_Chng_Q4_Q1                   -0.094997     -0.002020   \n",
              "Avg_Utilization_Ratio                 -0.055471     -0.482965   \n",
              "\n",
              "                          Total_Revolving_Bal  Avg_Open_To_Buy  \\\n",
              "Customer_Age                         0.014780         0.001151   \n",
              "Dependent_count                     -0.002688         0.068291   \n",
              "Months_on_book                       0.008623         0.006732   \n",
              "Total_Relationship_Count             0.013726        -0.072601   \n",
              "Months_Inactive_12_mon              -0.042210        -0.016605   \n",
              "Contacts_Count_12_mon               -0.053913         0.025646   \n",
              "Credit_Limit                         0.042493         0.995981   \n",
              "Total_Revolving_Bal                  1.000000        -0.047167   \n",
              "Avg_Open_To_Buy                     -0.047167         1.000000   \n",
              "Total_Amt_Chng_Q4_Q1                 0.058174         0.007595   \n",
              "Total_Trans_Amt                      0.064370         0.165923   \n",
              "Total_Trans_Ct                       0.056060         0.070885   \n",
              "Total_Ct_Chng_Q4_Q1                  0.089861        -0.010076   \n",
              "Avg_Utilization_Ratio                0.624022        -0.538808   \n",
              "\n",
              "                          Total_Amt_Chng_Q4_Q1  Total_Trans_Amt  \\\n",
              "Customer_Age                         -0.062042        -0.046446   \n",
              "Dependent_count                      -0.035439         0.025046   \n",
              "Months_on_book                       -0.048959        -0.038591   \n",
              "Total_Relationship_Count              0.050119        -0.347229   \n",
              "Months_Inactive_12_mon               -0.032247        -0.036982   \n",
              "Contacts_Count_12_mon                -0.024445        -0.112774   \n",
              "Credit_Limit                          0.012813         0.171730   \n",
              "Total_Revolving_Bal                   0.058174         0.064370   \n",
              "Avg_Open_To_Buy                       0.007595         0.165923   \n",
              "Total_Amt_Chng_Q4_Q1                  1.000000         0.039678   \n",
              "Total_Trans_Amt                       0.039678         1.000000   \n",
              "Total_Trans_Ct                        0.005469         0.807192   \n",
              "Total_Ct_Chng_Q4_Q1                   0.384189         0.085581   \n",
              "Avg_Utilization_Ratio                 0.035235        -0.083034   \n",
              "\n",
              "                          Total_Trans_Ct  Total_Ct_Chng_Q4_Q1  \\\n",
              "Customer_Age                   -0.067097            -0.012143   \n",
              "Dependent_count                 0.049912             0.011087   \n",
              "Months_on_book                 -0.049819            -0.014072   \n",
              "Total_Relationship_Count       -0.241891             0.040831   \n",
              "Months_Inactive_12_mon         -0.042787            -0.038989   \n",
              "Contacts_Count_12_mon          -0.152213            -0.094997   \n",
              "Credit_Limit                    0.075927            -0.002020   \n",
              "Total_Revolving_Bal             0.056060             0.089861   \n",
              "Avg_Open_To_Buy                 0.070885            -0.010076   \n",
              "Total_Amt_Chng_Q4_Q1            0.005469             0.384189   \n",
              "Total_Trans_Amt                 0.807192             0.085581   \n",
              "Total_Trans_Ct                  1.000000             0.112324   \n",
              "Total_Ct_Chng_Q4_Q1             0.112324             1.000000   \n",
              "Avg_Utilization_Ratio           0.002838             0.074143   \n",
              "\n",
              "                          Avg_Utilization_Ratio  \n",
              "Customer_Age                           0.007114  \n",
              "Dependent_count                       -0.037135  \n",
              "Months_on_book                        -0.007541  \n",
              "Total_Relationship_Count               0.067663  \n",
              "Months_Inactive_12_mon                -0.007503  \n",
              "Contacts_Count_12_mon                 -0.055471  \n",
              "Credit_Limit                          -0.482965  \n",
              "Total_Revolving_Bal                    0.624022  \n",
              "Avg_Open_To_Buy                       -0.538808  \n",
              "Total_Amt_Chng_Q4_Q1                   0.035235  \n",
              "Total_Trans_Amt                       -0.083034  \n",
              "Total_Trans_Ct                         0.002838  \n",
              "Total_Ct_Chng_Q4_Q1                    0.074143  \n",
              "Avg_Utilization_Ratio                  1.000000  "
            ],
            "text/html": [
              "\n",
              "  <div id=\"df-5bfa6680-3637-4523-a497-f8b9a6b4396c\">\n",
              "    <div class=\"colab-df-container\">\n",
              "      <div>\n",
              "<style scoped>\n",
              "    .dataframe tbody tr th:only-of-type {\n",
              "        vertical-align: middle;\n",
              "    }\n",
              "\n",
              "    .dataframe tbody tr th {\n",
              "        vertical-align: top;\n",
              "    }\n",
              "\n",
              "    .dataframe thead th {\n",
              "        text-align: right;\n",
              "    }\n",
              "</style>\n",
              "<table border=\"1\" class=\"dataframe\">\n",
              "  <thead>\n",
              "    <tr style=\"text-align: right;\">\n",
              "      <th></th>\n",
              "      <th>Customer_Age</th>\n",
              "      <th>Dependent_count</th>\n",
              "      <th>Months_on_book</th>\n",
              "      <th>Total_Relationship_Count</th>\n",
              "      <th>Months_Inactive_12_mon</th>\n",
              "      <th>Contacts_Count_12_mon</th>\n",
              "      <th>Credit_Limit</th>\n",
              "      <th>Total_Revolving_Bal</th>\n",
              "      <th>Avg_Open_To_Buy</th>\n",
              "      <th>Total_Amt_Chng_Q4_Q1</th>\n",
              "      <th>Total_Trans_Amt</th>\n",
              "      <th>Total_Trans_Ct</th>\n",
              "      <th>Total_Ct_Chng_Q4_Q1</th>\n",
              "      <th>Avg_Utilization_Ratio</th>\n",
              "    </tr>\n",
              "  </thead>\n",
              "  <tbody>\n",
              "    <tr>\n",
              "      <th>Customer_Age</th>\n",
              "      <td>1.000000</td>\n",
              "      <td>-0.122254</td>\n",
              "      <td>0.788912</td>\n",
              "      <td>-0.010931</td>\n",
              "      <td>0.054361</td>\n",
              "      <td>-0.018452</td>\n",
              "      <td>0.002476</td>\n",
              "      <td>0.014780</td>\n",
              "      <td>0.001151</td>\n",
              "      <td>-0.062042</td>\n",
              "      <td>-0.046446</td>\n",
              "      <td>-0.067097</td>\n",
              "      <td>-0.012143</td>\n",
              "      <td>0.007114</td>\n",
              "    </tr>\n",
              "    <tr>\n",
              "      <th>Dependent_count</th>\n",
              "      <td>-0.122254</td>\n",
              "      <td>1.000000</td>\n",
              "      <td>-0.103062</td>\n",
              "      <td>-0.039076</td>\n",
              "      <td>-0.010768</td>\n",
              "      <td>-0.040505</td>\n",
              "      <td>0.068065</td>\n",
              "      <td>-0.002688</td>\n",
              "      <td>0.068291</td>\n",
              "      <td>-0.035439</td>\n",
              "      <td>0.025046</td>\n",
              "      <td>0.049912</td>\n",
              "      <td>0.011087</td>\n",
              "      <td>-0.037135</td>\n",
              "    </tr>\n",
              "    <tr>\n",
              "      <th>Months_on_book</th>\n",
              "      <td>0.788912</td>\n",
              "      <td>-0.103062</td>\n",
              "      <td>1.000000</td>\n",
              "      <td>-0.009203</td>\n",
              "      <td>0.074164</td>\n",
              "      <td>-0.010774</td>\n",
              "      <td>0.007507</td>\n",
              "      <td>0.008623</td>\n",
              "      <td>0.006732</td>\n",
              "      <td>-0.048959</td>\n",
              "      <td>-0.038591</td>\n",
              "      <td>-0.049819</td>\n",
              "      <td>-0.014072</td>\n",
              "      <td>-0.007541</td>\n",
              "    </tr>\n",
              "    <tr>\n",
              "      <th>Total_Relationship_Count</th>\n",
              "      <td>-0.010931</td>\n",
              "      <td>-0.039076</td>\n",
              "      <td>-0.009203</td>\n",
              "      <td>1.000000</td>\n",
              "      <td>-0.003675</td>\n",
              "      <td>0.055203</td>\n",
              "      <td>-0.071386</td>\n",
              "      <td>0.013726</td>\n",
              "      <td>-0.072601</td>\n",
              "      <td>0.050119</td>\n",
              "      <td>-0.347229</td>\n",
              "      <td>-0.241891</td>\n",
              "      <td>0.040831</td>\n",
              "      <td>0.067663</td>\n",
              "    </tr>\n",
              "    <tr>\n",
              "      <th>Months_Inactive_12_mon</th>\n",
              "      <td>0.054361</td>\n",
              "      <td>-0.010768</td>\n",
              "      <td>0.074164</td>\n",
              "      <td>-0.003675</td>\n",
              "      <td>1.000000</td>\n",
              "      <td>0.029493</td>\n",
              "      <td>-0.020394</td>\n",
              "      <td>-0.042210</td>\n",
              "      <td>-0.016605</td>\n",
              "      <td>-0.032247</td>\n",
              "      <td>-0.036982</td>\n",
              "      <td>-0.042787</td>\n",
              "      <td>-0.038989</td>\n",
              "      <td>-0.007503</td>\n",
              "    </tr>\n",
              "    <tr>\n",
              "      <th>Contacts_Count_12_mon</th>\n",
              "      <td>-0.018452</td>\n",
              "      <td>-0.040505</td>\n",
              "      <td>-0.010774</td>\n",
              "      <td>0.055203</td>\n",
              "      <td>0.029493</td>\n",
              "      <td>1.000000</td>\n",
              "      <td>0.020817</td>\n",
              "      <td>-0.053913</td>\n",
              "      <td>0.025646</td>\n",
              "      <td>-0.024445</td>\n",
              "      <td>-0.112774</td>\n",
              "      <td>-0.152213</td>\n",
              "      <td>-0.094997</td>\n",
              "      <td>-0.055471</td>\n",
              "    </tr>\n",
              "    <tr>\n",
              "      <th>Credit_Limit</th>\n",
              "      <td>0.002476</td>\n",
              "      <td>0.068065</td>\n",
              "      <td>0.007507</td>\n",
              "      <td>-0.071386</td>\n",
              "      <td>-0.020394</td>\n",
              "      <td>0.020817</td>\n",
              "      <td>1.000000</td>\n",
              "      <td>0.042493</td>\n",
              "      <td>0.995981</td>\n",
              "      <td>0.012813</td>\n",
              "      <td>0.171730</td>\n",
              "      <td>0.075927</td>\n",
              "      <td>-0.002020</td>\n",
              "      <td>-0.482965</td>\n",
              "    </tr>\n",
              "    <tr>\n",
              "      <th>Total_Revolving_Bal</th>\n",
              "      <td>0.014780</td>\n",
              "      <td>-0.002688</td>\n",
              "      <td>0.008623</td>\n",
              "      <td>0.013726</td>\n",
              "      <td>-0.042210</td>\n",
              "      <td>-0.053913</td>\n",
              "      <td>0.042493</td>\n",
              "      <td>1.000000</td>\n",
              "      <td>-0.047167</td>\n",
              "      <td>0.058174</td>\n",
              "      <td>0.064370</td>\n",
              "      <td>0.056060</td>\n",
              "      <td>0.089861</td>\n",
              "      <td>0.624022</td>\n",
              "    </tr>\n",
              "    <tr>\n",
              "      <th>Avg_Open_To_Buy</th>\n",
              "      <td>0.001151</td>\n",
              "      <td>0.068291</td>\n",
              "      <td>0.006732</td>\n",
              "      <td>-0.072601</td>\n",
              "      <td>-0.016605</td>\n",
              "      <td>0.025646</td>\n",
              "      <td>0.995981</td>\n",
              "      <td>-0.047167</td>\n",
              "      <td>1.000000</td>\n",
              "      <td>0.007595</td>\n",
              "      <td>0.165923</td>\n",
              "      <td>0.070885</td>\n",
              "      <td>-0.010076</td>\n",
              "      <td>-0.538808</td>\n",
              "    </tr>\n",
              "    <tr>\n",
              "      <th>Total_Amt_Chng_Q4_Q1</th>\n",
              "      <td>-0.062042</td>\n",
              "      <td>-0.035439</td>\n",
              "      <td>-0.048959</td>\n",
              "      <td>0.050119</td>\n",
              "      <td>-0.032247</td>\n",
              "      <td>-0.024445</td>\n",
              "      <td>0.012813</td>\n",
              "      <td>0.058174</td>\n",
              "      <td>0.007595</td>\n",
              "      <td>1.000000</td>\n",
              "      <td>0.039678</td>\n",
              "      <td>0.005469</td>\n",
              "      <td>0.384189</td>\n",
              "      <td>0.035235</td>\n",
              "    </tr>\n",
              "    <tr>\n",
              "      <th>Total_Trans_Amt</th>\n",
              "      <td>-0.046446</td>\n",
              "      <td>0.025046</td>\n",
              "      <td>-0.038591</td>\n",
              "      <td>-0.347229</td>\n",
              "      <td>-0.036982</td>\n",
              "      <td>-0.112774</td>\n",
              "      <td>0.171730</td>\n",
              "      <td>0.064370</td>\n",
              "      <td>0.165923</td>\n",
              "      <td>0.039678</td>\n",
              "      <td>1.000000</td>\n",
              "      <td>0.807192</td>\n",
              "      <td>0.085581</td>\n",
              "      <td>-0.083034</td>\n",
              "    </tr>\n",
              "    <tr>\n",
              "      <th>Total_Trans_Ct</th>\n",
              "      <td>-0.067097</td>\n",
              "      <td>0.049912</td>\n",
              "      <td>-0.049819</td>\n",
              "      <td>-0.241891</td>\n",
              "      <td>-0.042787</td>\n",
              "      <td>-0.152213</td>\n",
              "      <td>0.075927</td>\n",
              "      <td>0.056060</td>\n",
              "      <td>0.070885</td>\n",
              "      <td>0.005469</td>\n",
              "      <td>0.807192</td>\n",
              "      <td>1.000000</td>\n",
              "      <td>0.112324</td>\n",
              "      <td>0.002838</td>\n",
              "    </tr>\n",
              "    <tr>\n",
              "      <th>Total_Ct_Chng_Q4_Q1</th>\n",
              "      <td>-0.012143</td>\n",
              "      <td>0.011087</td>\n",
              "      <td>-0.014072</td>\n",
              "      <td>0.040831</td>\n",
              "      <td>-0.038989</td>\n",
              "      <td>-0.094997</td>\n",
              "      <td>-0.002020</td>\n",
              "      <td>0.089861</td>\n",
              "      <td>-0.010076</td>\n",
              "      <td>0.384189</td>\n",
              "      <td>0.085581</td>\n",
              "      <td>0.112324</td>\n",
              "      <td>1.000000</td>\n",
              "      <td>0.074143</td>\n",
              "    </tr>\n",
              "    <tr>\n",
              "      <th>Avg_Utilization_Ratio</th>\n",
              "      <td>0.007114</td>\n",
              "      <td>-0.037135</td>\n",
              "      <td>-0.007541</td>\n",
              "      <td>0.067663</td>\n",
              "      <td>-0.007503</td>\n",
              "      <td>-0.055471</td>\n",
              "      <td>-0.482965</td>\n",
              "      <td>0.624022</td>\n",
              "      <td>-0.538808</td>\n",
              "      <td>0.035235</td>\n",
              "      <td>-0.083034</td>\n",
              "      <td>0.002838</td>\n",
              "      <td>0.074143</td>\n",
              "      <td>1.000000</td>\n",
              "    </tr>\n",
              "  </tbody>\n",
              "</table>\n",
              "</div>\n",
              "      <button class=\"colab-df-convert\" onclick=\"convertToInteractive('df-5bfa6680-3637-4523-a497-f8b9a6b4396c')\"\n",
              "              title=\"Convert this dataframe to an interactive table.\"\n",
              "              style=\"display:none;\">\n",
              "        \n",
              "  <svg xmlns=\"http://www.w3.org/2000/svg\" height=\"24px\"viewBox=\"0 0 24 24\"\n",
              "       width=\"24px\">\n",
              "    <path d=\"M0 0h24v24H0V0z\" fill=\"none\"/>\n",
              "    <path d=\"M18.56 5.44l.94 2.06.94-2.06 2.06-.94-2.06-.94-.94-2.06-.94 2.06-2.06.94zm-11 1L8.5 8.5l.94-2.06 2.06-.94-2.06-.94L8.5 2.5l-.94 2.06-2.06.94zm10 10l.94 2.06.94-2.06 2.06-.94-2.06-.94-.94-2.06-.94 2.06-2.06.94z\"/><path d=\"M17.41 7.96l-1.37-1.37c-.4-.4-.92-.59-1.43-.59-.52 0-1.04.2-1.43.59L10.3 9.45l-7.72 7.72c-.78.78-.78 2.05 0 2.83L4 21.41c.39.39.9.59 1.41.59.51 0 1.02-.2 1.41-.59l7.78-7.78 2.81-2.81c.8-.78.8-2.07 0-2.86zM5.41 20L4 18.59l7.72-7.72 1.47 1.35L5.41 20z\"/>\n",
              "  </svg>\n",
              "      </button>\n",
              "      \n",
              "  <style>\n",
              "    .colab-df-container {\n",
              "      display:flex;\n",
              "      flex-wrap:wrap;\n",
              "      gap: 12px;\n",
              "    }\n",
              "\n",
              "    .colab-df-convert {\n",
              "      background-color: #E8F0FE;\n",
              "      border: none;\n",
              "      border-radius: 50%;\n",
              "      cursor: pointer;\n",
              "      display: none;\n",
              "      fill: #1967D2;\n",
              "      height: 32px;\n",
              "      padding: 0 0 0 0;\n",
              "      width: 32px;\n",
              "    }\n",
              "\n",
              "    .colab-df-convert:hover {\n",
              "      background-color: #E2EBFA;\n",
              "      box-shadow: 0px 1px 2px rgba(60, 64, 67, 0.3), 0px 1px 3px 1px rgba(60, 64, 67, 0.15);\n",
              "      fill: #174EA6;\n",
              "    }\n",
              "\n",
              "    [theme=dark] .colab-df-convert {\n",
              "      background-color: #3B4455;\n",
              "      fill: #D2E3FC;\n",
              "    }\n",
              "\n",
              "    [theme=dark] .colab-df-convert:hover {\n",
              "      background-color: #434B5C;\n",
              "      box-shadow: 0px 1px 3px 1px rgba(0, 0, 0, 0.15);\n",
              "      filter: drop-shadow(0px 1px 2px rgba(0, 0, 0, 0.3));\n",
              "      fill: #FFFFFF;\n",
              "    }\n",
              "  </style>\n",
              "\n",
              "      <script>\n",
              "        const buttonEl =\n",
              "          document.querySelector('#df-5bfa6680-3637-4523-a497-f8b9a6b4396c button.colab-df-convert');\n",
              "        buttonEl.style.display =\n",
              "          google.colab.kernel.accessAllowed ? 'block' : 'none';\n",
              "\n",
              "        async function convertToInteractive(key) {\n",
              "          const element = document.querySelector('#df-5bfa6680-3637-4523-a497-f8b9a6b4396c');\n",
              "          const dataTable =\n",
              "            await google.colab.kernel.invokeFunction('convertToInteractive',\n",
              "                                                     [key], {});\n",
              "          if (!dataTable) return;\n",
              "\n",
              "          const docLinkHtml = 'Like what you see? Visit the ' +\n",
              "            '<a target=\"_blank\" href=https://colab.research.google.com/notebooks/data_table.ipynb>data table notebook</a>'\n",
              "            + ' to learn more about interactive tables.';\n",
              "          element.innerHTML = '';\n",
              "          dataTable['output_type'] = 'display_data';\n",
              "          await google.colab.output.renderOutput(dataTable, element);\n",
              "          const docLink = document.createElement('div');\n",
              "          docLink.innerHTML = docLinkHtml;\n",
              "          element.appendChild(docLink);\n",
              "        }\n",
              "      </script>\n",
              "    </div>\n",
              "  </div>\n",
              "  "
            ]
          },
          "metadata": {},
          "execution_count": 52
        }
      ]
    },
    {
      "cell_type": "markdown",
      "source": [
        "#####Conclusión\n",
        "Por medio del análisis de correlación que puede evidenciar una relación posiva entre la edad de los clientes y el límite crediticio ya que entre mayor edad el límite crediticio aumenta. Caso contrario a lo que sucede con la dependencia ya que a mayor edad discute la cantidad de personas que dependen de los clientes. Para el caso de la denpendencia esta tienen relación positiva con el total de transacciones"
      ],
      "metadata": {
        "id": "YIpJeF4CGYbn"
      }
    },
    {
      "cell_type": "markdown",
      "source": [
        "### Conclusión general"
      ],
      "metadata": {
        "id": "cLSz5XB62ROI"
      }
    },
    {
      "cell_type": "markdown",
      "source": [
        "Por medio de cada uno de los análisis realizados se puede determinar que lo clientes tienen una distribución proporcional por su género, el uso de tarjetas de crédito crece cuando las personas tienen un mayor nivel de educación y mayor edad, las personas también se caracterizan por tener entre 3 y 4 productos financieros. Por otro lado, los clientes acostumbran a realizar en promedio 45 transacciones. También se evidencia que existe una correlación significativa en cada una de las variables utilizadas para el análisis."
      ],
      "metadata": {
        "id": "VV8S9k9F2Vum"
      }
    }
  ]
}