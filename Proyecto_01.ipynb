{
  "nbformat": 4,
  "nbformat_minor": 0,
  "metadata": {
    "colab": {
      "provenance": [],
      "collapsed_sections": [
        "QCwL9XQJmQye",
        "QCHeL0c4mxax",
        "fIDS6QL0nFny",
        "9-7zjR4JnvlK",
        "_o_qE_uzosox",
        "pA9KcB7bs4qu",
        "k6wVfHLA5Sqi",
        "NL2ZXbetEMj3",
        "v2r2qYBvqc5R",
        "OV__b3wdtOsS",
        "36JCQBlXtUYI",
        "6g_piTzktrKh",
        "af8u-gC0uIab",
        "4hQh1choujvS",
        "RaolhkMMu0j5",
        "dXUJm36zlbxe"
      ]
    },
    "kernelspec": {
      "name": "python3",
      "display_name": "Python 3"
    },
    "language_info": {
      "name": "python"
    }
  },
  "cells": [
    {
      "cell_type": "markdown",
      "source": [
        "# Proyecto 1\n",
        "Laura Alejandra Palomino Camacho y Lady Tatiana Aguillón Suárez"
      ],
      "metadata": {
        "id": "UfZMytpklsxu"
      }
    },
    {
      "cell_type": "markdown",
      "source": [
        "## Introducción\n",
        "En el proyecto desarrollado a continuación se busca realizar un análisis de las tendencias de compra de las personas, con relación a su salario. Teniendo en cuenta una base de datos determinada. Con lo anterior, se realizó una exploración de los datos, un tratamiento y transformación de estos. Buscando enriquecer la base de datos en pro de la clasificación y categorización de estos."
      ],
      "metadata": {
        "id": "oLQXit3j4g-v"
      }
    },
    {
      "cell_type": "markdown",
      "source": [
        "## Importación de librerias"
      ],
      "metadata": {
        "id": "QCwL9XQJmQye"
      }
    },
    {
      "cell_type": "code",
      "execution_count": 2,
      "metadata": {
        "colab": {
          "base_uri": "https://localhost:8080/"
        },
        "id": "vUh12q34lpJa",
        "outputId": "24ca538a-3122-4eb0-9871-518607dcdb15"
      },
      "outputs": [
        {
          "output_type": "stream",
          "name": "stdout",
          "text": [
            "Looking in indexes: https://pypi.org/simple, https://us-python.pkg.dev/colab-wheels/public/simple/\n",
            "Collecting wooldridge\n",
            "  Downloading wooldridge-0.4.4-py3-none-any.whl (5.1 MB)\n",
            "\u001b[2K     \u001b[90m━━━━━━━━━━━━━━━━━━━━━━━━━━━━━━━━━━━━━━━━\u001b[0m \u001b[32m5.1/5.1 MB\u001b[0m \u001b[31m34.6 MB/s\u001b[0m eta \u001b[36m0:00:00\u001b[0m\n",
            "\u001b[?25hCollecting pingouin\n",
            "  Downloading pingouin-0.5.3-py3-none-any.whl (198 kB)\n",
            "\u001b[2K     \u001b[90m━━━━━━━━━━━━━━━━━━━━━━━━━━━━━━━━━━━━━━\u001b[0m \u001b[32m198.6/198.6 KB\u001b[0m \u001b[31m13.4 MB/s\u001b[0m eta \u001b[36m0:00:00\u001b[0m\n",
            "\u001b[?25hRequirement already satisfied: missingno in /usr/local/lib/python3.9/dist-packages (0.5.2)\n",
            "Requirement already satisfied: pandas in /usr/local/lib/python3.9/dist-packages (from wooldridge) (1.3.5)\n",
            "Requirement already satisfied: numpy>=1.19 in /usr/local/lib/python3.9/dist-packages (from pingouin) (1.22.4)\n",
            "Requirement already satisfied: matplotlib>=3.0.2 in /usr/local/lib/python3.9/dist-packages (from pingouin) (3.5.3)\n",
            "Requirement already satisfied: statsmodels>=0.13 in /usr/local/lib/python3.9/dist-packages (from pingouin) (0.13.5)\n",
            "Collecting pandas-flavor>=0.2.0\n",
            "  Downloading pandas_flavor-0.5.0-py3-none-any.whl (7.1 kB)\n",
            "Requirement already satisfied: scipy>=1.7 in /usr/local/lib/python3.9/dist-packages (from pingouin) (1.10.1)\n",
            "Requirement already satisfied: scikit-learn in /usr/local/lib/python3.9/dist-packages (from pingouin) (1.2.1)\n",
            "Collecting outdated\n",
            "  Downloading outdated-0.2.2-py2.py3-none-any.whl (7.5 kB)\n",
            "Requirement already satisfied: tabulate in /usr/local/lib/python3.9/dist-packages (from pingouin) (0.8.10)\n",
            "Requirement already satisfied: seaborn>=0.11 in /usr/local/lib/python3.9/dist-packages (from pingouin) (0.11.2)\n",
            "Requirement already satisfied: packaging>=20.0 in /usr/local/lib/python3.9/dist-packages (from matplotlib>=3.0.2->pingouin) (23.0)\n",
            "Requirement already satisfied: pillow>=6.2.0 in /usr/local/lib/python3.9/dist-packages (from matplotlib>=3.0.2->pingouin) (8.4.0)\n",
            "Requirement already satisfied: kiwisolver>=1.0.1 in /usr/local/lib/python3.9/dist-packages (from matplotlib>=3.0.2->pingouin) (1.4.4)\n",
            "Requirement already satisfied: cycler>=0.10 in /usr/local/lib/python3.9/dist-packages (from matplotlib>=3.0.2->pingouin) (0.11.0)\n",
            "Requirement already satisfied: pyparsing>=2.2.1 in /usr/local/lib/python3.9/dist-packages (from matplotlib>=3.0.2->pingouin) (3.0.9)\n",
            "Requirement already satisfied: python-dateutil>=2.7 in /usr/local/lib/python3.9/dist-packages (from matplotlib>=3.0.2->pingouin) (2.8.2)\n",
            "Requirement already satisfied: fonttools>=4.22.0 in /usr/local/lib/python3.9/dist-packages (from matplotlib>=3.0.2->pingouin) (4.39.0)\n",
            "Requirement already satisfied: pytz>=2017.3 in /usr/local/lib/python3.9/dist-packages (from pandas->wooldridge) (2022.7.1)\n",
            "Collecting lazy-loader>=0.1\n",
            "  Downloading lazy_loader-0.1-py3-none-any.whl (8.6 kB)\n",
            "Requirement already satisfied: xarray in /usr/local/lib/python3.9/dist-packages (from pandas-flavor>=0.2.0->pingouin) (2022.12.0)\n",
            "Requirement already satisfied: patsy>=0.5.2 in /usr/local/lib/python3.9/dist-packages (from statsmodels>=0.13->pingouin) (0.5.3)\n",
            "Requirement already satisfied: setuptools>=44 in /usr/local/lib/python3.9/dist-packages (from outdated->pingouin) (57.4.0)\n",
            "Collecting littleutils\n",
            "  Downloading littleutils-0.2.2.tar.gz (6.6 kB)\n",
            "  Preparing metadata (setup.py) ... \u001b[?25l\u001b[?25hdone\n",
            "Requirement already satisfied: requests in /usr/local/lib/python3.9/dist-packages (from outdated->pingouin) (2.25.1)\n",
            "Requirement already satisfied: joblib>=1.1.1 in /usr/local/lib/python3.9/dist-packages (from scikit-learn->pingouin) (1.2.0)\n",
            "Requirement already satisfied: threadpoolctl>=2.0.0 in /usr/local/lib/python3.9/dist-packages (from scikit-learn->pingouin) (3.1.0)\n",
            "Requirement already satisfied: six in /usr/local/lib/python3.9/dist-packages (from patsy>=0.5.2->statsmodels>=0.13->pingouin) (1.15.0)\n",
            "Requirement already satisfied: urllib3<1.27,>=1.21.1 in /usr/local/lib/python3.9/dist-packages (from requests->outdated->pingouin) (1.26.14)\n",
            "Requirement already satisfied: chardet<5,>=3.0.2 in /usr/local/lib/python3.9/dist-packages (from requests->outdated->pingouin) (4.0.0)\n",
            "Requirement already satisfied: idna<3,>=2.5 in /usr/local/lib/python3.9/dist-packages (from requests->outdated->pingouin) (2.10)\n",
            "Requirement already satisfied: certifi>=2017.4.17 in /usr/local/lib/python3.9/dist-packages (from requests->outdated->pingouin) (2022.12.7)\n",
            "Building wheels for collected packages: littleutils\n",
            "  Building wheel for littleutils (setup.py) ... \u001b[?25l\u001b[?25hdone\n",
            "  Created wheel for littleutils: filename=littleutils-0.2.2-py3-none-any.whl size=7047 sha256=2d3ff8b063531f16db6993b775e7b4d73d9f4b893e8f6b4c21d802c778fb82bc\n",
            "  Stored in directory: /root/.cache/pip/wheels/04/bb/0d/2d02ec45f29c48d6192476bfb59c5a0e64b605e7212374dd15\n",
            "Successfully built littleutils\n",
            "Installing collected packages: littleutils, lazy-loader, outdated, wooldridge, pandas-flavor, pingouin\n",
            "Successfully installed lazy-loader-0.1 littleutils-0.2.2 outdated-0.2.2 pandas-flavor-0.5.0 pingouin-0.5.3 wooldridge-0.4.4\n"
          ]
        }
      ],
      "source": [
        "!pip install wooldridge pingouin missingno\n",
        "\n",
        "import wooldridge as wd\n",
        "import pandas as pd\n",
        "import numpy as np\n",
        "\n",
        "import matplotlib.pyplot as plt\n",
        "import seaborn as sns\n",
        "import plotly.express as px\n",
        "\n",
        "import scipy.stats as st\n",
        "import pingouin as pg\n",
        "\n",
        "import missingno as ms\n",
        "\n",
        "from sklearn.preprocessing import StandardScaler\n",
        "from sklearn.ensemble import IsolationForest\n",
        "from sklearn.impute import KNNImputer, MissingIndicator\n",
        "from scipy.spatial.distance import mahalanobis"
      ]
    },
    {
      "cell_type": "markdown",
      "source": [
        "## Carga de datos"
      ],
      "metadata": {
        "id": "QCHeL0c4mxax"
      }
    },
    {
      "cell_type": "code",
      "source": [
        "dataset = pd.read_csv('https://raw.githubusercontent.com/labeconometria/MLxE/main/proyectos1er/dataset_1.csv')\n",
        "dataset"
      ],
      "metadata": {
        "colab": {
          "base_uri": "https://localhost:8080/",
          "height": 0
        },
        "id": "Gao6ZMiZmvVK",
        "outputId": "a401b5dc-03a8-4050-f60e-1faec114b456"
      },
      "execution_count": 3,
      "outputs": [
        {
          "output_type": "execute_result",
          "data": {
            "text/plain": [
              "      user_id  gender      wage  purchased   birth_day\n",
              "0         217  Female       NaN          0  1983-08-06\n",
              "1         226  Female  146500.0          1  1972-01-28\n",
              "2         697    Male       NaN          1  1981-12-12\n",
              "3         743  Female       NaN          0  1983-05-26\n",
              "4          63  Female  140500.0          1  1967-11-02\n",
              "...       ...     ...       ...        ...         ...\n",
              "1169      636    Male   76500.0          0  1970-08-26\n",
              "1170      320  Female  143500.0          1  1970-04-07\n",
              "1171      136  Female       NaN          1  1968-12-28\n",
              "1172      721    Male  148000.0          1  1993-11-23\n",
              "1173      471     man   60500.0          0  1984-06-02\n",
              "\n",
              "[1174 rows x 5 columns]"
            ],
            "text/html": [
              "\n",
              "  <div id=\"df-5a3b1fa8-657e-40e6-a2b5-370f1296032b\">\n",
              "    <div class=\"colab-df-container\">\n",
              "      <div>\n",
              "<style scoped>\n",
              "    .dataframe tbody tr th:only-of-type {\n",
              "        vertical-align: middle;\n",
              "    }\n",
              "\n",
              "    .dataframe tbody tr th {\n",
              "        vertical-align: top;\n",
              "    }\n",
              "\n",
              "    .dataframe thead th {\n",
              "        text-align: right;\n",
              "    }\n",
              "</style>\n",
              "<table border=\"1\" class=\"dataframe\">\n",
              "  <thead>\n",
              "    <tr style=\"text-align: right;\">\n",
              "      <th></th>\n",
              "      <th>user_id</th>\n",
              "      <th>gender</th>\n",
              "      <th>wage</th>\n",
              "      <th>purchased</th>\n",
              "      <th>birth_day</th>\n",
              "    </tr>\n",
              "  </thead>\n",
              "  <tbody>\n",
              "    <tr>\n",
              "      <th>0</th>\n",
              "      <td>217</td>\n",
              "      <td>Female</td>\n",
              "      <td>NaN</td>\n",
              "      <td>0</td>\n",
              "      <td>1983-08-06</td>\n",
              "    </tr>\n",
              "    <tr>\n",
              "      <th>1</th>\n",
              "      <td>226</td>\n",
              "      <td>Female</td>\n",
              "      <td>146500.0</td>\n",
              "      <td>1</td>\n",
              "      <td>1972-01-28</td>\n",
              "    </tr>\n",
              "    <tr>\n",
              "      <th>2</th>\n",
              "      <td>697</td>\n",
              "      <td>Male</td>\n",
              "      <td>NaN</td>\n",
              "      <td>1</td>\n",
              "      <td>1981-12-12</td>\n",
              "    </tr>\n",
              "    <tr>\n",
              "      <th>3</th>\n",
              "      <td>743</td>\n",
              "      <td>Female</td>\n",
              "      <td>NaN</td>\n",
              "      <td>0</td>\n",
              "      <td>1983-05-26</td>\n",
              "    </tr>\n",
              "    <tr>\n",
              "      <th>4</th>\n",
              "      <td>63</td>\n",
              "      <td>Female</td>\n",
              "      <td>140500.0</td>\n",
              "      <td>1</td>\n",
              "      <td>1967-11-02</td>\n",
              "    </tr>\n",
              "    <tr>\n",
              "      <th>...</th>\n",
              "      <td>...</td>\n",
              "      <td>...</td>\n",
              "      <td>...</td>\n",
              "      <td>...</td>\n",
              "      <td>...</td>\n",
              "    </tr>\n",
              "    <tr>\n",
              "      <th>1169</th>\n",
              "      <td>636</td>\n",
              "      <td>Male</td>\n",
              "      <td>76500.0</td>\n",
              "      <td>0</td>\n",
              "      <td>1970-08-26</td>\n",
              "    </tr>\n",
              "    <tr>\n",
              "      <th>1170</th>\n",
              "      <td>320</td>\n",
              "      <td>Female</td>\n",
              "      <td>143500.0</td>\n",
              "      <td>1</td>\n",
              "      <td>1970-04-07</td>\n",
              "    </tr>\n",
              "    <tr>\n",
              "      <th>1171</th>\n",
              "      <td>136</td>\n",
              "      <td>Female</td>\n",
              "      <td>NaN</td>\n",
              "      <td>1</td>\n",
              "      <td>1968-12-28</td>\n",
              "    </tr>\n",
              "    <tr>\n",
              "      <th>1172</th>\n",
              "      <td>721</td>\n",
              "      <td>Male</td>\n",
              "      <td>148000.0</td>\n",
              "      <td>1</td>\n",
              "      <td>1993-11-23</td>\n",
              "    </tr>\n",
              "    <tr>\n",
              "      <th>1173</th>\n",
              "      <td>471</td>\n",
              "      <td>man</td>\n",
              "      <td>60500.0</td>\n",
              "      <td>0</td>\n",
              "      <td>1984-06-02</td>\n",
              "    </tr>\n",
              "  </tbody>\n",
              "</table>\n",
              "<p>1174 rows × 5 columns</p>\n",
              "</div>\n",
              "      <button class=\"colab-df-convert\" onclick=\"convertToInteractive('df-5a3b1fa8-657e-40e6-a2b5-370f1296032b')\"\n",
              "              title=\"Convert this dataframe to an interactive table.\"\n",
              "              style=\"display:none;\">\n",
              "        \n",
              "  <svg xmlns=\"http://www.w3.org/2000/svg\" height=\"24px\"viewBox=\"0 0 24 24\"\n",
              "       width=\"24px\">\n",
              "    <path d=\"M0 0h24v24H0V0z\" fill=\"none\"/>\n",
              "    <path d=\"M18.56 5.44l.94 2.06.94-2.06 2.06-.94-2.06-.94-.94-2.06-.94 2.06-2.06.94zm-11 1L8.5 8.5l.94-2.06 2.06-.94-2.06-.94L8.5 2.5l-.94 2.06-2.06.94zm10 10l.94 2.06.94-2.06 2.06-.94-2.06-.94-.94-2.06-.94 2.06-2.06.94z\"/><path d=\"M17.41 7.96l-1.37-1.37c-.4-.4-.92-.59-1.43-.59-.52 0-1.04.2-1.43.59L10.3 9.45l-7.72 7.72c-.78.78-.78 2.05 0 2.83L4 21.41c.39.39.9.59 1.41.59.51 0 1.02-.2 1.41-.59l7.78-7.78 2.81-2.81c.8-.78.8-2.07 0-2.86zM5.41 20L4 18.59l7.72-7.72 1.47 1.35L5.41 20z\"/>\n",
              "  </svg>\n",
              "      </button>\n",
              "      \n",
              "  <style>\n",
              "    .colab-df-container {\n",
              "      display:flex;\n",
              "      flex-wrap:wrap;\n",
              "      gap: 12px;\n",
              "    }\n",
              "\n",
              "    .colab-df-convert {\n",
              "      background-color: #E8F0FE;\n",
              "      border: none;\n",
              "      border-radius: 50%;\n",
              "      cursor: pointer;\n",
              "      display: none;\n",
              "      fill: #1967D2;\n",
              "      height: 32px;\n",
              "      padding: 0 0 0 0;\n",
              "      width: 32px;\n",
              "    }\n",
              "\n",
              "    .colab-df-convert:hover {\n",
              "      background-color: #E2EBFA;\n",
              "      box-shadow: 0px 1px 2px rgba(60, 64, 67, 0.3), 0px 1px 3px 1px rgba(60, 64, 67, 0.15);\n",
              "      fill: #174EA6;\n",
              "    }\n",
              "\n",
              "    [theme=dark] .colab-df-convert {\n",
              "      background-color: #3B4455;\n",
              "      fill: #D2E3FC;\n",
              "    }\n",
              "\n",
              "    [theme=dark] .colab-df-convert:hover {\n",
              "      background-color: #434B5C;\n",
              "      box-shadow: 0px 1px 3px 1px rgba(0, 0, 0, 0.15);\n",
              "      filter: drop-shadow(0px 1px 2px rgba(0, 0, 0, 0.3));\n",
              "      fill: #FFFFFF;\n",
              "    }\n",
              "  </style>\n",
              "\n",
              "      <script>\n",
              "        const buttonEl =\n",
              "          document.querySelector('#df-5a3b1fa8-657e-40e6-a2b5-370f1296032b button.colab-df-convert');\n",
              "        buttonEl.style.display =\n",
              "          google.colab.kernel.accessAllowed ? 'block' : 'none';\n",
              "\n",
              "        async function convertToInteractive(key) {\n",
              "          const element = document.querySelector('#df-5a3b1fa8-657e-40e6-a2b5-370f1296032b');\n",
              "          const dataTable =\n",
              "            await google.colab.kernel.invokeFunction('convertToInteractive',\n",
              "                                                     [key], {});\n",
              "          if (!dataTable) return;\n",
              "\n",
              "          const docLinkHtml = 'Like what you see? Visit the ' +\n",
              "            '<a target=\"_blank\" href=https://colab.research.google.com/notebooks/data_table.ipynb>data table notebook</a>'\n",
              "            + ' to learn more about interactive tables.';\n",
              "          element.innerHTML = '';\n",
              "          dataTable['output_type'] = 'display_data';\n",
              "          await google.colab.output.renderOutput(dataTable, element);\n",
              "          const docLink = document.createElement('div');\n",
              "          docLink.innerHTML = docLinkHtml;\n",
              "          element.appendChild(docLink);\n",
              "        }\n",
              "      </script>\n",
              "    </div>\n",
              "  </div>\n",
              "  "
            ]
          },
          "metadata": {},
          "execution_count": 3
        }
      ]
    },
    {
      "cell_type": "markdown",
      "source": [],
      "metadata": {
        "id": "rJ2-S4qq4fP0"
      }
    },
    {
      "cell_type": "markdown",
      "source": [
        "## Exploración inicial"
      ],
      "metadata": {
        "id": "fIDS6QL0nFny"
      }
    },
    {
      "cell_type": "code",
      "source": [
        "dataset.head()"
      ],
      "metadata": {
        "colab": {
          "base_uri": "https://localhost:8080/",
          "height": 0
        },
        "id": "SUFdtQfsnH6Q",
        "outputId": "c11cf3be-2b2b-4722-ca71-ef0a7467c07c"
      },
      "execution_count": 4,
      "outputs": [
        {
          "output_type": "execute_result",
          "data": {
            "text/plain": [
              "   user_id  gender      wage  purchased   birth_day\n",
              "0      217  Female       NaN          0  1983-08-06\n",
              "1      226  Female  146500.0          1  1972-01-28\n",
              "2      697    Male       NaN          1  1981-12-12\n",
              "3      743  Female       NaN          0  1983-05-26\n",
              "4       63  Female  140500.0          1  1967-11-02"
            ],
            "text/html": [
              "\n",
              "  <div id=\"df-7177c64c-49d8-49d1-a7f8-a57883f675dc\">\n",
              "    <div class=\"colab-df-container\">\n",
              "      <div>\n",
              "<style scoped>\n",
              "    .dataframe tbody tr th:only-of-type {\n",
              "        vertical-align: middle;\n",
              "    }\n",
              "\n",
              "    .dataframe tbody tr th {\n",
              "        vertical-align: top;\n",
              "    }\n",
              "\n",
              "    .dataframe thead th {\n",
              "        text-align: right;\n",
              "    }\n",
              "</style>\n",
              "<table border=\"1\" class=\"dataframe\">\n",
              "  <thead>\n",
              "    <tr style=\"text-align: right;\">\n",
              "      <th></th>\n",
              "      <th>user_id</th>\n",
              "      <th>gender</th>\n",
              "      <th>wage</th>\n",
              "      <th>purchased</th>\n",
              "      <th>birth_day</th>\n",
              "    </tr>\n",
              "  </thead>\n",
              "  <tbody>\n",
              "    <tr>\n",
              "      <th>0</th>\n",
              "      <td>217</td>\n",
              "      <td>Female</td>\n",
              "      <td>NaN</td>\n",
              "      <td>0</td>\n",
              "      <td>1983-08-06</td>\n",
              "    </tr>\n",
              "    <tr>\n",
              "      <th>1</th>\n",
              "      <td>226</td>\n",
              "      <td>Female</td>\n",
              "      <td>146500.0</td>\n",
              "      <td>1</td>\n",
              "      <td>1972-01-28</td>\n",
              "    </tr>\n",
              "    <tr>\n",
              "      <th>2</th>\n",
              "      <td>697</td>\n",
              "      <td>Male</td>\n",
              "      <td>NaN</td>\n",
              "      <td>1</td>\n",
              "      <td>1981-12-12</td>\n",
              "    </tr>\n",
              "    <tr>\n",
              "      <th>3</th>\n",
              "      <td>743</td>\n",
              "      <td>Female</td>\n",
              "      <td>NaN</td>\n",
              "      <td>0</td>\n",
              "      <td>1983-05-26</td>\n",
              "    </tr>\n",
              "    <tr>\n",
              "      <th>4</th>\n",
              "      <td>63</td>\n",
              "      <td>Female</td>\n",
              "      <td>140500.0</td>\n",
              "      <td>1</td>\n",
              "      <td>1967-11-02</td>\n",
              "    </tr>\n",
              "  </tbody>\n",
              "</table>\n",
              "</div>\n",
              "      <button class=\"colab-df-convert\" onclick=\"convertToInteractive('df-7177c64c-49d8-49d1-a7f8-a57883f675dc')\"\n",
              "              title=\"Convert this dataframe to an interactive table.\"\n",
              "              style=\"display:none;\">\n",
              "        \n",
              "  <svg xmlns=\"http://www.w3.org/2000/svg\" height=\"24px\"viewBox=\"0 0 24 24\"\n",
              "       width=\"24px\">\n",
              "    <path d=\"M0 0h24v24H0V0z\" fill=\"none\"/>\n",
              "    <path d=\"M18.56 5.44l.94 2.06.94-2.06 2.06-.94-2.06-.94-.94-2.06-.94 2.06-2.06.94zm-11 1L8.5 8.5l.94-2.06 2.06-.94-2.06-.94L8.5 2.5l-.94 2.06-2.06.94zm10 10l.94 2.06.94-2.06 2.06-.94-2.06-.94-.94-2.06-.94 2.06-2.06.94z\"/><path d=\"M17.41 7.96l-1.37-1.37c-.4-.4-.92-.59-1.43-.59-.52 0-1.04.2-1.43.59L10.3 9.45l-7.72 7.72c-.78.78-.78 2.05 0 2.83L4 21.41c.39.39.9.59 1.41.59.51 0 1.02-.2 1.41-.59l7.78-7.78 2.81-2.81c.8-.78.8-2.07 0-2.86zM5.41 20L4 18.59l7.72-7.72 1.47 1.35L5.41 20z\"/>\n",
              "  </svg>\n",
              "      </button>\n",
              "      \n",
              "  <style>\n",
              "    .colab-df-container {\n",
              "      display:flex;\n",
              "      flex-wrap:wrap;\n",
              "      gap: 12px;\n",
              "    }\n",
              "\n",
              "    .colab-df-convert {\n",
              "      background-color: #E8F0FE;\n",
              "      border: none;\n",
              "      border-radius: 50%;\n",
              "      cursor: pointer;\n",
              "      display: none;\n",
              "      fill: #1967D2;\n",
              "      height: 32px;\n",
              "      padding: 0 0 0 0;\n",
              "      width: 32px;\n",
              "    }\n",
              "\n",
              "    .colab-df-convert:hover {\n",
              "      background-color: #E2EBFA;\n",
              "      box-shadow: 0px 1px 2px rgba(60, 64, 67, 0.3), 0px 1px 3px 1px rgba(60, 64, 67, 0.15);\n",
              "      fill: #174EA6;\n",
              "    }\n",
              "\n",
              "    [theme=dark] .colab-df-convert {\n",
              "      background-color: #3B4455;\n",
              "      fill: #D2E3FC;\n",
              "    }\n",
              "\n",
              "    [theme=dark] .colab-df-convert:hover {\n",
              "      background-color: #434B5C;\n",
              "      box-shadow: 0px 1px 3px 1px rgba(0, 0, 0, 0.15);\n",
              "      filter: drop-shadow(0px 1px 2px rgba(0, 0, 0, 0.3));\n",
              "      fill: #FFFFFF;\n",
              "    }\n",
              "  </style>\n",
              "\n",
              "      <script>\n",
              "        const buttonEl =\n",
              "          document.querySelector('#df-7177c64c-49d8-49d1-a7f8-a57883f675dc button.colab-df-convert');\n",
              "        buttonEl.style.display =\n",
              "          google.colab.kernel.accessAllowed ? 'block' : 'none';\n",
              "\n",
              "        async function convertToInteractive(key) {\n",
              "          const element = document.querySelector('#df-7177c64c-49d8-49d1-a7f8-a57883f675dc');\n",
              "          const dataTable =\n",
              "            await google.colab.kernel.invokeFunction('convertToInteractive',\n",
              "                                                     [key], {});\n",
              "          if (!dataTable) return;\n",
              "\n",
              "          const docLinkHtml = 'Like what you see? Visit the ' +\n",
              "            '<a target=\"_blank\" href=https://colab.research.google.com/notebooks/data_table.ipynb>data table notebook</a>'\n",
              "            + ' to learn more about interactive tables.';\n",
              "          element.innerHTML = '';\n",
              "          dataTable['output_type'] = 'display_data';\n",
              "          await google.colab.output.renderOutput(dataTable, element);\n",
              "          const docLink = document.createElement('div');\n",
              "          docLink.innerHTML = docLinkHtml;\n",
              "          element.appendChild(docLink);\n",
              "        }\n",
              "      </script>\n",
              "    </div>\n",
              "  </div>\n",
              "  "
            ]
          },
          "metadata": {},
          "execution_count": 4
        }
      ]
    },
    {
      "cell_type": "code",
      "source": [
        "dataset.tail()"
      ],
      "metadata": {
        "colab": {
          "base_uri": "https://localhost:8080/",
          "height": 0
        },
        "id": "m_ONVmhZnT7N",
        "outputId": "cc6b0c5f-db72-4eda-ea4b-2dc4cd245f86"
      },
      "execution_count": 5,
      "outputs": [
        {
          "output_type": "execute_result",
          "data": {
            "text/plain": [
              "      user_id  gender      wage  purchased   birth_day\n",
              "1169      636    Male   76500.0          0  1970-08-26\n",
              "1170      320  Female  143500.0          1  1970-04-07\n",
              "1171      136  Female       NaN          1  1968-12-28\n",
              "1172      721    Male  148000.0          1  1993-11-23\n",
              "1173      471     man   60500.0          0  1984-06-02"
            ],
            "text/html": [
              "\n",
              "  <div id=\"df-99f2371f-554d-42bd-aa07-b018d9f4cba1\">\n",
              "    <div class=\"colab-df-container\">\n",
              "      <div>\n",
              "<style scoped>\n",
              "    .dataframe tbody tr th:only-of-type {\n",
              "        vertical-align: middle;\n",
              "    }\n",
              "\n",
              "    .dataframe tbody tr th {\n",
              "        vertical-align: top;\n",
              "    }\n",
              "\n",
              "    .dataframe thead th {\n",
              "        text-align: right;\n",
              "    }\n",
              "</style>\n",
              "<table border=\"1\" class=\"dataframe\">\n",
              "  <thead>\n",
              "    <tr style=\"text-align: right;\">\n",
              "      <th></th>\n",
              "      <th>user_id</th>\n",
              "      <th>gender</th>\n",
              "      <th>wage</th>\n",
              "      <th>purchased</th>\n",
              "      <th>birth_day</th>\n",
              "    </tr>\n",
              "  </thead>\n",
              "  <tbody>\n",
              "    <tr>\n",
              "      <th>1169</th>\n",
              "      <td>636</td>\n",
              "      <td>Male</td>\n",
              "      <td>76500.0</td>\n",
              "      <td>0</td>\n",
              "      <td>1970-08-26</td>\n",
              "    </tr>\n",
              "    <tr>\n",
              "      <th>1170</th>\n",
              "      <td>320</td>\n",
              "      <td>Female</td>\n",
              "      <td>143500.0</td>\n",
              "      <td>1</td>\n",
              "      <td>1970-04-07</td>\n",
              "    </tr>\n",
              "    <tr>\n",
              "      <th>1171</th>\n",
              "      <td>136</td>\n",
              "      <td>Female</td>\n",
              "      <td>NaN</td>\n",
              "      <td>1</td>\n",
              "      <td>1968-12-28</td>\n",
              "    </tr>\n",
              "    <tr>\n",
              "      <th>1172</th>\n",
              "      <td>721</td>\n",
              "      <td>Male</td>\n",
              "      <td>148000.0</td>\n",
              "      <td>1</td>\n",
              "      <td>1993-11-23</td>\n",
              "    </tr>\n",
              "    <tr>\n",
              "      <th>1173</th>\n",
              "      <td>471</td>\n",
              "      <td>man</td>\n",
              "      <td>60500.0</td>\n",
              "      <td>0</td>\n",
              "      <td>1984-06-02</td>\n",
              "    </tr>\n",
              "  </tbody>\n",
              "</table>\n",
              "</div>\n",
              "      <button class=\"colab-df-convert\" onclick=\"convertToInteractive('df-99f2371f-554d-42bd-aa07-b018d9f4cba1')\"\n",
              "              title=\"Convert this dataframe to an interactive table.\"\n",
              "              style=\"display:none;\">\n",
              "        \n",
              "  <svg xmlns=\"http://www.w3.org/2000/svg\" height=\"24px\"viewBox=\"0 0 24 24\"\n",
              "       width=\"24px\">\n",
              "    <path d=\"M0 0h24v24H0V0z\" fill=\"none\"/>\n",
              "    <path d=\"M18.56 5.44l.94 2.06.94-2.06 2.06-.94-2.06-.94-.94-2.06-.94 2.06-2.06.94zm-11 1L8.5 8.5l.94-2.06 2.06-.94-2.06-.94L8.5 2.5l-.94 2.06-2.06.94zm10 10l.94 2.06.94-2.06 2.06-.94-2.06-.94-.94-2.06-.94 2.06-2.06.94z\"/><path d=\"M17.41 7.96l-1.37-1.37c-.4-.4-.92-.59-1.43-.59-.52 0-1.04.2-1.43.59L10.3 9.45l-7.72 7.72c-.78.78-.78 2.05 0 2.83L4 21.41c.39.39.9.59 1.41.59.51 0 1.02-.2 1.41-.59l7.78-7.78 2.81-2.81c.8-.78.8-2.07 0-2.86zM5.41 20L4 18.59l7.72-7.72 1.47 1.35L5.41 20z\"/>\n",
              "  </svg>\n",
              "      </button>\n",
              "      \n",
              "  <style>\n",
              "    .colab-df-container {\n",
              "      display:flex;\n",
              "      flex-wrap:wrap;\n",
              "      gap: 12px;\n",
              "    }\n",
              "\n",
              "    .colab-df-convert {\n",
              "      background-color: #E8F0FE;\n",
              "      border: none;\n",
              "      border-radius: 50%;\n",
              "      cursor: pointer;\n",
              "      display: none;\n",
              "      fill: #1967D2;\n",
              "      height: 32px;\n",
              "      padding: 0 0 0 0;\n",
              "      width: 32px;\n",
              "    }\n",
              "\n",
              "    .colab-df-convert:hover {\n",
              "      background-color: #E2EBFA;\n",
              "      box-shadow: 0px 1px 2px rgba(60, 64, 67, 0.3), 0px 1px 3px 1px rgba(60, 64, 67, 0.15);\n",
              "      fill: #174EA6;\n",
              "    }\n",
              "\n",
              "    [theme=dark] .colab-df-convert {\n",
              "      background-color: #3B4455;\n",
              "      fill: #D2E3FC;\n",
              "    }\n",
              "\n",
              "    [theme=dark] .colab-df-convert:hover {\n",
              "      background-color: #434B5C;\n",
              "      box-shadow: 0px 1px 3px 1px rgba(0, 0, 0, 0.15);\n",
              "      filter: drop-shadow(0px 1px 2px rgba(0, 0, 0, 0.3));\n",
              "      fill: #FFFFFF;\n",
              "    }\n",
              "  </style>\n",
              "\n",
              "      <script>\n",
              "        const buttonEl =\n",
              "          document.querySelector('#df-99f2371f-554d-42bd-aa07-b018d9f4cba1 button.colab-df-convert');\n",
              "        buttonEl.style.display =\n",
              "          google.colab.kernel.accessAllowed ? 'block' : 'none';\n",
              "\n",
              "        async function convertToInteractive(key) {\n",
              "          const element = document.querySelector('#df-99f2371f-554d-42bd-aa07-b018d9f4cba1');\n",
              "          const dataTable =\n",
              "            await google.colab.kernel.invokeFunction('convertToInteractive',\n",
              "                                                     [key], {});\n",
              "          if (!dataTable) return;\n",
              "\n",
              "          const docLinkHtml = 'Like what you see? Visit the ' +\n",
              "            '<a target=\"_blank\" href=https://colab.research.google.com/notebooks/data_table.ipynb>data table notebook</a>'\n",
              "            + ' to learn more about interactive tables.';\n",
              "          element.innerHTML = '';\n",
              "          dataTable['output_type'] = 'display_data';\n",
              "          await google.colab.output.renderOutput(dataTable, element);\n",
              "          const docLink = document.createElement('div');\n",
              "          docLink.innerHTML = docLinkHtml;\n",
              "          element.appendChild(docLink);\n",
              "        }\n",
              "      </script>\n",
              "    </div>\n",
              "  </div>\n",
              "  "
            ]
          },
          "metadata": {},
          "execution_count": 5
        }
      ]
    },
    {
      "cell_type": "code",
      "source": [
        "dataset.info()"
      ],
      "metadata": {
        "colab": {
          "base_uri": "https://localhost:8080/"
        },
        "id": "JFdKXMNnneR0",
        "outputId": "fe572b56-d552-427a-a86b-520e1c9cf7bb"
      },
      "execution_count": 6,
      "outputs": [
        {
          "output_type": "stream",
          "name": "stdout",
          "text": [
            "<class 'pandas.core.frame.DataFrame'>\n",
            "RangeIndex: 1174 entries, 0 to 1173\n",
            "Data columns (total 5 columns):\n",
            " #   Column     Non-Null Count  Dtype  \n",
            "---  ------     --------------  -----  \n",
            " 0   user_id    1174 non-null   int64  \n",
            " 1   gender     1174 non-null   object \n",
            " 2   wage       930 non-null    float64\n",
            " 3   purchased  1174 non-null   int64  \n",
            " 4   birth_day  1174 non-null   object \n",
            "dtypes: float64(1), int64(2), object(2)\n",
            "memory usage: 46.0+ KB\n"
          ]
        }
      ]
    },
    {
      "cell_type": "markdown",
      "source": [
        "###Conclusión\n",
        "Dada la exploración realizada se pudo encontrar la presencia de 5 variables. De las cuales dos variables son Int, correspondientes a Purchased y User ID. Tambien, se encuentran dos de tipo Object, correspondientes a Gender Y Birth day. Por último, se encuentra una variable de tipo Float correspondiente a Wage. Para esta ultima variable se pueden observar datos NaN."
      ],
      "metadata": {
        "id": "H4VQvfCl8yeY"
      }
    },
    {
      "cell_type": "markdown",
      "source": [
        "## Transformación de tipos de datos y manejo de memoria"
      ],
      "metadata": {
        "id": "9-7zjR4JnvlK"
      }
    },
    {
      "cell_type": "code",
      "source": [
        "dataset.columns"
      ],
      "metadata": {
        "colab": {
          "base_uri": "https://localhost:8080/"
        },
        "id": "gWSf-B1fn346",
        "outputId": "3e72b1de-55f2-4c18-c1dd-b5f9ba61679b"
      },
      "execution_count": 7,
      "outputs": [
        {
          "output_type": "execute_result",
          "data": {
            "text/plain": [
              "Index(['user_id', 'gender', 'wage', 'purchased', 'birth_day'], dtype='object')"
            ]
          },
          "metadata": {},
          "execution_count": 7
        }
      ]
    },
    {
      "cell_type": "code",
      "source": [
        "dataset = dataset.astype({'user_id':'int16',\n",
        "                    'purchased':'int16',\n",
        "                    'birth_day':'datetime64'})"
      ],
      "metadata": {
        "id": "ws2ZhteEoBA7"
      },
      "execution_count": 8,
      "outputs": []
    },
    {
      "cell_type": "code",
      "source": [
        "dataset[\"gender\"] = dataset[\"gender\"].str.lower()"
      ],
      "metadata": {
        "id": "q0Ku6sZRoPMr"
      },
      "execution_count": 9,
      "outputs": []
    },
    {
      "cell_type": "markdown",
      "source": [
        "###Conclusión\n",
        "Para una transformación óptima se realizó el cambio con el comando as.type de la variable birth_day para que fuese de tipo datetime y por otro lado, los datos de la variable gender se pusieron en minúscula para no afectar procesos posteriores.\n"
      ],
      "metadata": {
        "id": "v8FLn0UPBIyx"
      }
    },
    {
      "cell_type": "markdown",
      "source": [
        "## Revisión de duplicados explícitos e implícitos"
      ],
      "metadata": {
        "id": "_o_qE_uzosox"
      }
    },
    {
      "cell_type": "code",
      "source": [
        "for col in dataset.columns:\n",
        "  print(col)\n",
        "  print(dataset[col].unique())"
      ],
      "metadata": {
        "colab": {
          "base_uri": "https://localhost:8080/"
        },
        "id": "Ft8jDsE7ov6w",
        "outputId": "6f12248c-8d6a-46aa-b3ac-518f7b28cb59"
      },
      "execution_count": 10,
      "outputs": [
        {
          "output_type": "stream",
          "name": "stdout",
          "text": [
            "user_id\n",
            "[ 217  226  697  743   63   92  971  777  753  211  891  817  587  889\n",
            "  126  238  733  483  463  139  994  473  316  662  578  180  631  129\n",
            "  688  341  382   54  998  961  583  128  542  654  950  367  243  488\n",
            "   80  307  793  269  607  319  702  903  745    1  679  757  689  440\n",
            "  568  922  701   64  346  775  432  551  107  674  283  321  653  393\n",
            "  962  357   73  771  304  429  703   69  363  308  544  419  599  917\n",
            "  744  555  867   82  120  175  279  329  567  188  833  579  859  142\n",
            "  791  589  276  704   19  729  815  651  850  335  200  944  947  621\n",
            "  204  780  902  417  420  462  750  273  522  907  360  968  672  262\n",
            "  324  881  285  371  554  720  250  151  914  625  862  106  582  192\n",
            "  766  687  983  841  242  479  228  478  178  206  616  931  286  788\n",
            "  378   23  369  428  513  541  433  476   90  127  834  553  386  915\n",
            "  822   25  540  957  987  213  591   55  742  698  425  576  893  796\n",
            "  974  160  100  581  716  300  695   27  911  942  933  533  690  920\n",
            "  149  739  784  932  152  280   99  960  906  547  826   89   17  779\n",
            "  953  306  264  901  561  168  153  162  952  443  523   22  317  172\n",
            "  508  102  880   76  839  874  436  860  913  392  776  604  856  332\n",
            "  885  415  309  614  993  380  853  601  571  585  312  338  546  209\n",
            "  277  413  863  253  294  934  782  929  416  758  692  564   67  829\n",
            "   47  302  617   77  403  728  322  219  928   36  222  790  866   29\n",
            "  970   98  835  892  278  958  431  699  770  310  852  140  385  301\n",
            "  681  731  972  943  668  208  223  181  388  469  924  912  877  141\n",
            "   48  624  615  244  527  254  712  449  683  207  458  925  455  194\n",
            "  179  810  618  348  774   85  407  592  832  548  510  493  927  954\n",
            "  354  258  883  659  486  828  446  824  809  639  461  997  343  549\n",
            "  427   34  435  530  964  224  798  648  460  474  485  989  665  246\n",
            "  240  268  323  749  715  103   50  451  293  871  714  405  104  995\n",
            "  545  840  836  441  762  520  694  868  590  457  811    9  955  157\n",
            "  454  512  220  414  734  633  984  759  218   86  245  641  816  539\n",
            "  685  620  666  667  394  515  402  174  400  966  101  164  996  191\n",
            "  717  560  660  389  999  365  387  887  741  516  110  890   78  686\n",
            "  410  812  372  761  328  722  331   91  121  772  111  517  991  577\n",
            "  464  214  406  573  635  622  466    8  145  736  447  671  295   79\n",
            "  709  882   45  177  133  735  948  747  691  904  644  112  895  574\n",
            "  439  201  421  612  408  584  916   70  398  275  150  345  509  603\n",
            "  711  988  231  487  730  756  723  251  787  521  445  480  751  865\n",
            "   31  500  506  430  492  288   66  910  588  163  252  969  352  838\n",
            "  647  198    3   60  773  361  696  272  135  263  854  626  847  482\n",
            "  572  470   51   59  818   30  167  663  831  450  183   49  975  173\n",
            "  945  187  936  472  452  113  675   74  358  827  350  498  768  813\n",
            "  344  364  409  778  586  205  337   93  825  632  888  291  783  870\n",
            "  524  203  611   52   39  169  977   28  496   38  134  114  448  595\n",
            "  565   16   26  619  725  143   14  894  391  760   20  171  837  144\n",
            "  801  154  959  359  182  118  896  267  383  921  538  752  490  148\n",
            "  606  115  119  956  845  737  705  649   95  848  713  680  570  566\n",
            "  123  630  754  116  131  669  724  535  629  658  507  864  661  820\n",
            " 1000  939  755  161   88  159   21  399  437   33   81  333  532  543\n",
            "   43  138  819  905   32  235  857  505   44    2  537  597  189  900\n",
            "  270  124  534  594  158  930   12  575  298  313  282  376   71  495\n",
            "  814  897  356  627  465  684  281  404  628  800  664  377  919  519\n",
            "  255  303  846  339  444  105  802  396  557  781  289  976  656  241\n",
            "  491   11  789  210  899  935  879  938  297  514  249   87  422  844\n",
            "  186  397  967  434  374  390  765  137   10  412  569  643   42  843\n",
            "  442  155  655   53  426  423   65  855  287   41  876  767  511  497\n",
            "   18  823   56  347  807  858  821  379  232  886  117  795  609  477\n",
            "  563  940  693  808  108  748  315  645  804   96  536  638  334  202\n",
            "  740  467    4  156  122  227  256  849  805   15  502  147  926  642\n",
            "  325  710  851  247  909   84  706  257  299  556  634  221   40  528\n",
            "  342   72  830  550  986  794  170  193  872  489  518  314  271  265\n",
            "  792  484  424  558  353  230  602  475  239  146  990  982  411  605\n",
            "  274  176  764  875  985  861  190  623  326  456  708  125  185   57\n",
            "  132  381  529  769  234  330  531   24  395  949  212  236  580  946\n",
            "  951  197  937  351   37  719  677  311  318  593  898  552   35    5\n",
            "  608  640  503  215  130   75  136  504  646  799  973  637  373  375\n",
            "   62  610  676  526  732  237  494  199   58  941  763  233   83  401\n",
            "   68  481  785  418    7  678  613  908   94  965  261  559  292  468\n",
            "  673  786  260    6  355   13  878  869  738  336  884  596  453  362\n",
            "  650  978  296  918  980  459  225  195  340  963   61  327  657  992\n",
            "  166  979  259  284  797  499  700  981  707  562  923  727  266  682\n",
            "  501  290  438  718  598  746  368  349  652  184  803   46  109  370\n",
            "  229  525  384  726  670  196  842  248  873  216  165   97  806  600\n",
            "  366  305  636  320  721  471]\n",
            "gender\n",
            "['female' 'male' 'woman' 'man']\n",
            "wage\n",
            "[    nan 146500. 140500.  33500.  56500. 138000.  49500.  55500.  79000.\n",
            "  51500.  80000. 142500. 126000. 114500.  74500.  43500. 113500.  89000.\n",
            "  62500.  16500.  66000.  48500.  77500.  73500.  75500.  83000.  29500.\n",
            "  49000.  72000.  80500.  39000. 137000.  54500.  43000. 100000.  81500.\n",
            "  81000.  86000.  85500.  58500.  65500.  52500.  97500.  72500.  42000.\n",
            " 100500. 150000. 110500.  89500. 108500.  60000.  25000.  32500.  50000.\n",
            "  24500. 109500.  37500.  23500. 134500.  18500.  55000.  58000. 121500.\n",
            "  84500. 146000.  38000. 116500.  44500.  31500.  79500.  28500. 120500.\n",
            "  88500.  84000.  71500.  26000. 118000.  21500. 108000.  61000.  59000.\n",
            "  36500. 144500.  25500.  63500.  19500.  35500.  74000.  33000.  97000.\n",
            " 139500. 112000.  82000.  22500.  68000. 113000. 136500.  75000.  70000.\n",
            "  34500.  20500.  87500. 103500.  61500.  76500. 129000.  91500.  60500.\n",
            "  40500.  44000.  23000.  90500.  95000.  57000.  22000.  34000.  52000.\n",
            " 143500.  67500. 106000. 131500.  48000.  29000.  95500.  50500. 126500.\n",
            "  98500.  71000. 148500. 151500. 105500.  69500. 150500.  30000.  76000.\n",
            " 132500. 144000.  26500.  39500.  70500.  53500. 107000.  28000.  87000.\n",
            "  92500. 135500. 131000.  65000.  77000.  41000.  20000. 123500.  66500.\n",
            "  19000.  27000.  99500. 134000.  53000.  17500. 119500.  63000. 101500.\n",
            " 116000.  51000.  54000. 120000.  45500.  62000.  15000.  93500.  18000.\n",
            "  88000. 115500.  73000.  38500.  46000. 124500.  91000.  17000.  64500.\n",
            "  27500.  82500. 125000. 107500. 106500.  42500.  30500.  90000.  59500.\n",
            "  37000. 118500. 145500.  83500.  31000.  85000.  47000. 127500.  41500.\n",
            " 133500. 142000. 152500. 117000. 147500. 114000.  47500.  96000.  21000.\n",
            "  69000. 104500. 147000. 117500.  46500.  32000.  78000. 149500.  78500.\n",
            " 119000. 101000. 138500. 104000. 130000. 133000.  93000. 141500.  45000.\n",
            " 149000. 143000.  86500. 102000.  99000.  35000.  16000. 122000. 123000.\n",
            " 148000.]\n",
            "purchased\n",
            "[0 1]\n",
            "birth_day\n",
            "['1983-08-06T00:00:00.000000000' '1972-01-28T00:00:00.000000000'\n",
            " '1981-12-12T00:00:00.000000000' '1983-05-26T00:00:00.000000000'\n",
            " '1967-11-02T00:00:00.000000000' '1997-02-26T00:00:00.000000000'\n",
            " '1997-07-23T00:00:00.000000000' '1970-05-18T00:00:00.000000000'\n",
            " '1961-08-06T00:00:00.000000000' '1983-12-12T00:00:00.000000000'\n",
            " '1994-12-15T00:00:00.000000000' '1994-01-05T00:00:00.000000000'\n",
            " '1992-08-15T00:00:00.000000000' '1986-10-06T00:00:00.000000000'\n",
            " '1996-09-28T00:00:00.000000000' '1972-11-11T00:00:00.000000000'\n",
            " '1986-11-23T00:00:00.000000000' '1976-09-19T00:00:00.000000000'\n",
            " '1966-11-08T00:00:00.000000000' '1961-10-12T00:00:00.000000000'\n",
            " '1984-05-19T00:00:00.000000000' '1981-11-14T00:00:00.000000000'\n",
            " '1983-03-28T00:00:00.000000000' '1995-07-28T00:00:00.000000000'\n",
            " '1984-01-21T00:00:00.000000000' '1995-04-28T00:00:00.000000000'\n",
            " '1997-07-25T00:00:00.000000000' '1975-09-03T00:00:00.000000000'\n",
            " '1995-09-04T00:00:00.000000000' '1999-07-26T00:00:00.000000000'\n",
            " '1992-10-15T00:00:00.000000000' '1989-11-11T00:00:00.000000000'\n",
            " '1962-02-18T00:00:00.000000000' '1987-07-25T00:00:00.000000000'\n",
            " '1992-04-27T00:00:00.000000000' '1980-12-17T00:00:00.000000000'\n",
            " '1975-04-03T00:00:00.000000000' '2000-06-22T00:00:00.000000000'\n",
            " '1962-07-19T00:00:00.000000000' '1975-11-20T00:00:00.000000000'\n",
            " '1991-07-08T00:00:00.000000000' '1975-08-28T00:00:00.000000000'\n",
            " '1987-09-04T00:00:00.000000000' '1993-10-28T00:00:00.000000000'\n",
            " '1967-11-06T00:00:00.000000000' '1981-11-04T00:00:00.000000000'\n",
            " '1985-09-14T00:00:00.000000000' '1973-03-05T00:00:00.000000000'\n",
            " '1982-11-02T00:00:00.000000000' '1986-12-08T00:00:00.000000000'\n",
            " '1989-03-30T00:00:00.000000000' '1990-06-22T00:00:00.000000000'\n",
            " '1983-05-22T00:00:00.000000000' '2000-07-25T00:00:00.000000000'\n",
            " '1973-07-24T00:00:00.000000000' '1959-10-20T00:00:00.000000000'\n",
            " '1994-05-18T00:00:00.000000000' '1976-07-28T00:00:00.000000000'\n",
            " '1983-12-26T00:00:00.000000000' '1982-08-17T00:00:00.000000000'\n",
            " '1994-12-30T00:00:00.000000000' '1979-11-14T00:00:00.000000000'\n",
            " '1978-09-16T00:00:00.000000000' '1981-12-07T00:00:00.000000000'\n",
            " '1975-12-10T00:00:00.000000000' '1984-03-02T00:00:00.000000000'\n",
            " '1972-10-20T00:00:00.000000000' '1983-03-23T00:00:00.000000000'\n",
            " '1987-05-22T00:00:00.000000000' '1985-02-01T00:00:00.000000000'\n",
            " '1970-08-25T00:00:00.000000000' '1965-09-25T00:00:00.000000000'\n",
            " '1962-05-30T00:00:00.000000000' '1994-10-29T00:00:00.000000000'\n",
            " '1980-10-10T00:00:00.000000000' '1995-10-17T00:00:00.000000000'\n",
            " '1982-07-23T00:00:00.000000000' '1975-04-09T00:00:00.000000000'\n",
            " '1971-03-13T00:00:00.000000000' '1987-01-06T00:00:00.000000000'\n",
            " '1961-09-05T00:00:00.000000000' '1984-07-13T00:00:00.000000000'\n",
            " '1982-06-05T00:00:00.000000000' '1972-07-02T00:00:00.000000000'\n",
            " '1986-06-24T00:00:00.000000000' '2001-01-20T00:00:00.000000000'\n",
            " '1980-12-18T00:00:00.000000000' '1976-12-15T00:00:00.000000000'\n",
            " '1972-11-09T00:00:00.000000000' '1978-07-08T00:00:00.000000000'\n",
            " '1995-11-11T00:00:00.000000000' '1998-09-14T00:00:00.000000000'\n",
            " '1998-05-11T00:00:00.000000000' '1997-03-07T00:00:00.000000000'\n",
            " '1963-08-18T00:00:00.000000000' '1971-05-03T00:00:00.000000000'\n",
            " '1992-06-27T00:00:00.000000000' '2000-08-02T00:00:00.000000000'\n",
            " '1985-08-25T00:00:00.000000000' '1987-03-19T00:00:00.000000000'\n",
            " '1967-02-01T00:00:00.000000000' '1988-06-05T00:00:00.000000000'\n",
            " '1974-03-19T00:00:00.000000000' '1982-08-07T00:00:00.000000000'\n",
            " '1999-12-24T00:00:00.000000000' '1990-12-02T00:00:00.000000000'\n",
            " '1979-07-02T00:00:00.000000000' '1983-04-27T00:00:00.000000000'\n",
            " '1978-08-04T00:00:00.000000000' '1973-10-23T00:00:00.000000000'\n",
            " '2001-01-07T00:00:00.000000000' '1996-03-05T00:00:00.000000000'\n",
            " '1986-12-17T00:00:00.000000000' '1982-01-09T00:00:00.000000000'\n",
            " '1964-09-17T00:00:00.000000000' '1980-10-02T00:00:00.000000000'\n",
            " '1995-03-20T00:00:00.000000000' '1983-07-18T00:00:00.000000000'\n",
            " '1984-01-23T00:00:00.000000000' '1977-04-04T00:00:00.000000000'\n",
            " '1996-02-04T00:00:00.000000000' '1986-06-05T00:00:00.000000000'\n",
            " '1987-07-15T00:00:00.000000000' '1988-04-13T00:00:00.000000000'\n",
            " '1984-06-04T00:00:00.000000000' '1983-06-15T00:00:00.000000000'\n",
            " '1961-11-20T00:00:00.000000000' '1973-03-21T00:00:00.000000000'\n",
            " '1983-12-20T00:00:00.000000000' '1981-12-28T00:00:00.000000000'\n",
            " '1968-01-16T00:00:00.000000000' '1961-01-23T00:00:00.000000000'\n",
            " '1981-06-24T00:00:00.000000000' '1965-05-07T00:00:00.000000000'\n",
            " '1992-07-17T00:00:00.000000000' '1993-01-15T00:00:00.000000000'\n",
            " '1969-04-16T00:00:00.000000000' '1989-01-22T00:00:00.000000000'\n",
            " '1972-04-26T00:00:00.000000000' '1983-04-19T00:00:00.000000000'\n",
            " '1965-11-12T00:00:00.000000000' '1978-09-07T00:00:00.000000000'\n",
            " '1989-12-11T00:00:00.000000000' '1974-12-25T00:00:00.000000000'\n",
            " '1974-04-26T00:00:00.000000000' '1987-08-01T00:00:00.000000000'\n",
            " '1995-06-19T00:00:00.000000000' '1991-03-24T00:00:00.000000000'\n",
            " '1976-05-30T00:00:00.000000000' '1982-04-08T00:00:00.000000000'\n",
            " '1984-07-06T00:00:00.000000000' '1979-06-25T00:00:00.000000000'\n",
            " '1983-02-17T00:00:00.000000000' '1963-05-06T00:00:00.000000000'\n",
            " '1969-12-11T00:00:00.000000000' '1983-12-03T00:00:00.000000000'\n",
            " '1990-12-14T00:00:00.000000000' '1973-11-22T00:00:00.000000000'\n",
            " '2002-07-10T00:00:00.000000000' '2001-02-05T00:00:00.000000000'\n",
            " '1989-07-25T00:00:00.000000000' '1968-12-21T00:00:00.000000000'\n",
            " '1987-06-19T00:00:00.000000000' '1982-12-18T00:00:00.000000000'\n",
            " '1980-10-04T00:00:00.000000000' '1989-08-28T00:00:00.000000000'\n",
            " '1976-11-01T00:00:00.000000000' '1980-02-15T00:00:00.000000000'\n",
            " '1978-03-08T00:00:00.000000000' '1973-06-18T00:00:00.000000000'\n",
            " '1983-04-03T00:00:00.000000000' '1992-01-17T00:00:00.000000000'\n",
            " '2002-03-11T00:00:00.000000000' '1981-03-09T00:00:00.000000000'\n",
            " '1962-10-14T00:00:00.000000000' '1995-07-03T00:00:00.000000000'\n",
            " '1996-11-02T00:00:00.000000000' '1980-01-26T00:00:00.000000000'\n",
            " '1992-12-03T00:00:00.000000000' '1961-11-17T00:00:00.000000000'\n",
            " '1980-12-24T00:00:00.000000000' '1986-02-26T00:00:00.000000000'\n",
            " '1973-08-02T00:00:00.000000000' '1979-10-26T00:00:00.000000000'\n",
            " '1975-03-06T00:00:00.000000000' '1987-06-18T00:00:00.000000000'\n",
            " '1969-10-01T00:00:00.000000000' '2004-02-28T00:00:00.000000000'\n",
            " '1983-12-09T00:00:00.000000000' '1982-10-23T00:00:00.000000000'\n",
            " '1977-01-07T00:00:00.000000000' '1974-04-17T00:00:00.000000000'\n",
            " '1982-06-14T00:00:00.000000000' '1976-05-21T00:00:00.000000000'\n",
            " '1961-09-12T00:00:00.000000000' '1980-04-24T00:00:00.000000000'\n",
            " '1970-09-19T00:00:00.000000000' '1972-09-20T00:00:00.000000000'\n",
            " '1969-04-28T00:00:00.000000000' '1986-09-21T00:00:00.000000000'\n",
            " '1998-08-10T00:00:00.000000000' '1984-04-25T00:00:00.000000000'\n",
            " '1991-07-26T00:00:00.000000000' '1977-03-02T00:00:00.000000000'\n",
            " '1980-09-22T00:00:00.000000000' '1980-02-23T00:00:00.000000000'\n",
            " '1963-06-05T00:00:00.000000000' '1964-08-29T00:00:00.000000000'\n",
            " '1982-01-04T00:00:00.000000000' '1977-08-16T00:00:00.000000000'\n",
            " '1962-03-04T00:00:00.000000000' '1985-09-17T00:00:00.000000000'\n",
            " '1971-05-07T00:00:00.000000000' '1987-09-24T00:00:00.000000000'\n",
            " '1983-07-08T00:00:00.000000000' '1998-06-25T00:00:00.000000000'\n",
            " '1983-05-30T00:00:00.000000000' '1977-10-25T00:00:00.000000000'\n",
            " '1985-06-10T00:00:00.000000000' '1959-02-05T00:00:00.000000000'\n",
            " '1978-09-18T00:00:00.000000000' '1966-09-10T00:00:00.000000000'\n",
            " '1984-01-11T00:00:00.000000000' '1979-11-13T00:00:00.000000000'\n",
            " '1986-11-24T00:00:00.000000000' '1991-11-20T00:00:00.000000000'\n",
            " '1959-07-15T00:00:00.000000000' '1979-08-17T00:00:00.000000000'\n",
            " '1984-09-06T00:00:00.000000000' '1983-09-14T00:00:00.000000000'\n",
            " '1999-08-04T00:00:00.000000000' '1986-10-19T00:00:00.000000000'\n",
            " '1963-07-15T00:00:00.000000000' '1973-04-22T00:00:00.000000000'\n",
            " '1982-01-27T00:00:00.000000000' '1965-04-16T00:00:00.000000000'\n",
            " '1984-02-17T00:00:00.000000000' '2001-10-01T00:00:00.000000000'\n",
            " '1972-10-07T00:00:00.000000000' '2001-06-20T00:00:00.000000000'\n",
            " '1966-07-22T00:00:00.000000000' '1971-11-25T00:00:00.000000000'\n",
            " '1978-02-01T00:00:00.000000000' '1972-03-19T00:00:00.000000000'\n",
            " '1984-10-30T00:00:00.000000000' '1964-05-13T00:00:00.000000000'\n",
            " '1984-10-03T00:00:00.000000000' '1981-03-22T00:00:00.000000000'\n",
            " '1967-04-24T00:00:00.000000000' '1983-06-13T00:00:00.000000000'\n",
            " '1993-04-01T00:00:00.000000000' '1968-11-20T00:00:00.000000000'\n",
            " '1969-07-11T00:00:00.000000000' '1969-12-28T00:00:00.000000000'\n",
            " '1984-01-12T00:00:00.000000000' '1967-08-01T00:00:00.000000000'\n",
            " '1981-03-30T00:00:00.000000000' '1979-01-01T00:00:00.000000000'\n",
            " '1995-01-01T00:00:00.000000000' '1990-02-08T00:00:00.000000000'\n",
            " '1979-02-26T00:00:00.000000000' '1986-02-11T00:00:00.000000000'\n",
            " '2001-02-19T00:00:00.000000000' '1984-06-14T00:00:00.000000000'\n",
            " '1981-10-26T00:00:00.000000000' '1974-12-03T00:00:00.000000000'\n",
            " '1989-02-11T00:00:00.000000000' '2003-02-22T00:00:00.000000000'\n",
            " '2003-12-27T00:00:00.000000000' '1977-01-06T00:00:00.000000000'\n",
            " '1982-05-02T00:00:00.000000000' '1982-10-27T00:00:00.000000000'\n",
            " '1976-02-16T00:00:00.000000000' '1975-11-13T00:00:00.000000000'\n",
            " '2002-09-19T00:00:00.000000000' '1963-08-20T00:00:00.000000000'\n",
            " '1990-02-03T00:00:00.000000000' '1977-12-14T00:00:00.000000000'\n",
            " '1986-11-28T00:00:00.000000000' '1988-10-09T00:00:00.000000000'\n",
            " '1990-06-07T00:00:00.000000000' '1966-06-21T00:00:00.000000000'\n",
            " '1992-11-26T00:00:00.000000000' '1979-08-01T00:00:00.000000000'\n",
            " '1984-04-09T00:00:00.000000000' '1959-03-01T00:00:00.000000000'\n",
            " '1980-03-09T00:00:00.000000000' '1982-06-13T00:00:00.000000000'\n",
            " '1973-11-14T00:00:00.000000000' '1990-04-26T00:00:00.000000000'\n",
            " '1975-04-07T00:00:00.000000000' '1987-02-01T00:00:00.000000000'\n",
            " '1985-12-12T00:00:00.000000000' '1982-08-13T00:00:00.000000000'\n",
            " '1976-05-09T00:00:00.000000000' '1992-04-25T00:00:00.000000000'\n",
            " '1963-10-02T00:00:00.000000000' '1996-09-07T00:00:00.000000000'\n",
            " '1981-08-10T00:00:00.000000000' '1977-04-07T00:00:00.000000000'\n",
            " '1975-03-18T00:00:00.000000000' '1986-05-04T00:00:00.000000000'\n",
            " '1973-06-13T00:00:00.000000000' '1985-10-19T00:00:00.000000000'\n",
            " '1963-04-11T00:00:00.000000000' '1974-05-30T00:00:00.000000000'\n",
            " '1965-02-18T00:00:00.000000000' '1990-09-28T00:00:00.000000000'\n",
            " '1965-08-21T00:00:00.000000000' '1961-06-25T00:00:00.000000000'\n",
            " '1976-08-14T00:00:00.000000000' '1981-11-02T00:00:00.000000000'\n",
            " '1982-09-16T00:00:00.000000000' '1993-01-29T00:00:00.000000000'\n",
            " '1988-01-14T00:00:00.000000000' '1977-06-04T00:00:00.000000000'\n",
            " '2003-11-29T00:00:00.000000000' '1971-09-16T00:00:00.000000000'\n",
            " '1968-06-17T00:00:00.000000000' '1982-03-06T00:00:00.000000000'\n",
            " '1974-07-30T00:00:00.000000000' '1972-10-18T00:00:00.000000000'\n",
            " '1984-08-21T00:00:00.000000000' '1973-12-19T00:00:00.000000000'\n",
            " '1984-12-09T00:00:00.000000000' '1992-04-02T00:00:00.000000000'\n",
            " '1994-09-19T00:00:00.000000000' '1987-07-19T00:00:00.000000000'\n",
            " '1991-09-07T00:00:00.000000000' '1983-01-27T00:00:00.000000000'\n",
            " '1973-03-03T00:00:00.000000000' '1985-10-08T00:00:00.000000000'\n",
            " '1984-02-26T00:00:00.000000000' '1981-12-15T00:00:00.000000000'\n",
            " '1981-12-10T00:00:00.000000000' '1964-03-09T00:00:00.000000000'\n",
            " '1974-01-06T00:00:00.000000000' '1972-06-22T00:00:00.000000000'\n",
            " '1974-08-30T00:00:00.000000000' '1972-05-04T00:00:00.000000000'\n",
            " '1973-08-16T00:00:00.000000000' '1968-05-30T00:00:00.000000000'\n",
            " '1982-10-04T00:00:00.000000000' '1982-03-09T00:00:00.000000000'\n",
            " '1981-01-20T00:00:00.000000000' '1964-03-15T00:00:00.000000000'\n",
            " '1987-03-11T00:00:00.000000000' '1973-09-22T00:00:00.000000000'\n",
            " '1972-02-24T00:00:00.000000000' '1973-03-14T00:00:00.000000000'\n",
            " '1995-03-12T00:00:00.000000000' '1973-02-23T00:00:00.000000000'\n",
            " '1986-09-28T00:00:00.000000000' '1980-07-03T00:00:00.000000000'\n",
            " '2002-01-17T00:00:00.000000000' '1998-10-15T00:00:00.000000000'\n",
            " '1984-06-28T00:00:00.000000000' '1989-11-27T00:00:00.000000000'\n",
            " '1998-11-24T00:00:00.000000000' '1974-10-12T00:00:00.000000000'\n",
            " '1984-06-02T00:00:00.000000000' '1976-11-03T00:00:00.000000000'\n",
            " '1984-01-16T00:00:00.000000000' '1961-05-05T00:00:00.000000000'\n",
            " '1987-08-08T00:00:00.000000000' '1985-09-19T00:00:00.000000000'\n",
            " '1983-10-16T00:00:00.000000000' '1985-12-22T00:00:00.000000000'\n",
            " '1991-03-01T00:00:00.000000000' '1994-08-01T00:00:00.000000000'\n",
            " '1991-12-30T00:00:00.000000000' '2000-09-29T00:00:00.000000000'\n",
            " '1974-08-01T00:00:00.000000000' '1971-10-18T00:00:00.000000000'\n",
            " '1981-06-27T00:00:00.000000000' '1973-12-24T00:00:00.000000000'\n",
            " '1986-07-24T00:00:00.000000000' '1986-10-20T00:00:00.000000000'\n",
            " '1984-02-10T00:00:00.000000000' '1984-11-13T00:00:00.000000000'\n",
            " '1965-02-07T00:00:00.000000000' '1990-08-23T00:00:00.000000000'\n",
            " '2003-06-02T00:00:00.000000000' '1983-01-12T00:00:00.000000000'\n",
            " '1988-12-29T00:00:00.000000000' '1973-08-13T00:00:00.000000000'\n",
            " '1976-09-12T00:00:00.000000000' '1989-02-10T00:00:00.000000000'\n",
            " '1997-11-28T00:00:00.000000000' '1963-07-22T00:00:00.000000000'\n",
            " '1996-08-19T00:00:00.000000000' '1992-03-04T00:00:00.000000000'\n",
            " '1984-02-14T00:00:00.000000000' '1975-08-23T00:00:00.000000000'\n",
            " '1975-06-24T00:00:00.000000000' '1986-10-08T00:00:00.000000000'\n",
            " '1979-01-15T00:00:00.000000000' '1995-03-24T00:00:00.000000000'\n",
            " '1991-04-05T00:00:00.000000000' '1999-05-27T00:00:00.000000000'\n",
            " '1987-04-17T00:00:00.000000000' '1997-08-26T00:00:00.000000000'\n",
            " '1987-05-29T00:00:00.000000000' '1990-05-25T00:00:00.000000000'\n",
            " '1982-09-17T00:00:00.000000000' '2003-09-02T00:00:00.000000000'\n",
            " '1971-11-19T00:00:00.000000000' '1962-01-12T00:00:00.000000000'\n",
            " '1992-08-08T00:00:00.000000000' '1967-10-24T00:00:00.000000000'\n",
            " '2003-07-30T00:00:00.000000000' '1992-04-10T00:00:00.000000000'\n",
            " '1990-11-28T00:00:00.000000000' '1984-08-15T00:00:00.000000000'\n",
            " '1991-08-23T00:00:00.000000000' '1970-03-27T00:00:00.000000000'\n",
            " '1992-05-23T00:00:00.000000000' '2004-11-11T00:00:00.000000000'\n",
            " '1979-01-09T00:00:00.000000000' '1983-11-20T00:00:00.000000000'\n",
            " '1962-10-02T00:00:00.000000000' '1973-10-14T00:00:00.000000000'\n",
            " '1986-08-26T00:00:00.000000000' '1981-09-15T00:00:00.000000000'\n",
            " '1979-02-19T00:00:00.000000000' '1969-10-05T00:00:00.000000000'\n",
            " '1987-12-02T00:00:00.000000000' '1985-09-24T00:00:00.000000000'\n",
            " '1977-12-06T00:00:00.000000000' '1980-05-23T00:00:00.000000000'\n",
            " '2000-11-04T00:00:00.000000000' '1986-09-05T00:00:00.000000000'\n",
            " '1987-02-24T00:00:00.000000000' '1970-06-19T00:00:00.000000000'\n",
            " '1985-07-05T00:00:00.000000000' '1990-11-17T00:00:00.000000000'\n",
            " '1990-12-22T00:00:00.000000000' '1991-01-10T00:00:00.000000000'\n",
            " '1980-12-26T00:00:00.000000000' '1971-03-14T00:00:00.000000000'\n",
            " '1984-10-02T00:00:00.000000000' '1971-09-21T00:00:00.000000000'\n",
            " '1969-02-16T00:00:00.000000000' '1987-12-29T00:00:00.000000000'\n",
            " '1973-01-05T00:00:00.000000000' '1962-12-11T00:00:00.000000000'\n",
            " '1976-04-20T00:00:00.000000000' '1980-07-14T00:00:00.000000000'\n",
            " '1980-07-21T00:00:00.000000000' '1977-06-03T00:00:00.000000000'\n",
            " '1971-04-13T00:00:00.000000000' '1968-07-14T00:00:00.000000000'\n",
            " '1984-09-26T00:00:00.000000000' '1980-03-28T00:00:00.000000000'\n",
            " '1979-08-24T00:00:00.000000000' '1980-06-19T00:00:00.000000000'\n",
            " '1982-09-07T00:00:00.000000000' '1987-10-08T00:00:00.000000000'\n",
            " '2002-06-12T00:00:00.000000000' '1992-04-01T00:00:00.000000000'\n",
            " '1986-09-10T00:00:00.000000000' '1983-07-05T00:00:00.000000000'\n",
            " '1972-10-08T00:00:00.000000000' '1999-10-07T00:00:00.000000000'\n",
            " '1980-08-09T00:00:00.000000000' '1964-11-21T00:00:00.000000000'\n",
            " '1986-05-21T00:00:00.000000000' '1964-05-24T00:00:00.000000000'\n",
            " '1982-02-08T00:00:00.000000000' '1964-06-28T00:00:00.000000000'\n",
            " '1965-04-15T00:00:00.000000000' '1988-08-18T00:00:00.000000000'\n",
            " '1969-10-19T00:00:00.000000000' '1987-07-22T00:00:00.000000000'\n",
            " '1975-07-18T00:00:00.000000000' '1981-08-24T00:00:00.000000000'\n",
            " '1988-12-02T00:00:00.000000000' '1986-03-07T00:00:00.000000000'\n",
            " '1973-12-05T00:00:00.000000000' '1973-02-17T00:00:00.000000000'\n",
            " '2002-10-27T00:00:00.000000000' '1982-02-10T00:00:00.000000000'\n",
            " '1979-09-19T00:00:00.000000000' '1972-09-12T00:00:00.000000000'\n",
            " '1981-12-22T00:00:00.000000000' '1995-09-05T00:00:00.000000000'\n",
            " '1974-08-22T00:00:00.000000000' '1979-05-03T00:00:00.000000000'\n",
            " '1995-07-18T00:00:00.000000000' '1962-07-11T00:00:00.000000000'\n",
            " '1991-04-09T00:00:00.000000000' '1993-07-07T00:00:00.000000000'\n",
            " '1974-02-24T00:00:00.000000000' '1999-02-28T00:00:00.000000000'\n",
            " '1985-05-23T00:00:00.000000000' '1977-08-17T00:00:00.000000000'\n",
            " '1993-11-08T00:00:00.000000000' '1994-10-08T00:00:00.000000000'\n",
            " '1986-07-07T00:00:00.000000000' '1994-04-06T00:00:00.000000000'\n",
            " '1980-08-07T00:00:00.000000000' '1973-09-28T00:00:00.000000000'\n",
            " '1989-01-13T00:00:00.000000000' '1963-12-19T00:00:00.000000000'\n",
            " '1988-10-03T00:00:00.000000000' '1980-10-08T00:00:00.000000000'\n",
            " '1983-09-01T00:00:00.000000000' '1969-07-17T00:00:00.000000000'\n",
            " '1997-02-03T00:00:00.000000000' '1998-01-03T00:00:00.000000000'\n",
            " '1977-11-21T00:00:00.000000000' '1960-06-22T00:00:00.000000000'\n",
            " '1990-02-28T00:00:00.000000000' '2002-12-09T00:00:00.000000000'\n",
            " '1974-01-08T00:00:00.000000000' '1976-01-16T00:00:00.000000000'\n",
            " '1985-04-28T00:00:00.000000000' '1968-01-03T00:00:00.000000000'\n",
            " '1984-10-20T00:00:00.000000000' '1995-06-02T00:00:00.000000000'\n",
            " '1990-11-13T00:00:00.000000000' '1997-10-03T00:00:00.000000000'\n",
            " '1985-12-13T00:00:00.000000000' '1994-01-27T00:00:00.000000000'\n",
            " '1962-10-09T00:00:00.000000000' '1974-12-12T00:00:00.000000000'\n",
            " '1993-05-25T00:00:00.000000000' '1994-01-23T00:00:00.000000000'\n",
            " '1985-01-22T00:00:00.000000000' '1974-05-26T00:00:00.000000000'\n",
            " '1995-12-27T00:00:00.000000000' '1991-05-28T00:00:00.000000000'\n",
            " '1989-06-28T00:00:00.000000000' '1986-11-12T00:00:00.000000000'\n",
            " '1978-09-23T00:00:00.000000000' '1996-02-22T00:00:00.000000000'\n",
            " '1982-09-04T00:00:00.000000000' '1966-07-10T00:00:00.000000000'\n",
            " '1964-04-14T00:00:00.000000000' '1993-02-12T00:00:00.000000000'\n",
            " '1982-12-03T00:00:00.000000000' '1981-10-06T00:00:00.000000000'\n",
            " '2001-10-02T00:00:00.000000000' '1980-02-06T00:00:00.000000000'\n",
            " '1991-11-21T00:00:00.000000000' '1993-10-25T00:00:00.000000000'\n",
            " '1983-01-13T00:00:00.000000000' '1991-10-27T00:00:00.000000000'\n",
            " '1996-09-20T00:00:00.000000000' '1982-05-23T00:00:00.000000000'\n",
            " '1980-07-02T00:00:00.000000000' '1994-12-03T00:00:00.000000000'\n",
            " '1973-01-22T00:00:00.000000000' '1981-02-24T00:00:00.000000000'\n",
            " '1962-08-13T00:00:00.000000000' '1994-05-23T00:00:00.000000000'\n",
            " '1981-09-06T00:00:00.000000000' '1987-06-17T00:00:00.000000000'\n",
            " '1972-05-20T00:00:00.000000000' '1995-11-07T00:00:00.000000000'\n",
            " '2004-09-15T00:00:00.000000000' '1985-01-10T00:00:00.000000000'\n",
            " '1970-04-25T00:00:00.000000000' '1978-05-25T00:00:00.000000000'\n",
            " '1981-09-18T00:00:00.000000000' '1966-07-19T00:00:00.000000000'\n",
            " '1974-12-26T00:00:00.000000000' '1982-12-10T00:00:00.000000000'\n",
            " '2003-03-12T00:00:00.000000000' '1975-02-06T00:00:00.000000000'\n",
            " '1994-11-05T00:00:00.000000000' '1966-11-27T00:00:00.000000000'\n",
            " '1993-07-17T00:00:00.000000000' '1979-09-11T00:00:00.000000000'\n",
            " '1973-07-06T00:00:00.000000000' '1981-03-20T00:00:00.000000000'\n",
            " '1963-05-05T00:00:00.000000000' '1982-02-21T00:00:00.000000000'\n",
            " '1990-08-09T00:00:00.000000000' '1967-07-04T00:00:00.000000000'\n",
            " '1975-07-23T00:00:00.000000000' '1990-05-01T00:00:00.000000000'\n",
            " '1984-12-06T00:00:00.000000000' '1994-01-28T00:00:00.000000000'\n",
            " '1975-12-15T00:00:00.000000000' '1976-12-27T00:00:00.000000000'\n",
            " '1997-08-10T00:00:00.000000000' '1986-07-19T00:00:00.000000000'\n",
            " '1982-09-24T00:00:00.000000000' '1970-10-04T00:00:00.000000000'\n",
            " '1970-11-11T00:00:00.000000000' '1969-12-19T00:00:00.000000000'\n",
            " '1984-11-07T00:00:00.000000000' '1974-07-10T00:00:00.000000000'\n",
            " '1995-12-02T00:00:00.000000000' '1974-03-15T00:00:00.000000000'\n",
            " '2001-06-27T00:00:00.000000000' '1980-04-17T00:00:00.000000000'\n",
            " '1979-12-11T00:00:00.000000000' '1970-01-10T00:00:00.000000000'\n",
            " '1974-10-16T00:00:00.000000000' '1980-01-19T00:00:00.000000000'\n",
            " '1989-09-12T00:00:00.000000000' '1989-10-17T00:00:00.000000000'\n",
            " '1982-11-03T00:00:00.000000000' '1976-02-20T00:00:00.000000000'\n",
            " '1979-10-12T00:00:00.000000000' '1993-12-24T00:00:00.000000000'\n",
            " '1967-08-10T00:00:00.000000000' '1996-07-28T00:00:00.000000000'\n",
            " '1979-09-24T00:00:00.000000000' '1994-05-03T00:00:00.000000000'\n",
            " '1978-03-05T00:00:00.000000000' '1997-05-03T00:00:00.000000000'\n",
            " '2003-02-07T00:00:00.000000000' '1991-04-21T00:00:00.000000000'\n",
            " '1993-12-09T00:00:00.000000000' '1995-11-14T00:00:00.000000000'\n",
            " '1978-06-04T00:00:00.000000000' '1989-09-18T00:00:00.000000000'\n",
            " '1995-06-29T00:00:00.000000000' '1994-07-28T00:00:00.000000000'\n",
            " '1968-03-30T00:00:00.000000000' '1959-10-10T00:00:00.000000000'\n",
            " '1972-09-10T00:00:00.000000000' '1995-02-12T00:00:00.000000000'\n",
            " '1971-09-01T00:00:00.000000000' '1995-11-16T00:00:00.000000000'\n",
            " '1997-06-04T00:00:00.000000000' '1987-10-13T00:00:00.000000000'\n",
            " '1982-11-21T00:00:00.000000000' '1967-03-25T00:00:00.000000000'\n",
            " '1984-06-18T00:00:00.000000000' '1980-09-03T00:00:00.000000000'\n",
            " '1981-11-13T00:00:00.000000000' '1993-12-03T00:00:00.000000000'\n",
            " '1986-05-02T00:00:00.000000000' '1979-04-02T00:00:00.000000000'\n",
            " '1980-02-10T00:00:00.000000000' '1992-02-11T00:00:00.000000000'\n",
            " '1978-12-29T00:00:00.000000000' '2002-06-08T00:00:00.000000000'\n",
            " '1971-12-09T00:00:00.000000000' '1993-12-26T00:00:00.000000000'\n",
            " '1971-02-19T00:00:00.000000000' '1979-03-01T00:00:00.000000000'\n",
            " '1971-12-24T00:00:00.000000000' '1989-06-29T00:00:00.000000000'\n",
            " '1975-10-04T00:00:00.000000000' '2001-02-18T00:00:00.000000000'\n",
            " '1996-02-28T00:00:00.000000000' '1989-03-16T00:00:00.000000000'\n",
            " '1973-02-07T00:00:00.000000000' '1984-04-06T00:00:00.000000000'\n",
            " '1981-02-04T00:00:00.000000000' '1991-03-03T00:00:00.000000000'\n",
            " '1978-09-12T00:00:00.000000000' '2001-12-28T00:00:00.000000000'\n",
            " '1999-11-07T00:00:00.000000000' '1983-08-16T00:00:00.000000000'\n",
            " '1970-09-11T00:00:00.000000000' '1972-12-18T00:00:00.000000000'\n",
            " '1974-12-18T00:00:00.000000000' '1993-05-06T00:00:00.000000000'\n",
            " '1984-11-09T00:00:00.000000000' '1998-07-25T00:00:00.000000000'\n",
            " '1984-12-14T00:00:00.000000000' '1992-08-10T00:00:00.000000000'\n",
            " '1985-04-19T00:00:00.000000000' '1980-12-01T00:00:00.000000000'\n",
            " '1972-01-18T00:00:00.000000000' '1981-11-21T00:00:00.000000000'\n",
            " '1985-07-27T00:00:00.000000000' '1980-12-13T00:00:00.000000000'\n",
            " '1992-01-30T00:00:00.000000000' '1981-05-10T00:00:00.000000000'\n",
            " '1962-11-28T00:00:00.000000000' '1983-07-12T00:00:00.000000000'\n",
            " '1973-08-18T00:00:00.000000000' '1960-01-10T00:00:00.000000000'\n",
            " '1975-12-07T00:00:00.000000000' '1975-06-04T00:00:00.000000000'\n",
            " '1978-10-19T00:00:00.000000000' '1986-10-26T00:00:00.000000000'\n",
            " '1976-02-21T00:00:00.000000000' '1982-10-18T00:00:00.000000000'\n",
            " '1970-04-07T00:00:00.000000000' '1975-02-09T00:00:00.000000000'\n",
            " '1987-10-19T00:00:00.000000000' '1996-02-20T00:00:00.000000000'\n",
            " '1974-02-05T00:00:00.000000000' '1974-11-02T00:00:00.000000000'\n",
            " '1996-09-29T00:00:00.000000000' '2002-08-20T00:00:00.000000000'\n",
            " '1994-03-03T00:00:00.000000000' '1987-08-09T00:00:00.000000000'\n",
            " '2003-04-15T00:00:00.000000000' '1974-02-26T00:00:00.000000000'\n",
            " '1994-12-29T00:00:00.000000000' '1982-11-07T00:00:00.000000000'\n",
            " '1978-11-22T00:00:00.000000000' '1995-01-18T00:00:00.000000000'\n",
            " '1977-09-28T00:00:00.000000000' '1986-02-12T00:00:00.000000000'\n",
            " '1972-04-17T00:00:00.000000000' '1998-07-04T00:00:00.000000000'\n",
            " '1988-08-21T00:00:00.000000000' '1983-02-16T00:00:00.000000000'\n",
            " '2003-11-20T00:00:00.000000000' '1963-04-22T00:00:00.000000000'\n",
            " '1986-12-28T00:00:00.000000000' '1987-12-17T00:00:00.000000000'\n",
            " '1997-09-28T00:00:00.000000000' '2003-01-27T00:00:00.000000000'\n",
            " '1962-10-17T00:00:00.000000000' '1995-11-01T00:00:00.000000000'\n",
            " '1982-08-02T00:00:00.000000000' '1962-08-09T00:00:00.000000000'\n",
            " '1998-07-01T00:00:00.000000000' '1961-04-18T00:00:00.000000000'\n",
            " '1992-03-26T00:00:00.000000000' '1965-09-07T00:00:00.000000000'\n",
            " '1991-02-04T00:00:00.000000000' '1976-09-10T00:00:00.000000000'\n",
            " '1993-07-05T00:00:00.000000000' '1982-10-20T00:00:00.000000000'\n",
            " '1962-06-23T00:00:00.000000000' '1981-08-02T00:00:00.000000000'\n",
            " '1985-02-24T00:00:00.000000000' '1998-08-19T00:00:00.000000000'\n",
            " '1981-04-07T00:00:00.000000000' '1990-08-26T00:00:00.000000000'\n",
            " '1986-10-27T00:00:00.000000000' '1974-08-27T00:00:00.000000000'\n",
            " '1985-11-16T00:00:00.000000000' '2004-01-05T00:00:00.000000000'\n",
            " '1977-06-09T00:00:00.000000000' '1959-06-19T00:00:00.000000000'\n",
            " '1990-12-07T00:00:00.000000000' '1985-03-26T00:00:00.000000000'\n",
            " '2000-05-29T00:00:00.000000000' '1986-11-15T00:00:00.000000000'\n",
            " '1982-04-28T00:00:00.000000000' '1968-05-02T00:00:00.000000000'\n",
            " '1960-08-08T00:00:00.000000000' '1986-07-03T00:00:00.000000000'\n",
            " '1972-05-12T00:00:00.000000000' '1983-02-26T00:00:00.000000000'\n",
            " '1976-06-04T00:00:00.000000000' '1982-02-07T00:00:00.000000000'\n",
            " '1977-08-05T00:00:00.000000000' '2002-12-17T00:00:00.000000000'\n",
            " '1977-04-18T00:00:00.000000000' '1997-10-29T00:00:00.000000000'\n",
            " '1982-07-07T00:00:00.000000000' '1981-10-03T00:00:00.000000000'\n",
            " '1966-09-22T00:00:00.000000000' '1979-09-29T00:00:00.000000000'\n",
            " '1974-04-13T00:00:00.000000000' '1981-05-26T00:00:00.000000000'\n",
            " '1984-04-03T00:00:00.000000000' '1976-08-18T00:00:00.000000000'\n",
            " '1982-08-04T00:00:00.000000000' '1994-10-04T00:00:00.000000000'\n",
            " '1974-01-25T00:00:00.000000000' '2003-02-01T00:00:00.000000000'\n",
            " '1987-08-10T00:00:00.000000000' '1985-05-06T00:00:00.000000000'\n",
            " '1985-04-06T00:00:00.000000000' '2000-01-18T00:00:00.000000000'\n",
            " '1960-11-05T00:00:00.000000000' '1974-12-04T00:00:00.000000000'\n",
            " '1965-07-21T00:00:00.000000000' '2001-11-04T00:00:00.000000000'\n",
            " '1976-01-11T00:00:00.000000000' '1964-09-26T00:00:00.000000000'\n",
            " '1985-04-25T00:00:00.000000000' '1966-08-03T00:00:00.000000000'\n",
            " '1964-09-04T00:00:00.000000000' '1979-09-20T00:00:00.000000000'\n",
            " '1984-05-16T00:00:00.000000000' '1985-11-28T00:00:00.000000000'\n",
            " '1979-08-20T00:00:00.000000000' '1975-09-10T00:00:00.000000000'\n",
            " '1974-04-09T00:00:00.000000000' '1981-08-13T00:00:00.000000000'\n",
            " '1984-07-03T00:00:00.000000000' '1967-08-13T00:00:00.000000000'\n",
            " '1996-09-19T00:00:00.000000000' '1985-12-06T00:00:00.000000000'\n",
            " '1993-12-14T00:00:00.000000000' '1994-09-26T00:00:00.000000000'\n",
            " '1970-08-30T00:00:00.000000000' '1973-04-08T00:00:00.000000000'\n",
            " '1987-12-05T00:00:00.000000000' '1991-02-11T00:00:00.000000000'\n",
            " '1999-08-07T00:00:00.000000000' '1996-09-09T00:00:00.000000000'\n",
            " '1982-01-03T00:00:00.000000000' '1980-01-27T00:00:00.000000000'\n",
            " '1988-04-22T00:00:00.000000000' '1985-09-28T00:00:00.000000000'\n",
            " '1980-07-08T00:00:00.000000000' '1971-08-13T00:00:00.000000000'\n",
            " '1973-10-20T00:00:00.000000000' '1977-03-06T00:00:00.000000000'\n",
            " '1994-11-04T00:00:00.000000000' '1967-05-18T00:00:00.000000000'\n",
            " '1968-07-25T00:00:00.000000000' '1990-09-06T00:00:00.000000000'\n",
            " '1973-10-26T00:00:00.000000000' '1981-08-26T00:00:00.000000000'\n",
            " '1967-03-27T00:00:00.000000000' '1976-02-01T00:00:00.000000000'\n",
            " '1995-03-30T00:00:00.000000000' '1978-11-09T00:00:00.000000000'\n",
            " '1972-07-18T00:00:00.000000000' '1972-06-28T00:00:00.000000000'\n",
            " '1987-03-27T00:00:00.000000000' '1975-05-05T00:00:00.000000000'\n",
            " '1996-12-27T00:00:00.000000000' '1961-05-24T00:00:00.000000000'\n",
            " '1970-07-12T00:00:00.000000000' '1971-12-25T00:00:00.000000000'\n",
            " '1996-11-22T00:00:00.000000000' '1987-08-07T00:00:00.000000000'\n",
            " '1980-03-01T00:00:00.000000000' '1979-11-10T00:00:00.000000000'\n",
            " '1984-10-27T00:00:00.000000000' '1978-10-05T00:00:00.000000000'\n",
            " '1987-03-23T00:00:00.000000000' '1987-01-21T00:00:00.000000000'\n",
            " '1985-04-17T00:00:00.000000000' '1991-07-07T00:00:00.000000000'\n",
            " '1975-08-04T00:00:00.000000000' '1984-04-02T00:00:00.000000000'\n",
            " '2004-04-05T00:00:00.000000000' '1983-10-14T00:00:00.000000000'\n",
            " '1969-04-21T00:00:00.000000000' '1986-04-25T00:00:00.000000000'\n",
            " '1986-07-27T00:00:00.000000000' '1981-07-29T00:00:00.000000000'\n",
            " '2000-08-16T00:00:00.000000000' '1963-12-28T00:00:00.000000000'\n",
            " '1974-11-19T00:00:00.000000000' '1988-11-23T00:00:00.000000000'\n",
            " '1973-10-24T00:00:00.000000000' '1977-04-17T00:00:00.000000000'\n",
            " '1962-11-23T00:00:00.000000000' '1980-11-09T00:00:00.000000000'\n",
            " '1981-09-03T00:00:00.000000000' '1979-03-21T00:00:00.000000000'\n",
            " '1966-04-06T00:00:00.000000000' '1987-04-09T00:00:00.000000000'\n",
            " '1962-05-07T00:00:00.000000000' '1984-09-09T00:00:00.000000000'\n",
            " '1999-06-05T00:00:00.000000000' '1968-12-28T00:00:00.000000000'\n",
            " '1998-04-09T00:00:00.000000000' '1985-11-19T00:00:00.000000000'\n",
            " '1987-05-12T00:00:00.000000000' '1959-01-26T00:00:00.000000000'\n",
            " '1980-03-30T00:00:00.000000000' '1975-07-22T00:00:00.000000000'\n",
            " '1963-01-27T00:00:00.000000000' '1997-05-22T00:00:00.000000000'\n",
            " '1974-11-14T00:00:00.000000000' '1980-07-27T00:00:00.000000000'\n",
            " '2002-07-26T00:00:00.000000000' '1991-07-16T00:00:00.000000000'\n",
            " '1981-06-28T00:00:00.000000000' '2000-08-30T00:00:00.000000000'\n",
            " '2002-12-14T00:00:00.000000000' '1979-03-06T00:00:00.000000000'\n",
            " '1988-08-09T00:00:00.000000000' '1996-01-30T00:00:00.000000000'\n",
            " '1996-04-17T00:00:00.000000000' '1986-05-08T00:00:00.000000000'\n",
            " '1960-04-01T00:00:00.000000000' '1987-08-17T00:00:00.000000000'\n",
            " '1960-07-22T00:00:00.000000000' '1971-11-15T00:00:00.000000000'\n",
            " '1994-06-18T00:00:00.000000000' '1971-02-27T00:00:00.000000000'\n",
            " '1975-12-21T00:00:00.000000000' '1983-02-20T00:00:00.000000000'\n",
            " '1983-10-17T00:00:00.000000000' '2002-12-18T00:00:00.000000000'\n",
            " '1988-02-20T00:00:00.000000000' '1992-01-29T00:00:00.000000000'\n",
            " '1989-08-19T00:00:00.000000000' '1982-03-07T00:00:00.000000000'\n",
            " '1984-10-22T00:00:00.000000000' '1962-02-01T00:00:00.000000000'\n",
            " '1968-07-15T00:00:00.000000000' '1986-06-09T00:00:00.000000000'\n",
            " '1991-09-08T00:00:00.000000000' '1993-05-14T00:00:00.000000000'\n",
            " '1981-09-16T00:00:00.000000000' '1962-11-12T00:00:00.000000000'\n",
            " '1987-04-28T00:00:00.000000000' '1984-10-18T00:00:00.000000000'\n",
            " '1966-11-10T00:00:00.000000000' '1986-09-04T00:00:00.000000000'\n",
            " '1986-09-09T00:00:00.000000000' '1985-02-04T00:00:00.000000000'\n",
            " '1983-12-07T00:00:00.000000000' '1996-05-28T00:00:00.000000000'\n",
            " '1996-03-29T00:00:00.000000000' '1988-03-29T00:00:00.000000000'\n",
            " '1995-12-22T00:00:00.000000000' '1997-10-01T00:00:00.000000000'\n",
            " '1996-02-17T00:00:00.000000000' '1970-08-03T00:00:00.000000000'\n",
            " '1969-12-09T00:00:00.000000000' '1970-05-27T00:00:00.000000000'\n",
            " '1963-06-07T00:00:00.000000000' '1964-03-10T00:00:00.000000000'\n",
            " '1984-08-14T00:00:00.000000000' '1996-02-24T00:00:00.000000000'\n",
            " '1969-10-20T00:00:00.000000000' '1995-02-11T00:00:00.000000000'\n",
            " '1993-12-27T00:00:00.000000000' '1981-06-20T00:00:00.000000000'\n",
            " '1987-07-30T00:00:00.000000000' '1989-03-27T00:00:00.000000000'\n",
            " '1985-12-30T00:00:00.000000000' '1963-03-15T00:00:00.000000000'\n",
            " '1993-12-02T00:00:00.000000000' '1984-08-11T00:00:00.000000000'\n",
            " '1987-07-17T00:00:00.000000000' '1964-05-23T00:00:00.000000000'\n",
            " '1974-06-27T00:00:00.000000000' '1965-09-23T00:00:00.000000000'\n",
            " '1988-03-21T00:00:00.000000000' '1994-02-23T00:00:00.000000000'\n",
            " '1975-01-03T00:00:00.000000000' '1980-02-16T00:00:00.000000000'\n",
            " '1986-04-26T00:00:00.000000000' '1986-10-30T00:00:00.000000000'\n",
            " '1993-03-10T00:00:00.000000000' '1967-09-29T00:00:00.000000000'\n",
            " '1964-08-23T00:00:00.000000000' '1961-02-16T00:00:00.000000000'\n",
            " '1975-04-11T00:00:00.000000000' '1998-10-24T00:00:00.000000000'\n",
            " '1965-03-06T00:00:00.000000000' '1980-06-09T00:00:00.000000000'\n",
            " '1994-03-17T00:00:00.000000000' '1999-12-20T00:00:00.000000000'\n",
            " '1981-12-24T00:00:00.000000000' '1977-04-13T00:00:00.000000000'\n",
            " '1992-06-14T00:00:00.000000000' '1999-06-06T00:00:00.000000000'\n",
            " '1998-06-11T00:00:00.000000000' '1986-04-11T00:00:00.000000000'\n",
            " '1991-08-16T00:00:00.000000000' '1961-04-26T00:00:00.000000000'\n",
            " '2002-03-25T00:00:00.000000000' '1982-02-16T00:00:00.000000000'\n",
            " '1977-10-28T00:00:00.000000000' '1969-03-09T00:00:00.000000000'\n",
            " '1970-08-26T00:00:00.000000000' '1993-11-23T00:00:00.000000000']\n"
          ]
        }
      ]
    },
    {
      "cell_type": "code",
      "source": [
        "dataset['gender'].value_counts(normalize=True)"
      ],
      "metadata": {
        "colab": {
          "base_uri": "https://localhost:8080/"
        },
        "id": "yD8Lx6Smpqbc",
        "outputId": "31652a27-bc61-4b17-9cff-908a4f8c253a"
      },
      "execution_count": 11,
      "outputs": [
        {
          "output_type": "execute_result",
          "data": {
            "text/plain": [
              "female    0.440375\n",
              "male      0.429302\n",
              "woman     0.074106\n",
              "man       0.056218\n",
              "Name: gender, dtype: float64"
            ]
          },
          "metadata": {},
          "execution_count": 11
        }
      ]
    },
    {
      "cell_type": "code",
      "source": [
        "dataset = (dataset\n",
        "        .replace({'man':'male',\n",
        "                  'woman':'female'}))\n",
        "dataset['gender'].value_counts()"
      ],
      "metadata": {
        "colab": {
          "base_uri": "https://localhost:8080/"
        },
        "id": "XS1U73IAq8I_",
        "outputId": "2dd90f16-389f-4b67-c766-b38673b101d4"
      },
      "execution_count": 12,
      "outputs": [
        {
          "output_type": "execute_result",
          "data": {
            "text/plain": [
              "female    604\n",
              "male      570\n",
              "Name: gender, dtype: int64"
            ]
          },
          "metadata": {},
          "execution_count": 12
        }
      ]
    },
    {
      "cell_type": "code",
      "source": [
        "dataset ['gender'].value_counts(normalize=True)"
      ],
      "metadata": {
        "colab": {
          "base_uri": "https://localhost:8080/"
        },
        "id": "qymzpPnsrLM1",
        "outputId": "ac963f0a-511c-4827-eec3-6dab9f2e1709"
      },
      "execution_count": 13,
      "outputs": [
        {
          "output_type": "execute_result",
          "data": {
            "text/plain": [
              "female    0.51448\n",
              "male      0.48552\n",
              "Name: gender, dtype: float64"
            ]
          },
          "metadata": {},
          "execution_count": 13
        }
      ]
    },
    {
      "cell_type": "code",
      "source": [
        "dataset.duplicated().sum()"
      ],
      "metadata": {
        "colab": {
          "base_uri": "https://localhost:8080/"
        },
        "id": "X71q4SM4rXZt",
        "outputId": "6f3bb903-ea23-45d5-8c03-28638353d523"
      },
      "execution_count": 14,
      "outputs": [
        {
          "output_type": "execute_result",
          "data": {
            "text/plain": [
              "174"
            ]
          },
          "metadata": {},
          "execution_count": 14
        }
      ]
    },
    {
      "cell_type": "code",
      "source": [
        "dataset = dataset.drop_duplicates().reset_index(drop=True)"
      ],
      "metadata": {
        "id": "2b0nk2BhdVIQ"
      },
      "execution_count": 15,
      "outputs": []
    },
    {
      "cell_type": "code",
      "source": [
        "dataset.duplicated().sum()"
      ],
      "metadata": {
        "colab": {
          "base_uri": "https://localhost:8080/"
        },
        "id": "sSiSJ_zDe20F",
        "outputId": "876e26da-abb1-44c3-e2a7-476492f8fdf4"
      },
      "execution_count": 16,
      "outputs": [
        {
          "output_type": "execute_result",
          "data": {
            "text/plain": [
              "0"
            ]
          },
          "metadata": {},
          "execution_count": 16
        }
      ]
    },
    {
      "cell_type": "markdown",
      "source": [
        "### Conclusión \n",
        "Para la revisión de duplicados implícitos y explícitos, se hizo uso del comando value_counts que nos permite conocer la frecuencia de los datos y se pudo encontrar que la variable Gender se repitan Female- Woman y Man- Male. Para esto se unificaron los datos y por otro lado con el comando dataset.duplicated se encontraron 174 duplicados que posteriormente fueron eliminados.\n"
      ],
      "metadata": {
        "id": "uti-kYwh9BFp"
      }
    },
    {
      "cell_type": "markdown",
      "source": [
        "## Verificación de missing values y tratamiento"
      ],
      "metadata": {
        "id": "pA9KcB7bs4qu"
      }
    },
    {
      "cell_type": "code",
      "source": [
        "dataset.isna().sum()"
      ],
      "metadata": {
        "colab": {
          "base_uri": "https://localhost:8080/"
        },
        "id": "2Tlg2-cmthqW",
        "outputId": "62d672b6-55ca-4ef2-bfa9-c28f5a3fa933"
      },
      "execution_count": 17,
      "outputs": [
        {
          "output_type": "execute_result",
          "data": {
            "text/plain": [
              "user_id        0\n",
              "gender         0\n",
              "wage         214\n",
              "purchased      0\n",
              "birth_day      0\n",
              "dtype: int64"
            ]
          },
          "metadata": {},
          "execution_count": 17
        }
      ]
    },
    {
      "cell_type": "code",
      "source": [
        "datasetna = dataset.dropna()"
      ],
      "metadata": {
        "id": "zSgCGFB5ernO"
      },
      "execution_count": 18,
      "outputs": []
    },
    {
      "cell_type": "code",
      "source": [
        "datasetna['gender'].value_counts(normalize=True)"
      ],
      "metadata": {
        "colab": {
          "base_uri": "https://localhost:8080/"
        },
        "id": "Y2fo1MAyfbwd",
        "outputId": "24af2f79-9ec9-4ffc-dc56-e2e388d925ae"
      },
      "execution_count": 19,
      "outputs": [
        {
          "output_type": "execute_result",
          "data": {
            "text/plain": [
              "female    0.521628\n",
              "male      0.478372\n",
              "Name: gender, dtype: float64"
            ]
          },
          "metadata": {},
          "execution_count": 19
        }
      ]
    },
    {
      "cell_type": "code",
      "source": [
        "dataset['gender'].value_counts(normalize=True)"
      ],
      "metadata": {
        "colab": {
          "base_uri": "https://localhost:8080/"
        },
        "id": "cFeiBRbufnYF",
        "outputId": "092286b9-d1a0-4c8e-fd7c-daa8f507039a"
      },
      "execution_count": 20,
      "outputs": [
        {
          "output_type": "execute_result",
          "data": {
            "text/plain": [
              "female    0.522\n",
              "male      0.478\n",
              "Name: gender, dtype: float64"
            ]
          },
          "metadata": {},
          "execution_count": 20
        }
      ]
    },
    {
      "cell_type": "code",
      "source": [
        "datasetna['purchased'].value_counts(normalize=True)"
      ],
      "metadata": {
        "colab": {
          "base_uri": "https://localhost:8080/"
        },
        "id": "sEdUUUhOgckL",
        "outputId": "3d7dcea7-b515-4635-b331-61db33d73c82"
      },
      "execution_count": 21,
      "outputs": [
        {
          "output_type": "execute_result",
          "data": {
            "text/plain": [
              "0    0.59542\n",
              "1    0.40458\n",
              "Name: purchased, dtype: float64"
            ]
          },
          "metadata": {},
          "execution_count": 21
        }
      ]
    },
    {
      "cell_type": "code",
      "source": [
        "dataset['purchased'].value_counts(normalize=True)"
      ],
      "metadata": {
        "colab": {
          "base_uri": "https://localhost:8080/"
        },
        "id": "eUEFnR3Ygetj",
        "outputId": "4b4bd1c7-7d65-4786-b0e1-fb2b1417ce4c"
      },
      "execution_count": 22,
      "outputs": [
        {
          "output_type": "execute_result",
          "data": {
            "text/plain": [
              "0    0.598\n",
              "1    0.402\n",
              "Name: purchased, dtype: float64"
            ]
          },
          "metadata": {},
          "execution_count": 22
        }
      ]
    },
    {
      "cell_type": "code",
      "source": [
        "dataset['wage'].hist()"
      ],
      "metadata": {
        "colab": {
          "base_uri": "https://localhost:8080/",
          "height": 0
        },
        "id": "52FglRwvgrxC",
        "outputId": "dff4bbc0-a5f4-4ab2-b879-d20dadae886c"
      },
      "execution_count": 23,
      "outputs": [
        {
          "output_type": "execute_result",
          "data": {
            "text/plain": [
              "<AxesSubplot:>"
            ]
          },
          "metadata": {},
          "execution_count": 23
        },
        {
          "output_type": "display_data",
          "data": {
            "text/plain": [
              "<Figure size 432x288 with 1 Axes>"
            ],
            "image/png": "[encoded data removed]"
          },
          "metadata": {
            "needs_background": "light"
          }
        }
      ]
    },
    {
      "cell_type": "code",
      "source": [
        "condition_median = dataset.groupby(['gender', 'purchased'])['wage'].transform('median')"
      ],
      "metadata": {
        "id": "xDVRZykaxNJr"
      },
      "execution_count": 24,
      "outputs": []
    },
    {
      "cell_type": "code",
      "source": [
        "dataset['wage'].fillna(condition_median,inplace=True)"
      ],
      "metadata": {
        "id": "U-llu9o73nox"
      },
      "execution_count": 25,
      "outputs": []
    },
    {
      "cell_type": "markdown",
      "source": [
        "### Conclusión\n",
        "Por medio del comando isna se pudo determinar en que variable se encontraban los missing values, así entonces se pudo notar que se encontraban en la variable wage 214 missing values, teniendo en cuenta lo anterior se compararon dos escenarios, uno en el que los missing values se removían de la base y otro en el que permanecían para así determinar si habían diferencias significativas que podían existir en cada uno de los casos, se encontró que respecto a las variables Gender y Purchased no había una diferencia significativa y por ende se pudo realizar una imputación con estadística condicionada respecto a la media del salario para optimizar la asimetría en los datos. \n"
      ],
      "metadata": {
        "id": "9JDCXdD0BtcI"
      }
    },
    {
      "cell_type": "markdown",
      "source": [
        "## Enriquecimiento del dataset (Calculo de edad y nueva columna)"
      ],
      "metadata": {
        "id": "k6wVfHLA5Sqi"
      }
    },
    {
      "cell_type": "code",
      "source": [
        "from datetime import datetime\n",
        "datetime.today()"
      ],
      "metadata": {
        "id": "TIwM_9qS_Oen",
        "colab": {
          "base_uri": "https://localhost:8080/"
        },
        "outputId": "671d35d2-3b92-4449-8615-0d1465cfb089"
      },
      "execution_count": 26,
      "outputs": [
        {
          "output_type": "execute_result",
          "data": {
            "text/plain": [
              "datetime.datetime(2023, 3, 10, 1, 10, 58, 468900)"
            ]
          },
          "metadata": {},
          "execution_count": 26
        }
      ]
    },
    {
      "cell_type": "code",
      "source": [
        "dataset['year'] = np.ceil((datetime.today()-dataset['birth_day'])/(np.timedelta64(1,'Y')))"
      ],
      "metadata": {
        "id": "GRLREjwtjCwt"
      },
      "execution_count": 27,
      "outputs": []
    },
    {
      "cell_type": "code",
      "source": [
        "dataset.head()"
      ],
      "metadata": {
        "colab": {
          "base_uri": "https://localhost:8080/",
          "height": 0
        },
        "id": "RW3TvtcGjyBl",
        "outputId": "9ff608c8-7200-4a17-fd24-92c7a573d460"
      },
      "execution_count": 28,
      "outputs": [
        {
          "output_type": "execute_result",
          "data": {
            "text/plain": [
              "   user_id  gender      wage  purchased  birth_day  year\n",
              "0      217  female   63500.0          0 1983-08-06  40.0\n",
              "1      226  female  146500.0          1 1972-01-28  52.0\n",
              "2      697    male   88750.0          1 1981-12-12  42.0\n",
              "3      743  female   63500.0          0 1983-05-26  40.0\n",
              "4       63  female  140500.0          1 1967-11-02  56.0"
            ],
            "text/html": [
              "\n",
              "  <div id=\"df-f57378b7-080e-4d49-bda0-89ea376f1319\">\n",
              "    <div class=\"colab-df-container\">\n",
              "      <div>\n",
              "<style scoped>\n",
              "    .dataframe tbody tr th:only-of-type {\n",
              "        vertical-align: middle;\n",
              "    }\n",
              "\n",
              "    .dataframe tbody tr th {\n",
              "        vertical-align: top;\n",
              "    }\n",
              "\n",
              "    .dataframe thead th {\n",
              "        text-align: right;\n",
              "    }\n",
              "</style>\n",
              "<table border=\"1\" class=\"dataframe\">\n",
              "  <thead>\n",
              "    <tr style=\"text-align: right;\">\n",
              "      <th></th>\n",
              "      <th>user_id</th>\n",
              "      <th>gender</th>\n",
              "      <th>wage</th>\n",
              "      <th>purchased</th>\n",
              "      <th>birth_day</th>\n",
              "      <th>year</th>\n",
              "    </tr>\n",
              "  </thead>\n",
              "  <tbody>\n",
              "    <tr>\n",
              "      <th>0</th>\n",
              "      <td>217</td>\n",
              "      <td>female</td>\n",
              "      <td>63500.0</td>\n",
              "      <td>0</td>\n",
              "      <td>1983-08-06</td>\n",
              "      <td>40.0</td>\n",
              "    </tr>\n",
              "    <tr>\n",
              "      <th>1</th>\n",
              "      <td>226</td>\n",
              "      <td>female</td>\n",
              "      <td>146500.0</td>\n",
              "      <td>1</td>\n",
              "      <td>1972-01-28</td>\n",
              "      <td>52.0</td>\n",
              "    </tr>\n",
              "    <tr>\n",
              "      <th>2</th>\n",
              "      <td>697</td>\n",
              "      <td>male</td>\n",
              "      <td>88750.0</td>\n",
              "      <td>1</td>\n",
              "      <td>1981-12-12</td>\n",
              "      <td>42.0</td>\n",
              "    </tr>\n",
              "    <tr>\n",
              "      <th>3</th>\n",
              "      <td>743</td>\n",
              "      <td>female</td>\n",
              "      <td>63500.0</td>\n",
              "      <td>0</td>\n",
              "      <td>1983-05-26</td>\n",
              "      <td>40.0</td>\n",
              "    </tr>\n",
              "    <tr>\n",
              "      <th>4</th>\n",
              "      <td>63</td>\n",
              "      <td>female</td>\n",
              "      <td>140500.0</td>\n",
              "      <td>1</td>\n",
              "      <td>1967-11-02</td>\n",
              "      <td>56.0</td>\n",
              "    </tr>\n",
              "  </tbody>\n",
              "</table>\n",
              "</div>\n",
              "      <button class=\"colab-df-convert\" onclick=\"convertToInteractive('df-f57378b7-080e-4d49-bda0-89ea376f1319')\"\n",
              "              title=\"Convert this dataframe to an interactive table.\"\n",
              "              style=\"display:none;\">\n",
              "        \n",
              "  <svg xmlns=\"http://www.w3.org/2000/svg\" height=\"24px\"viewBox=\"0 0 24 24\"\n",
              "       width=\"24px\">\n",
              "    <path d=\"M0 0h24v24H0V0z\" fill=\"none\"/>\n",
              "    <path d=\"M18.56 5.44l.94 2.06.94-2.06 2.06-.94-2.06-.94-.94-2.06-.94 2.06-2.06.94zm-11 1L8.5 8.5l.94-2.06 2.06-.94-2.06-.94L8.5 2.5l-.94 2.06-2.06.94zm10 10l.94 2.06.94-2.06 2.06-.94-2.06-.94-.94-2.06-.94 2.06-2.06.94z\"/><path d=\"M17.41 7.96l-1.37-1.37c-.4-.4-.92-.59-1.43-.59-.52 0-1.04.2-1.43.59L10.3 9.45l-7.72 7.72c-.78.78-.78 2.05 0 2.83L4 21.41c.39.39.9.59 1.41.59.51 0 1.02-.2 1.41-.59l7.78-7.78 2.81-2.81c.8-.78.8-2.07 0-2.86zM5.41 20L4 18.59l7.72-7.72 1.47 1.35L5.41 20z\"/>\n",
              "  </svg>\n",
              "      </button>\n",
              "      \n",
              "  <style>\n",
              "    .colab-df-container {\n",
              "      display:flex;\n",
              "      flex-wrap:wrap;\n",
              "      gap: 12px;\n",
              "    }\n",
              "\n",
              "    .colab-df-convert {\n",
              "      background-color: #E8F0FE;\n",
              "      border: none;\n",
              "      border-radius: 50%;\n",
              "      cursor: pointer;\n",
              "      display: none;\n",
              "      fill: #1967D2;\n",
              "      height: 32px;\n",
              "      padding: 0 0 0 0;\n",
              "      width: 32px;\n",
              "    }\n",
              "\n",
              "    .colab-df-convert:hover {\n",
              "      background-color: #E2EBFA;\n",
              "      box-shadow: 0px 1px 2px rgba(60, 64, 67, 0.3), 0px 1px 3px 1px rgba(60, 64, 67, 0.15);\n",
              "      fill: #174EA6;\n",
              "    }\n",
              "\n",
              "    [theme=dark] .colab-df-convert {\n",
              "      background-color: #3B4455;\n",
              "      fill: #D2E3FC;\n",
              "    }\n",
              "\n",
              "    [theme=dark] .colab-df-convert:hover {\n",
              "      background-color: #434B5C;\n",
              "      box-shadow: 0px 1px 3px 1px rgba(0, 0, 0, 0.15);\n",
              "      filter: drop-shadow(0px 1px 2px rgba(0, 0, 0, 0.3));\n",
              "      fill: #FFFFFF;\n",
              "    }\n",
              "  </style>\n",
              "\n",
              "      <script>\n",
              "        const buttonEl =\n",
              "          document.querySelector('#df-f57378b7-080e-4d49-bda0-89ea376f1319 button.colab-df-convert');\n",
              "        buttonEl.style.display =\n",
              "          google.colab.kernel.accessAllowed ? 'block' : 'none';\n",
              "\n",
              "        async function convertToInteractive(key) {\n",
              "          const element = document.querySelector('#df-f57378b7-080e-4d49-bda0-89ea376f1319');\n",
              "          const dataTable =\n",
              "            await google.colab.kernel.invokeFunction('convertToInteractive',\n",
              "                                                     [key], {});\n",
              "          if (!dataTable) return;\n",
              "\n",
              "          const docLinkHtml = 'Like what you see? Visit the ' +\n",
              "            '<a target=\"_blank\" href=https://colab.research.google.com/notebooks/data_table.ipynb>data table notebook</a>'\n",
              "            + ' to learn more about interactive tables.';\n",
              "          element.innerHTML = '';\n",
              "          dataTable['output_type'] = 'display_data';\n",
              "          await google.colab.output.renderOutput(dataTable, element);\n",
              "          const docLink = document.createElement('div');\n",
              "          docLink.innerHTML = docLinkHtml;\n",
              "          element.appendChild(docLink);\n",
              "        }\n",
              "      </script>\n",
              "    </div>\n",
              "  </div>\n",
              "  "
            ]
          },
          "metadata": {},
          "execution_count": 28
        }
      ]
    },
    {
      "cell_type": "markdown",
      "source": [
        "### Conclusión\n",
        "Para este caso se buscó enriquecer la base de datos mediante la adición de una nueva columna donde se pudiera encontrar la edad de cada individuo, para esto se hizo de la variable birth_day que ya se tenía y de la fecha actual \n"
      ],
      "metadata": {
        "id": "rcMc9EcNBP-W"
      }
    },
    {
      "cell_type": "markdown",
      "source": [
        "## Outliers"
      ],
      "metadata": {
        "id": "NL2ZXbetEMj3"
      }
    },
    {
      "cell_type": "code",
      "source": [
        "dataset = dataset.drop(columns=['user_id','birth_day'])"
      ],
      "metadata": {
        "id": "xLOD6BNMENhE"
      },
      "execution_count": 29,
      "outputs": []
    },
    {
      "cell_type": "code",
      "source": [
        "dataset = pd.get_dummies(dataset,drop_first=True)"
      ],
      "metadata": {
        "id": "dvQ7qcJslnRw"
      },
      "execution_count": 30,
      "outputs": []
    },
    {
      "cell_type": "code",
      "source": [
        "dataset.head()"
      ],
      "metadata": {
        "colab": {
          "base_uri": "https://localhost:8080/",
          "height": 0
        },
        "id": "0ma2jMffoBSV",
        "outputId": "8410cf1f-9aa1-4a43-9aae-b301d4930297"
      },
      "execution_count": 31,
      "outputs": [
        {
          "output_type": "execute_result",
          "data": {
            "text/plain": [
              "       wage  purchased  year  gender_male\n",
              "0   63500.0          0  40.0            0\n",
              "1  146500.0          1  52.0            0\n",
              "2   88750.0          1  42.0            1\n",
              "3   63500.0          0  40.0            0\n",
              "4  140500.0          1  56.0            0"
            ],
            "text/html": [
              "\n",
              "  <div id=\"df-9bb5de4a-460f-4b3b-87d5-946942ca5e5c\">\n",
              "    <div class=\"colab-df-container\">\n",
              "      <div>\n",
              "<style scoped>\n",
              "    .dataframe tbody tr th:only-of-type {\n",
              "        vertical-align: middle;\n",
              "    }\n",
              "\n",
              "    .dataframe tbody tr th {\n",
              "        vertical-align: top;\n",
              "    }\n",
              "\n",
              "    .dataframe thead th {\n",
              "        text-align: right;\n",
              "    }\n",
              "</style>\n",
              "<table border=\"1\" class=\"dataframe\">\n",
              "  <thead>\n",
              "    <tr style=\"text-align: right;\">\n",
              "      <th></th>\n",
              "      <th>wage</th>\n",
              "      <th>purchased</th>\n",
              "      <th>year</th>\n",
              "      <th>gender_male</th>\n",
              "    </tr>\n",
              "  </thead>\n",
              "  <tbody>\n",
              "    <tr>\n",
              "      <th>0</th>\n",
              "      <td>63500.0</td>\n",
              "      <td>0</td>\n",
              "      <td>40.0</td>\n",
              "      <td>0</td>\n",
              "    </tr>\n",
              "    <tr>\n",
              "      <th>1</th>\n",
              "      <td>146500.0</td>\n",
              "      <td>1</td>\n",
              "      <td>52.0</td>\n",
              "      <td>0</td>\n",
              "    </tr>\n",
              "    <tr>\n",
              "      <th>2</th>\n",
              "      <td>88750.0</td>\n",
              "      <td>1</td>\n",
              "      <td>42.0</td>\n",
              "      <td>1</td>\n",
              "    </tr>\n",
              "    <tr>\n",
              "      <th>3</th>\n",
              "      <td>63500.0</td>\n",
              "      <td>0</td>\n",
              "      <td>40.0</td>\n",
              "      <td>0</td>\n",
              "    </tr>\n",
              "    <tr>\n",
              "      <th>4</th>\n",
              "      <td>140500.0</td>\n",
              "      <td>1</td>\n",
              "      <td>56.0</td>\n",
              "      <td>0</td>\n",
              "    </tr>\n",
              "  </tbody>\n",
              "</table>\n",
              "</div>\n",
              "      <button class=\"colab-df-convert\" onclick=\"convertToInteractive('df-9bb5de4a-460f-4b3b-87d5-946942ca5e5c')\"\n",
              "              title=\"Convert this dataframe to an interactive table.\"\n",
              "              style=\"display:none;\">\n",
              "        \n",
              "  <svg xmlns=\"http://www.w3.org/2000/svg\" height=\"24px\"viewBox=\"0 0 24 24\"\n",
              "       width=\"24px\">\n",
              "    <path d=\"M0 0h24v24H0V0z\" fill=\"none\"/>\n",
              "    <path d=\"M18.56 5.44l.94 2.06.94-2.06 2.06-.94-2.06-.94-.94-2.06-.94 2.06-2.06.94zm-11 1L8.5 8.5l.94-2.06 2.06-.94-2.06-.94L8.5 2.5l-.94 2.06-2.06.94zm10 10l.94 2.06.94-2.06 2.06-.94-2.06-.94-.94-2.06-.94 2.06-2.06.94z\"/><path d=\"M17.41 7.96l-1.37-1.37c-.4-.4-.92-.59-1.43-.59-.52 0-1.04.2-1.43.59L10.3 9.45l-7.72 7.72c-.78.78-.78 2.05 0 2.83L4 21.41c.39.39.9.59 1.41.59.51 0 1.02-.2 1.41-.59l7.78-7.78 2.81-2.81c.8-.78.8-2.07 0-2.86zM5.41 20L4 18.59l7.72-7.72 1.47 1.35L5.41 20z\"/>\n",
              "  </svg>\n",
              "      </button>\n",
              "      \n",
              "  <style>\n",
              "    .colab-df-container {\n",
              "      display:flex;\n",
              "      flex-wrap:wrap;\n",
              "      gap: 12px;\n",
              "    }\n",
              "\n",
              "    .colab-df-convert {\n",
              "      background-color: #E8F0FE;\n",
              "      border: none;\n",
              "      border-radius: 50%;\n",
              "      cursor: pointer;\n",
              "      display: none;\n",
              "      fill: #1967D2;\n",
              "      height: 32px;\n",
              "      padding: 0 0 0 0;\n",
              "      width: 32px;\n",
              "    }\n",
              "\n",
              "    .colab-df-convert:hover {\n",
              "      background-color: #E2EBFA;\n",
              "      box-shadow: 0px 1px 2px rgba(60, 64, 67, 0.3), 0px 1px 3px 1px rgba(60, 64, 67, 0.15);\n",
              "      fill: #174EA6;\n",
              "    }\n",
              "\n",
              "    [theme=dark] .colab-df-convert {\n",
              "      background-color: #3B4455;\n",
              "      fill: #D2E3FC;\n",
              "    }\n",
              "\n",
              "    [theme=dark] .colab-df-convert:hover {\n",
              "      background-color: #434B5C;\n",
              "      box-shadow: 0px 1px 3px 1px rgba(0, 0, 0, 0.15);\n",
              "      filter: drop-shadow(0px 1px 2px rgba(0, 0, 0, 0.3));\n",
              "      fill: #FFFFFF;\n",
              "    }\n",
              "  </style>\n",
              "\n",
              "      <script>\n",
              "        const buttonEl =\n",
              "          document.querySelector('#df-9bb5de4a-460f-4b3b-87d5-946942ca5e5c button.colab-df-convert');\n",
              "        buttonEl.style.display =\n",
              "          google.colab.kernel.accessAllowed ? 'block' : 'none';\n",
              "\n",
              "        async function convertToInteractive(key) {\n",
              "          const element = document.querySelector('#df-9bb5de4a-460f-4b3b-87d5-946942ca5e5c');\n",
              "          const dataTable =\n",
              "            await google.colab.kernel.invokeFunction('convertToInteractive',\n",
              "                                                     [key], {});\n",
              "          if (!dataTable) return;\n",
              "\n",
              "          const docLinkHtml = 'Like what you see? Visit the ' +\n",
              "            '<a target=\"_blank\" href=https://colab.research.google.com/notebooks/data_table.ipynb>data table notebook</a>'\n",
              "            + ' to learn more about interactive tables.';\n",
              "          element.innerHTML = '';\n",
              "          dataTable['output_type'] = 'display_data';\n",
              "          await google.colab.output.renderOutput(dataTable, element);\n",
              "          const docLink = document.createElement('div');\n",
              "          docLink.innerHTML = docLinkHtml;\n",
              "          element.appendChild(docLink);\n",
              "        }\n",
              "      </script>\n",
              "    </div>\n",
              "  </div>\n",
              "  "
            ]
          },
          "metadata": {},
          "execution_count": 31
        }
      ]
    },
    {
      "cell_type": "code",
      "source": [
        "isolation = IsolationForest(random_state=0).fit(dataset)\n",
        "dataset['isolation_forest'] = isolation.predict(dataset)\n",
        "dataset['isolation_forest'].value_counts()"
      ],
      "metadata": {
        "colab": {
          "base_uri": "https://localhost:8080/"
        },
        "id": "S4OZQy2JoJIM",
        "outputId": "1b26ceca-7afa-4382-f0b8-34b8f94598d1"
      },
      "execution_count": 32,
      "outputs": [
        {
          "output_type": "execute_result",
          "data": {
            "text/plain": [
              "-1    505\n",
              " 1    495\n",
              "Name: isolation_forest, dtype: int64"
            ]
          },
          "metadata": {},
          "execution_count": 32
        }
      ]
    },
    {
      "cell_type": "markdown",
      "source": [
        "### Conclusión\n",
        "Para encontrar los outliers se realizo un isolation forest transformando como dummies la base de datos y con dicho método utilizado se encontró que habían 512 outliers (datos atípicos), en suma, al ser una cantidad significante de datos no se pudo hacer la eliminación de estos y es necesario que para otras ocasiones en las que se requiera profundizar más al respecto se busque otro método en el que los outliers sean menores.\n"
      ],
      "metadata": {
        "id": "sGPtQ6nAELBA"
      }
    },
    {
      "cell_type": "markdown",
      "source": [
        "## Clasificación de datos"
      ],
      "metadata": {
        "id": "v2r2qYBvqc5R"
      }
    },
    {
      "cell_type": "markdown",
      "source": [
        "##### Categorización en grupos etarios"
      ],
      "metadata": {
        "id": "zWITsyWKjXaZ"
      }
    },
    {
      "cell_type": "code",
      "source": [
        "dataset['yearclasiffication'] = pd.cut(dataset['year'],5)\n",
        "dataset['yearclasiffication']"
      ],
      "metadata": {
        "id": "GfYudXfqqZKx",
        "colab": {
          "base_uri": "https://localhost:8080/"
        },
        "outputId": "0ac610a9-65b1-44b7-f89d-7f090a0acbc5"
      },
      "execution_count": 36,
      "outputs": [
        {
          "output_type": "execute_result",
          "data": {
            "text/plain": [
              "0      (37.4, 46.6]\n",
              "1      (46.6, 55.8]\n",
              "2      (37.4, 46.6]\n",
              "3      (37.4, 46.6]\n",
              "4      (55.8, 65.0]\n",
              "           ...     \n",
              "995    (46.6, 55.8]\n",
              "996    (46.6, 55.8]\n",
              "997    (46.6, 55.8]\n",
              "998    (28.2, 37.4]\n",
              "999    (37.4, 46.6]\n",
              "Name: yearclasiffication, Length: 1000, dtype: category\n",
              "Categories (5, interval[float64, right]): [(18.954, 28.2] < (28.2, 37.4] < (37.4, 46.6] <\n",
              "                                           (46.6, 55.8] < (55.8, 65.0]]"
            ]
          },
          "metadata": {},
          "execution_count": 36
        }
      ]
    },
    {
      "cell_type": "markdown",
      "source": [
        "##### Categorización en grupos de ingreso"
      ],
      "metadata": {
        "id": "tqefyMdojjXb"
      }
    },
    {
      "cell_type": "code",
      "source": [
        "dataset['wageclasiffication'] = pd.cut(dataset['wage'],3)\n",
        "dataset['wageclasiffication']"
      ],
      "metadata": {
        "id": "cDv6A6UbsO3t",
        "colab": {
          "base_uri": "https://localhost:8080/"
        },
        "outputId": "a4200ff4-bda5-476d-f207-f417429f316d"
      },
      "execution_count": 38,
      "outputs": [
        {
          "output_type": "execute_result",
          "data": {
            "text/plain": [
              "0      (60833.333, 106666.667]\n",
              "1       (106666.667, 152500.0]\n",
              "2      (60833.333, 106666.667]\n",
              "3      (60833.333, 106666.667]\n",
              "4       (106666.667, 152500.0]\n",
              "                ...           \n",
              "995       (14862.5, 60833.333]\n",
              "996    (60833.333, 106666.667]\n",
              "997     (106666.667, 152500.0]\n",
              "998     (106666.667, 152500.0]\n",
              "999       (14862.5, 60833.333]\n",
              "Name: wageclasiffication, Length: 1000, dtype: category\n",
              "Categories (3, interval[float64, right]): [(14862.5, 60833.333] < (60833.333, 106666.667] <\n",
              "                                           (106666.667, 152500.0]]"
            ]
          },
          "metadata": {},
          "execution_count": 38
        }
      ]
    },
    {
      "cell_type": "markdown",
      "source": [
        "### Conclusión\n",
        "Entorno a la clasificación de los datos se buscó categorizar de forma etaria y en grupos de ingreso la información; en el primer caso se hicieron 5 subcategorías y en el segundo 3 categorías. \n",
        "Los grupos etarios quedaron con un límite de edad inferior de 18 años y superior de 65; los grupos de ingreso quedaron definidos con un límite inferior de USD 14.862 y un límite superior de USD 152.500\n"
      ],
      "metadata": {
        "id": "hR_IeML-FkaB"
      }
    },
    {
      "cell_type": "markdown",
      "source": [
        "## Tablas pivot "
      ],
      "metadata": {
        "id": "XP1qWRRgtHkq"
      }
    },
    {
      "cell_type": "markdown",
      "source": [
        "#### % de compras por grupos etarios"
      ],
      "metadata": {
        "id": "OV__b3wdtOsS"
      }
    },
    {
      "cell_type": "code",
      "source": [
        "dataset.pivot_table(index=['yearclasiffication'], \n",
        "                     values='purchased', \n",
        "                     aggfunc=['mean'])"
      ],
      "metadata": {
        "colab": {
          "base_uri": "https://localhost:8080/",
          "height": 269
        },
        "id": "xKSHmNRrsmYl",
        "outputId": "6a5ca186-0a02-46ab-daf0-56e4a1cdbc3b"
      },
      "execution_count": null,
      "outputs": [
        {
          "output_type": "execute_result",
          "data": {
            "text/plain": [
              "                        mean\n",
              "                   purchased\n",
              "yearclasiffication          \n",
              "(18.954, 28.2]      0.014388\n",
              "(28.2, 37.4]        0.165179\n",
              "(37.4, 46.6]        0.294671\n",
              "(46.6, 55.8]        0.790244\n",
              "(55.8, 65.0]        0.946903"
            ],
            "text/html": [
              "\n",
              "  <div id=\"df-554eef9e-6709-4b04-99e7-7f35f69ae460\">\n",
              "    <div class=\"colab-df-container\">\n",
              "      <div>\n",
              "<style scoped>\n",
              "    .dataframe tbody tr th:only-of-type {\n",
              "        vertical-align: middle;\n",
              "    }\n",
              "\n",
              "    .dataframe tbody tr th {\n",
              "        vertical-align: top;\n",
              "    }\n",
              "\n",
              "    .dataframe thead tr th {\n",
              "        text-align: left;\n",
              "    }\n",
              "\n",
              "    .dataframe thead tr:last-of-type th {\n",
              "        text-align: right;\n",
              "    }\n",
              "</style>\n",
              "<table border=\"1\" class=\"dataframe\">\n",
              "  <thead>\n",
              "    <tr>\n",
              "      <th></th>\n",
              "      <th>mean</th>\n",
              "    </tr>\n",
              "    <tr>\n",
              "      <th></th>\n",
              "      <th>purchased</th>\n",
              "    </tr>\n",
              "    <tr>\n",
              "      <th>yearclasiffication</th>\n",
              "      <th></th>\n",
              "    </tr>\n",
              "  </thead>\n",
              "  <tbody>\n",
              "    <tr>\n",
              "      <th>(18.954, 28.2]</th>\n",
              "      <td>0.014388</td>\n",
              "    </tr>\n",
              "    <tr>\n",
              "      <th>(28.2, 37.4]</th>\n",
              "      <td>0.165179</td>\n",
              "    </tr>\n",
              "    <tr>\n",
              "      <th>(37.4, 46.6]</th>\n",
              "      <td>0.294671</td>\n",
              "    </tr>\n",
              "    <tr>\n",
              "      <th>(46.6, 55.8]</th>\n",
              "      <td>0.790244</td>\n",
              "    </tr>\n",
              "    <tr>\n",
              "      <th>(55.8, 65.0]</th>\n",
              "      <td>0.946903</td>\n",
              "    </tr>\n",
              "  </tbody>\n",
              "</table>\n",
              "</div>\n",
              "      <button class=\"colab-df-convert\" onclick=\"convertToInteractive('df-554eef9e-6709-4b04-99e7-7f35f69ae460')\"\n",
              "              title=\"Convert this dataframe to an interactive table.\"\n",
              "              style=\"display:none;\">\n",
              "        \n",
              "  <svg xmlns=\"http://www.w3.org/2000/svg\" height=\"24px\"viewBox=\"0 0 24 24\"\n",
              "       width=\"24px\">\n",
              "    <path d=\"M0 0h24v24H0V0z\" fill=\"none\"/>\n",
              "    <path d=\"M18.56 5.44l.94 2.06.94-2.06 2.06-.94-2.06-.94-.94-2.06-.94 2.06-2.06.94zm-11 1L8.5 8.5l.94-2.06 2.06-.94-2.06-.94L8.5 2.5l-.94 2.06-2.06.94zm10 10l.94 2.06.94-2.06 2.06-.94-2.06-.94-.94-2.06-.94 2.06-2.06.94z\"/><path d=\"M17.41 7.96l-1.37-1.37c-.4-.4-.92-.59-1.43-.59-.52 0-1.04.2-1.43.59L10.3 9.45l-7.72 7.72c-.78.78-.78 2.05 0 2.83L4 21.41c.39.39.9.59 1.41.59.51 0 1.02-.2 1.41-.59l7.78-7.78 2.81-2.81c.8-.78.8-2.07 0-2.86zM5.41 20L4 18.59l7.72-7.72 1.47 1.35L5.41 20z\"/>\n",
              "  </svg>\n",
              "      </button>\n",
              "      \n",
              "  <style>\n",
              "    .colab-df-container {\n",
              "      display:flex;\n",
              "      flex-wrap:wrap;\n",
              "      gap: 12px;\n",
              "    }\n",
              "\n",
              "    .colab-df-convert {\n",
              "      background-color: #E8F0FE;\n",
              "      border: none;\n",
              "      border-radius: 50%;\n",
              "      cursor: pointer;\n",
              "      display: none;\n",
              "      fill: #1967D2;\n",
              "      height: 32px;\n",
              "      padding: 0 0 0 0;\n",
              "      width: 32px;\n",
              "    }\n",
              "\n",
              "    .colab-df-convert:hover {\n",
              "      background-color: #E2EBFA;\n",
              "      box-shadow: 0px 1px 2px rgba(60, 64, 67, 0.3), 0px 1px 3px 1px rgba(60, 64, 67, 0.15);\n",
              "      fill: #174EA6;\n",
              "    }\n",
              "\n",
              "    [theme=dark] .colab-df-convert {\n",
              "      background-color: #3B4455;\n",
              "      fill: #D2E3FC;\n",
              "    }\n",
              "\n",
              "    [theme=dark] .colab-df-convert:hover {\n",
              "      background-color: #434B5C;\n",
              "      box-shadow: 0px 1px 3px 1px rgba(0, 0, 0, 0.15);\n",
              "      filter: drop-shadow(0px 1px 2px rgba(0, 0, 0, 0.3));\n",
              "      fill: #FFFFFF;\n",
              "    }\n",
              "  </style>\n",
              "\n",
              "      <script>\n",
              "        const buttonEl =\n",
              "          document.querySelector('#df-554eef9e-6709-4b04-99e7-7f35f69ae460 button.colab-df-convert');\n",
              "        buttonEl.style.display =\n",
              "          google.colab.kernel.accessAllowed ? 'block' : 'none';\n",
              "\n",
              "        async function convertToInteractive(key) {\n",
              "          const element = document.querySelector('#df-554eef9e-6709-4b04-99e7-7f35f69ae460');\n",
              "          const dataTable =\n",
              "            await google.colab.kernel.invokeFunction('convertToInteractive',\n",
              "                                                     [key], {});\n",
              "          if (!dataTable) return;\n",
              "\n",
              "          const docLinkHtml = 'Like what you see? Visit the ' +\n",
              "            '<a target=\"_blank\" href=https://colab.research.google.com/notebooks/data_table.ipynb>data table notebook</a>'\n",
              "            + ' to learn more about interactive tables.';\n",
              "          element.innerHTML = '';\n",
              "          dataTable['output_type'] = 'display_data';\n",
              "          await google.colab.output.renderOutput(dataTable, element);\n",
              "          const docLink = document.createElement('div');\n",
              "          docLink.innerHTML = docLinkHtml;\n",
              "          element.appendChild(docLink);\n",
              "        }\n",
              "      </script>\n",
              "    </div>\n",
              "  </div>\n",
              "  "
            ]
          },
          "metadata": {},
          "execution_count": 197
        }
      ]
    },
    {
      "cell_type": "markdown",
      "source": [
        "##### Conclusión\n",
        "La tabla pivot que relaciona el % de compras por grupos etarios nos permite observar que en el límite inferior donde se encuentran individuos entre los 18 y 28 años de edad han hecho compras en promedio 14% y por otro lado el límite superior, donde se encuentras los individuos entre los 55 y 65 años han hecho compras correspondientes un 94% "
      ],
      "metadata": {
        "id": "nWaLffWtF3wr"
      }
    },
    {
      "cell_type": "markdown",
      "source": [
        "#### % de compras por grupos de ingreso"
      ],
      "metadata": {
        "id": "36JCQBlXtUYI"
      }
    },
    {
      "cell_type": "code",
      "source": [
        "dataset.pivot_table(index=['wageclasiffication'], \n",
        "                     values='purchased', \n",
        "                     aggfunc=['mean'])"
      ],
      "metadata": {
        "colab": {
          "base_uri": "https://localhost:8080/",
          "height": 206
        },
        "id": "iRip4O6vta3h",
        "outputId": "22139b37-3355-484a-cf60-7fee3f9f7eb0"
      },
      "execution_count": null,
      "outputs": [
        {
          "output_type": "execute_result",
          "data": {
            "text/plain": [
              "                             mean\n",
              "                        purchased\n",
              "wageclasiffication               \n",
              "(14862.5, 60833.333]     0.324921\n",
              "(60833.333, 106666.667]  0.333333\n",
              "(106666.667, 152500.0]   0.842857"
            ],
            "text/html": [
              "\n",
              "  <div id=\"df-458070b7-a463-4871-87be-38f874f5ae2e\">\n",
              "    <div class=\"colab-df-container\">\n",
              "      <div>\n",
              "<style scoped>\n",
              "    .dataframe tbody tr th:only-of-type {\n",
              "        vertical-align: middle;\n",
              "    }\n",
              "\n",
              "    .dataframe tbody tr th {\n",
              "        vertical-align: top;\n",
              "    }\n",
              "\n",
              "    .dataframe thead tr th {\n",
              "        text-align: left;\n",
              "    }\n",
              "\n",
              "    .dataframe thead tr:last-of-type th {\n",
              "        text-align: right;\n",
              "    }\n",
              "</style>\n",
              "<table border=\"1\" class=\"dataframe\">\n",
              "  <thead>\n",
              "    <tr>\n",
              "      <th></th>\n",
              "      <th>mean</th>\n",
              "    </tr>\n",
              "    <tr>\n",
              "      <th></th>\n",
              "      <th>purchased</th>\n",
              "    </tr>\n",
              "    <tr>\n",
              "      <th>wageclasiffication</th>\n",
              "      <th></th>\n",
              "    </tr>\n",
              "  </thead>\n",
              "  <tbody>\n",
              "    <tr>\n",
              "      <th>(14862.5, 60833.333]</th>\n",
              "      <td>0.324921</td>\n",
              "    </tr>\n",
              "    <tr>\n",
              "      <th>(60833.333, 106666.667]</th>\n",
              "      <td>0.333333</td>\n",
              "    </tr>\n",
              "    <tr>\n",
              "      <th>(106666.667, 152500.0]</th>\n",
              "      <td>0.842857</td>\n",
              "    </tr>\n",
              "  </tbody>\n",
              "</table>\n",
              "</div>\n",
              "      <button class=\"colab-df-convert\" onclick=\"convertToInteractive('df-458070b7-a463-4871-87be-38f874f5ae2e')\"\n",
              "              title=\"Convert this dataframe to an interactive table.\"\n",
              "              style=\"display:none;\">\n",
              "        \n",
              "  <svg xmlns=\"http://www.w3.org/2000/svg\" height=\"24px\"viewBox=\"0 0 24 24\"\n",
              "       width=\"24px\">\n",
              "    <path d=\"M0 0h24v24H0V0z\" fill=\"none\"/>\n",
              "    <path d=\"M18.56 5.44l.94 2.06.94-2.06 2.06-.94-2.06-.94-.94-2.06-.94 2.06-2.06.94zm-11 1L8.5 8.5l.94-2.06 2.06-.94-2.06-.94L8.5 2.5l-.94 2.06-2.06.94zm10 10l.94 2.06.94-2.06 2.06-.94-2.06-.94-.94-2.06-.94 2.06-2.06.94z\"/><path d=\"M17.41 7.96l-1.37-1.37c-.4-.4-.92-.59-1.43-.59-.52 0-1.04.2-1.43.59L10.3 9.45l-7.72 7.72c-.78.78-.78 2.05 0 2.83L4 21.41c.39.39.9.59 1.41.59.51 0 1.02-.2 1.41-.59l7.78-7.78 2.81-2.81c.8-.78.8-2.07 0-2.86zM5.41 20L4 18.59l7.72-7.72 1.47 1.35L5.41 20z\"/>\n",
              "  </svg>\n",
              "      </button>\n",
              "      \n",
              "  <style>\n",
              "    .colab-df-container {\n",
              "      display:flex;\n",
              "      flex-wrap:wrap;\n",
              "      gap: 12px;\n",
              "    }\n",
              "\n",
              "    .colab-df-convert {\n",
              "      background-color: #E8F0FE;\n",
              "      border: none;\n",
              "      border-radius: 50%;\n",
              "      cursor: pointer;\n",
              "      display: none;\n",
              "      fill: #1967D2;\n",
              "      height: 32px;\n",
              "      padding: 0 0 0 0;\n",
              "      width: 32px;\n",
              "    }\n",
              "\n",
              "    .colab-df-convert:hover {\n",
              "      background-color: #E2EBFA;\n",
              "      box-shadow: 0px 1px 2px rgba(60, 64, 67, 0.3), 0px 1px 3px 1px rgba(60, 64, 67, 0.15);\n",
              "      fill: #174EA6;\n",
              "    }\n",
              "\n",
              "    [theme=dark] .colab-df-convert {\n",
              "      background-color: #3B4455;\n",
              "      fill: #D2E3FC;\n",
              "    }\n",
              "\n",
              "    [theme=dark] .colab-df-convert:hover {\n",
              "      background-color: #434B5C;\n",
              "      box-shadow: 0px 1px 3px 1px rgba(0, 0, 0, 0.15);\n",
              "      filter: drop-shadow(0px 1px 2px rgba(0, 0, 0, 0.3));\n",
              "      fill: #FFFFFF;\n",
              "    }\n",
              "  </style>\n",
              "\n",
              "      <script>\n",
              "        const buttonEl =\n",
              "          document.querySelector('#df-458070b7-a463-4871-87be-38f874f5ae2e button.colab-df-convert');\n",
              "        buttonEl.style.display =\n",
              "          google.colab.kernel.accessAllowed ? 'block' : 'none';\n",
              "\n",
              "        async function convertToInteractive(key) {\n",
              "          const element = document.querySelector('#df-458070b7-a463-4871-87be-38f874f5ae2e');\n",
              "          const dataTable =\n",
              "            await google.colab.kernel.invokeFunction('convertToInteractive',\n",
              "                                                     [key], {});\n",
              "          if (!dataTable) return;\n",
              "\n",
              "          const docLinkHtml = 'Like what you see? Visit the ' +\n",
              "            '<a target=\"_blank\" href=https://colab.research.google.com/notebooks/data_table.ipynb>data table notebook</a>'\n",
              "            + ' to learn more about interactive tables.';\n",
              "          element.innerHTML = '';\n",
              "          dataTable['output_type'] = 'display_data';\n",
              "          await google.colab.output.renderOutput(dataTable, element);\n",
              "          const docLink = document.createElement('div');\n",
              "          docLink.innerHTML = docLinkHtml;\n",
              "          element.appendChild(docLink);\n",
              "        }\n",
              "      </script>\n",
              "    </div>\n",
              "  </div>\n",
              "  "
            ]
          },
          "metadata": {},
          "execution_count": 198
        }
      ]
    },
    {
      "cell_type": "markdown",
      "source": [
        "##### Conclusión\n",
        "\n",
        "Dada la tabla pivot de % de compras por grupos de ingreso se puede evidenciar que los individuos que tienen el mayor salario (106666-152500) han comprado un 84% y los individuos con menor salario (14862-60833) han comprado un 32%"
      ],
      "metadata": {
        "id": "DcIx50GOHEXI"
      }
    },
    {
      "cell_type": "markdown",
      "source": [
        "#### % de compras por género"
      ],
      "metadata": {
        "id": "6g_piTzktrKh"
      }
    },
    {
      "cell_type": "code",
      "source": [
        "dataset.pivot_table(index=['gender_male'], \n",
        "                     values='purchased', \n",
        "                     aggfunc=['mean'])"
      ],
      "metadata": {
        "colab": {
          "base_uri": "https://localhost:8080/",
          "height": 175
        },
        "id": "rll8TKETtwst",
        "outputId": "8e60ac79-eaa2-49ce-a51a-219a2f22267a"
      },
      "execution_count": null,
      "outputs": [
        {
          "output_type": "execute_result",
          "data": {
            "text/plain": [
              "                 mean\n",
              "            purchased\n",
              "gender_male          \n",
              "0            0.423372\n",
              "1            0.378661"
            ],
            "text/html": [
              "\n",
              "  <div id=\"df-ad1c3abd-2b65-4348-87c7-ab855378f874\">\n",
              "    <div class=\"colab-df-container\">\n",
              "      <div>\n",
              "<style scoped>\n",
              "    .dataframe tbody tr th:only-of-type {\n",
              "        vertical-align: middle;\n",
              "    }\n",
              "\n",
              "    .dataframe tbody tr th {\n",
              "        vertical-align: top;\n",
              "    }\n",
              "\n",
              "    .dataframe thead tr th {\n",
              "        text-align: left;\n",
              "    }\n",
              "\n",
              "    .dataframe thead tr:last-of-type th {\n",
              "        text-align: right;\n",
              "    }\n",
              "</style>\n",
              "<table border=\"1\" class=\"dataframe\">\n",
              "  <thead>\n",
              "    <tr>\n",
              "      <th></th>\n",
              "      <th>mean</th>\n",
              "    </tr>\n",
              "    <tr>\n",
              "      <th></th>\n",
              "      <th>purchased</th>\n",
              "    </tr>\n",
              "    <tr>\n",
              "      <th>gender_male</th>\n",
              "      <th></th>\n",
              "    </tr>\n",
              "  </thead>\n",
              "  <tbody>\n",
              "    <tr>\n",
              "      <th>0</th>\n",
              "      <td>0.423372</td>\n",
              "    </tr>\n",
              "    <tr>\n",
              "      <th>1</th>\n",
              "      <td>0.378661</td>\n",
              "    </tr>\n",
              "  </tbody>\n",
              "</table>\n",
              "</div>\n",
              "      <button class=\"colab-df-convert\" onclick=\"convertToInteractive('df-ad1c3abd-2b65-4348-87c7-ab855378f874')\"\n",
              "              title=\"Convert this dataframe to an interactive table.\"\n",
              "              style=\"display:none;\">\n",
              "        \n",
              "  <svg xmlns=\"http://www.w3.org/2000/svg\" height=\"24px\"viewBox=\"0 0 24 24\"\n",
              "       width=\"24px\">\n",
              "    <path d=\"M0 0h24v24H0V0z\" fill=\"none\"/>\n",
              "    <path d=\"M18.56 5.44l.94 2.06.94-2.06 2.06-.94-2.06-.94-.94-2.06-.94 2.06-2.06.94zm-11 1L8.5 8.5l.94-2.06 2.06-.94-2.06-.94L8.5 2.5l-.94 2.06-2.06.94zm10 10l.94 2.06.94-2.06 2.06-.94-2.06-.94-.94-2.06-.94 2.06-2.06.94z\"/><path d=\"M17.41 7.96l-1.37-1.37c-.4-.4-.92-.59-1.43-.59-.52 0-1.04.2-1.43.59L10.3 9.45l-7.72 7.72c-.78.78-.78 2.05 0 2.83L4 21.41c.39.39.9.59 1.41.59.51 0 1.02-.2 1.41-.59l7.78-7.78 2.81-2.81c.8-.78.8-2.07 0-2.86zM5.41 20L4 18.59l7.72-7.72 1.47 1.35L5.41 20z\"/>\n",
              "  </svg>\n",
              "      </button>\n",
              "      \n",
              "  <style>\n",
              "    .colab-df-container {\n",
              "      display:flex;\n",
              "      flex-wrap:wrap;\n",
              "      gap: 12px;\n",
              "    }\n",
              "\n",
              "    .colab-df-convert {\n",
              "      background-color: #E8F0FE;\n",
              "      border: none;\n",
              "      border-radius: 50%;\n",
              "      cursor: pointer;\n",
              "      display: none;\n",
              "      fill: #1967D2;\n",
              "      height: 32px;\n",
              "      padding: 0 0 0 0;\n",
              "      width: 32px;\n",
              "    }\n",
              "\n",
              "    .colab-df-convert:hover {\n",
              "      background-color: #E2EBFA;\n",
              "      box-shadow: 0px 1px 2px rgba(60, 64, 67, 0.3), 0px 1px 3px 1px rgba(60, 64, 67, 0.15);\n",
              "      fill: #174EA6;\n",
              "    }\n",
              "\n",
              "    [theme=dark] .colab-df-convert {\n",
              "      background-color: #3B4455;\n",
              "      fill: #D2E3FC;\n",
              "    }\n",
              "\n",
              "    [theme=dark] .colab-df-convert:hover {\n",
              "      background-color: #434B5C;\n",
              "      box-shadow: 0px 1px 3px 1px rgba(0, 0, 0, 0.15);\n",
              "      filter: drop-shadow(0px 1px 2px rgba(0, 0, 0, 0.3));\n",
              "      fill: #FFFFFF;\n",
              "    }\n",
              "  </style>\n",
              "\n",
              "      <script>\n",
              "        const buttonEl =\n",
              "          document.querySelector('#df-ad1c3abd-2b65-4348-87c7-ab855378f874 button.colab-df-convert');\n",
              "        buttonEl.style.display =\n",
              "          google.colab.kernel.accessAllowed ? 'block' : 'none';\n",
              "\n",
              "        async function convertToInteractive(key) {\n",
              "          const element = document.querySelector('#df-ad1c3abd-2b65-4348-87c7-ab855378f874');\n",
              "          const dataTable =\n",
              "            await google.colab.kernel.invokeFunction('convertToInteractive',\n",
              "                                                     [key], {});\n",
              "          if (!dataTable) return;\n",
              "\n",
              "          const docLinkHtml = 'Like what you see? Visit the ' +\n",
              "            '<a target=\"_blank\" href=https://colab.research.google.com/notebooks/data_table.ipynb>data table notebook</a>'\n",
              "            + ' to learn more about interactive tables.';\n",
              "          element.innerHTML = '';\n",
              "          dataTable['output_type'] = 'display_data';\n",
              "          await google.colab.output.renderOutput(dataTable, element);\n",
              "          const docLink = document.createElement('div');\n",
              "          docLink.innerHTML = docLinkHtml;\n",
              "          element.appendChild(docLink);\n",
              "        }\n",
              "      </script>\n",
              "    </div>\n",
              "  </div>\n",
              "  "
            ]
          },
          "metadata": {},
          "execution_count": 201
        }
      ]
    },
    {
      "cell_type": "markdown",
      "source": [
        "##### Conclusión\n",
        "Dada la tabla pivot de % de compras por género se puede observar que las mujeres (0) han comprado un 42% y los hombres (1) han comprado alrededor de un 5% menos que las mujeres"
      ],
      "metadata": {
        "id": "ANcaOYAUHrsM"
      }
    },
    {
      "cell_type": "markdown",
      "source": [
        "#### % de compras por grupos etarios, grupos de ingreso y género"
      ],
      "metadata": {
        "id": "af8u-gC0uIab"
      }
    },
    {
      "cell_type": "code",
      "source": [
        "dataset.pivot_table(index=['yearclasiffication','wageclasiffication','gender_male'], \n",
        "                     values='purchased', \n",
        "                     aggfunc=['mean'])"
      ],
      "metadata": {
        "colab": {
          "base_uri": "https://localhost:8080/",
          "height": 1000
        },
        "id": "eVF6sm7nuO0K",
        "outputId": "70c47672-8621-48c6-b351-6922476dcad9"
      },
      "execution_count": null,
      "outputs": [
        {
          "output_type": "execute_result",
          "data": {
            "text/plain": [
              "                                                            mean\n",
              "                                                       purchased\n",
              "yearclasiffication wageclasiffication      gender_male          \n",
              "(18.954, 28.2]     (14862.5, 60833.333]    0            0.000000\n",
              "                                           1            0.000000\n",
              "                   (60833.333, 106666.667] 0            0.031250\n",
              "                                           1            0.000000\n",
              "                   (106666.667, 152500.0]  0            0.333333\n",
              "(28.2, 37.4]       (14862.5, 60833.333]    0            0.000000\n",
              "                                           1            0.000000\n",
              "                   (60833.333, 106666.667] 0            0.120690\n",
              "                                           1            0.140351\n",
              "                   (106666.667, 152500.0]  0            0.666667\n",
              "                                           1            0.857143\n",
              "(37.4, 46.6]       (14862.5, 60833.333]    0            0.040000\n",
              "                                           1            0.073171\n",
              "                   (60833.333, 106666.667] 0            0.221154\n",
              "                                           1            0.284404\n",
              "                   (106666.667, 152500.0]  0            0.818182\n",
              "                                           1            1.000000\n",
              "(46.6, 55.8]       (14862.5, 60833.333]    0            0.791667\n",
              "                                           1            0.903226\n",
              "                   (60833.333, 106666.667] 0            0.736842\n",
              "                                           1            0.727273\n",
              "                   (106666.667, 152500.0]  0            0.833333\n",
              "                                           1            0.750000\n",
              "(55.8, 65.0]       (14862.5, 60833.333]    0            0.920000\n",
              "                                           1            1.000000\n",
              "                   (60833.333, 106666.667] 0            0.903226\n",
              "                                           1            1.000000\n",
              "                   (106666.667, 152500.0]  0            0.928571\n",
              "                                           1            1.000000"
            ],
            "text/html": [
              "\n",
              "  <div id=\"df-53e5dfd6-ad13-44fa-969c-27edcabf5006\">\n",
              "    <div class=\"colab-df-container\">\n",
              "      <div>\n",
              "<style scoped>\n",
              "    .dataframe tbody tr th:only-of-type {\n",
              "        vertical-align: middle;\n",
              "    }\n",
              "\n",
              "    .dataframe tbody tr th {\n",
              "        vertical-align: top;\n",
              "    }\n",
              "\n",
              "    .dataframe thead tr th {\n",
              "        text-align: left;\n",
              "    }\n",
              "\n",
              "    .dataframe thead tr:last-of-type th {\n",
              "        text-align: right;\n",
              "    }\n",
              "</style>\n",
              "<table border=\"1\" class=\"dataframe\">\n",
              "  <thead>\n",
              "    <tr>\n",
              "      <th></th>\n",
              "      <th></th>\n",
              "      <th></th>\n",
              "      <th>mean</th>\n",
              "    </tr>\n",
              "    <tr>\n",
              "      <th></th>\n",
              "      <th></th>\n",
              "      <th></th>\n",
              "      <th>purchased</th>\n",
              "    </tr>\n",
              "    <tr>\n",
              "      <th>yearclasiffication</th>\n",
              "      <th>wageclasiffication</th>\n",
              "      <th>gender_male</th>\n",
              "      <th></th>\n",
              "    </tr>\n",
              "  </thead>\n",
              "  <tbody>\n",
              "    <tr>\n",
              "      <th rowspan=\"5\" valign=\"top\">(18.954, 28.2]</th>\n",
              "      <th rowspan=\"2\" valign=\"top\">(14862.5, 60833.333]</th>\n",
              "      <th>0</th>\n",
              "      <td>0.000000</td>\n",
              "    </tr>\n",
              "    <tr>\n",
              "      <th>1</th>\n",
              "      <td>0.000000</td>\n",
              "    </tr>\n",
              "    <tr>\n",
              "      <th rowspan=\"2\" valign=\"top\">(60833.333, 106666.667]</th>\n",
              "      <th>0</th>\n",
              "      <td>0.031250</td>\n",
              "    </tr>\n",
              "    <tr>\n",
              "      <th>1</th>\n",
              "      <td>0.000000</td>\n",
              "    </tr>\n",
              "    <tr>\n",
              "      <th>(106666.667, 152500.0]</th>\n",
              "      <th>0</th>\n",
              "      <td>0.333333</td>\n",
              "    </tr>\n",
              "    <tr>\n",
              "      <th rowspan=\"6\" valign=\"top\">(28.2, 37.4]</th>\n",
              "      <th rowspan=\"2\" valign=\"top\">(14862.5, 60833.333]</th>\n",
              "      <th>0</th>\n",
              "      <td>0.000000</td>\n",
              "    </tr>\n",
              "    <tr>\n",
              "      <th>1</th>\n",
              "      <td>0.000000</td>\n",
              "    </tr>\n",
              "    <tr>\n",
              "      <th rowspan=\"2\" valign=\"top\">(60833.333, 106666.667]</th>\n",
              "      <th>0</th>\n",
              "      <td>0.120690</td>\n",
              "    </tr>\n",
              "    <tr>\n",
              "      <th>1</th>\n",
              "      <td>0.140351</td>\n",
              "    </tr>\n",
              "    <tr>\n",
              "      <th rowspan=\"2\" valign=\"top\">(106666.667, 152500.0]</th>\n",
              "      <th>0</th>\n",
              "      <td>0.666667</td>\n",
              "    </tr>\n",
              "    <tr>\n",
              "      <th>1</th>\n",
              "      <td>0.857143</td>\n",
              "    </tr>\n",
              "    <tr>\n",
              "      <th rowspan=\"6\" valign=\"top\">(37.4, 46.6]</th>\n",
              "      <th rowspan=\"2\" valign=\"top\">(14862.5, 60833.333]</th>\n",
              "      <th>0</th>\n",
              "      <td>0.040000</td>\n",
              "    </tr>\n",
              "    <tr>\n",
              "      <th>1</th>\n",
              "      <td>0.073171</td>\n",
              "    </tr>\n",
              "    <tr>\n",
              "      <th rowspan=\"2\" valign=\"top\">(60833.333, 106666.667]</th>\n",
              "      <th>0</th>\n",
              "      <td>0.221154</td>\n",
              "    </tr>\n",
              "    <tr>\n",
              "      <th>1</th>\n",
              "      <td>0.284404</td>\n",
              "    </tr>\n",
              "    <tr>\n",
              "      <th rowspan=\"2\" valign=\"top\">(106666.667, 152500.0]</th>\n",
              "      <th>0</th>\n",
              "      <td>0.818182</td>\n",
              "    </tr>\n",
              "    <tr>\n",
              "      <th>1</th>\n",
              "      <td>1.000000</td>\n",
              "    </tr>\n",
              "    <tr>\n",
              "      <th rowspan=\"6\" valign=\"top\">(46.6, 55.8]</th>\n",
              "      <th rowspan=\"2\" valign=\"top\">(14862.5, 60833.333]</th>\n",
              "      <th>0</th>\n",
              "      <td>0.791667</td>\n",
              "    </tr>\n",
              "    <tr>\n",
              "      <th>1</th>\n",
              "      <td>0.903226</td>\n",
              "    </tr>\n",
              "    <tr>\n",
              "      <th rowspan=\"2\" valign=\"top\">(60833.333, 106666.667]</th>\n",
              "      <th>0</th>\n",
              "      <td>0.736842</td>\n",
              "    </tr>\n",
              "    <tr>\n",
              "      <th>1</th>\n",
              "      <td>0.727273</td>\n",
              "    </tr>\n",
              "    <tr>\n",
              "      <th rowspan=\"2\" valign=\"top\">(106666.667, 152500.0]</th>\n",
              "      <th>0</th>\n",
              "      <td>0.833333</td>\n",
              "    </tr>\n",
              "    <tr>\n",
              "      <th>1</th>\n",
              "      <td>0.750000</td>\n",
              "    </tr>\n",
              "    <tr>\n",
              "      <th rowspan=\"6\" valign=\"top\">(55.8, 65.0]</th>\n",
              "      <th rowspan=\"2\" valign=\"top\">(14862.5, 60833.333]</th>\n",
              "      <th>0</th>\n",
              "      <td>0.920000</td>\n",
              "    </tr>\n",
              "    <tr>\n",
              "      <th>1</th>\n",
              "      <td>1.000000</td>\n",
              "    </tr>\n",
              "    <tr>\n",
              "      <th rowspan=\"2\" valign=\"top\">(60833.333, 106666.667]</th>\n",
              "      <th>0</th>\n",
              "      <td>0.903226</td>\n",
              "    </tr>\n",
              "    <tr>\n",
              "      <th>1</th>\n",
              "      <td>1.000000</td>\n",
              "    </tr>\n",
              "    <tr>\n",
              "      <th rowspan=\"2\" valign=\"top\">(106666.667, 152500.0]</th>\n",
              "      <th>0</th>\n",
              "      <td>0.928571</td>\n",
              "    </tr>\n",
              "    <tr>\n",
              "      <th>1</th>\n",
              "      <td>1.000000</td>\n",
              "    </tr>\n",
              "  </tbody>\n",
              "</table>\n",
              "</div>\n",
              "      <button class=\"colab-df-convert\" onclick=\"convertToInteractive('df-53e5dfd6-ad13-44fa-969c-27edcabf5006')\"\n",
              "              title=\"Convert this dataframe to an interactive table.\"\n",
              "              style=\"display:none;\">\n",
              "        \n",
              "  <svg xmlns=\"http://www.w3.org/2000/svg\" height=\"24px\"viewBox=\"0 0 24 24\"\n",
              "       width=\"24px\">\n",
              "    <path d=\"M0 0h24v24H0V0z\" fill=\"none\"/>\n",
              "    <path d=\"M18.56 5.44l.94 2.06.94-2.06 2.06-.94-2.06-.94-.94-2.06-.94 2.06-2.06.94zm-11 1L8.5 8.5l.94-2.06 2.06-.94-2.06-.94L8.5 2.5l-.94 2.06-2.06.94zm10 10l.94 2.06.94-2.06 2.06-.94-2.06-.94-.94-2.06-.94 2.06-2.06.94z\"/><path d=\"M17.41 7.96l-1.37-1.37c-.4-.4-.92-.59-1.43-.59-.52 0-1.04.2-1.43.59L10.3 9.45l-7.72 7.72c-.78.78-.78 2.05 0 2.83L4 21.41c.39.39.9.59 1.41.59.51 0 1.02-.2 1.41-.59l7.78-7.78 2.81-2.81c.8-.78.8-2.07 0-2.86zM5.41 20L4 18.59l7.72-7.72 1.47 1.35L5.41 20z\"/>\n",
              "  </svg>\n",
              "      </button>\n",
              "      \n",
              "  <style>\n",
              "    .colab-df-container {\n",
              "      display:flex;\n",
              "      flex-wrap:wrap;\n",
              "      gap: 12px;\n",
              "    }\n",
              "\n",
              "    .colab-df-convert {\n",
              "      background-color: #E8F0FE;\n",
              "      border: none;\n",
              "      border-radius: 50%;\n",
              "      cursor: pointer;\n",
              "      display: none;\n",
              "      fill: #1967D2;\n",
              "      height: 32px;\n",
              "      padding: 0 0 0 0;\n",
              "      width: 32px;\n",
              "    }\n",
              "\n",
              "    .colab-df-convert:hover {\n",
              "      background-color: #E2EBFA;\n",
              "      box-shadow: 0px 1px 2px rgba(60, 64, 67, 0.3), 0px 1px 3px 1px rgba(60, 64, 67, 0.15);\n",
              "      fill: #174EA6;\n",
              "    }\n",
              "\n",
              "    [theme=dark] .colab-df-convert {\n",
              "      background-color: #3B4455;\n",
              "      fill: #D2E3FC;\n",
              "    }\n",
              "\n",
              "    [theme=dark] .colab-df-convert:hover {\n",
              "      background-color: #434B5C;\n",
              "      box-shadow: 0px 1px 3px 1px rgba(0, 0, 0, 0.15);\n",
              "      filter: drop-shadow(0px 1px 2px rgba(0, 0, 0, 0.3));\n",
              "      fill: #FFFFFF;\n",
              "    }\n",
              "  </style>\n",
              "\n",
              "      <script>\n",
              "        const buttonEl =\n",
              "          document.querySelector('#df-53e5dfd6-ad13-44fa-969c-27edcabf5006 button.colab-df-convert');\n",
              "        buttonEl.style.display =\n",
              "          google.colab.kernel.accessAllowed ? 'block' : 'none';\n",
              "\n",
              "        async function convertToInteractive(key) {\n",
              "          const element = document.querySelector('#df-53e5dfd6-ad13-44fa-969c-27edcabf5006');\n",
              "          const dataTable =\n",
              "            await google.colab.kernel.invokeFunction('convertToInteractive',\n",
              "                                                     [key], {});\n",
              "          if (!dataTable) return;\n",
              "\n",
              "          const docLinkHtml = 'Like what you see? Visit the ' +\n",
              "            '<a target=\"_blank\" href=https://colab.research.google.com/notebooks/data_table.ipynb>data table notebook</a>'\n",
              "            + ' to learn more about interactive tables.';\n",
              "          element.innerHTML = '';\n",
              "          dataTable['output_type'] = 'display_data';\n",
              "          await google.colab.output.renderOutput(dataTable, element);\n",
              "          const docLink = document.createElement('div');\n",
              "          docLink.innerHTML = docLinkHtml;\n",
              "          element.appendChild(docLink);\n",
              "        }\n",
              "      </script>\n",
              "    </div>\n",
              "  </div>\n",
              "  "
            ]
          },
          "metadata": {},
          "execution_count": 202
        }
      ]
    },
    {
      "cell_type": "markdown",
      "source": [
        "##### Conclusión\n",
        "Gracias a la tabla pivot que nos permite evidenciar el % de compras por grupos etarios, de ingreso y género se puede evidenciar que el salario es directamente proporcional al porcentaje de compras, ya que a medida de que los individuos tienen un mayor salario en general realizan mayores compras. Por otro lado, entre más edad tienen los individuos también se evidencia un incremento proporcional en su porcentaje de compras"
      ],
      "metadata": {
        "id": "f-INxm4kIA8Z"
      }
    },
    {
      "cell_type": "markdown",
      "source": [
        "#### Ingreso medio y mediano por grupos etarios"
      ],
      "metadata": {
        "id": "4hQh1choujvS"
      }
    },
    {
      "cell_type": "code",
      "source": [
        "dataset.pivot_table(index=['yearclasiffication'], \n",
        "                     values='wage', \n",
        "                     aggfunc=['mean','median'])"
      ],
      "metadata": {
        "colab": {
          "base_uri": "https://localhost:8080/",
          "height": 269
        },
        "id": "-yuf537JuofS",
        "outputId": "dd17f48d-064e-411f-cec3-0ffcd835e891"
      },
      "execution_count": null,
      "outputs": [
        {
          "output_type": "execute_result",
          "data": {
            "text/plain": [
              "                            mean   median\n",
              "                            wage     wage\n",
              "yearclasiffication                       \n",
              "(18.954, 28.2]      58582.733813  62500.0\n",
              "(28.2, 37.4]        70083.705357  63500.0\n",
              "(37.4, 46.6]        76333.855799  71500.0\n",
              "(46.6, 55.8]        76145.121951  81500.0\n",
              "(55.8, 65.0]        82024.336283  88750.0"
            ],
            "text/html": [
              "\n",
              "  <div id=\"df-2e6a0743-a15e-4b2f-9871-1e3b100e81a0\">\n",
              "    <div class=\"colab-df-container\">\n",
              "      <div>\n",
              "<style scoped>\n",
              "    .dataframe tbody tr th:only-of-type {\n",
              "        vertical-align: middle;\n",
              "    }\n",
              "\n",
              "    .dataframe tbody tr th {\n",
              "        vertical-align: top;\n",
              "    }\n",
              "\n",
              "    .dataframe thead tr th {\n",
              "        text-align: left;\n",
              "    }\n",
              "\n",
              "    .dataframe thead tr:last-of-type th {\n",
              "        text-align: right;\n",
              "    }\n",
              "</style>\n",
              "<table border=\"1\" class=\"dataframe\">\n",
              "  <thead>\n",
              "    <tr>\n",
              "      <th></th>\n",
              "      <th>mean</th>\n",
              "      <th>median</th>\n",
              "    </tr>\n",
              "    <tr>\n",
              "      <th></th>\n",
              "      <th>wage</th>\n",
              "      <th>wage</th>\n",
              "    </tr>\n",
              "    <tr>\n",
              "      <th>yearclasiffication</th>\n",
              "      <th></th>\n",
              "      <th></th>\n",
              "    </tr>\n",
              "  </thead>\n",
              "  <tbody>\n",
              "    <tr>\n",
              "      <th>(18.954, 28.2]</th>\n",
              "      <td>58582.733813</td>\n",
              "      <td>62500.0</td>\n",
              "    </tr>\n",
              "    <tr>\n",
              "      <th>(28.2, 37.4]</th>\n",
              "      <td>70083.705357</td>\n",
              "      <td>63500.0</td>\n",
              "    </tr>\n",
              "    <tr>\n",
              "      <th>(37.4, 46.6]</th>\n",
              "      <td>76333.855799</td>\n",
              "      <td>71500.0</td>\n",
              "    </tr>\n",
              "    <tr>\n",
              "      <th>(46.6, 55.8]</th>\n",
              "      <td>76145.121951</td>\n",
              "      <td>81500.0</td>\n",
              "    </tr>\n",
              "    <tr>\n",
              "      <th>(55.8, 65.0]</th>\n",
              "      <td>82024.336283</td>\n",
              "      <td>88750.0</td>\n",
              "    </tr>\n",
              "  </tbody>\n",
              "</table>\n",
              "</div>\n",
              "      <button class=\"colab-df-convert\" onclick=\"convertToInteractive('df-2e6a0743-a15e-4b2f-9871-1e3b100e81a0')\"\n",
              "              title=\"Convert this dataframe to an interactive table.\"\n",
              "              style=\"display:none;\">\n",
              "        \n",
              "  <svg xmlns=\"http://www.w3.org/2000/svg\" height=\"24px\"viewBox=\"0 0 24 24\"\n",
              "       width=\"24px\">\n",
              "    <path d=\"M0 0h24v24H0V0z\" fill=\"none\"/>\n",
              "    <path d=\"M18.56 5.44l.94 2.06.94-2.06 2.06-.94-2.06-.94-.94-2.06-.94 2.06-2.06.94zm-11 1L8.5 8.5l.94-2.06 2.06-.94-2.06-.94L8.5 2.5l-.94 2.06-2.06.94zm10 10l.94 2.06.94-2.06 2.06-.94-2.06-.94-.94-2.06-.94 2.06-2.06.94z\"/><path d=\"M17.41 7.96l-1.37-1.37c-.4-.4-.92-.59-1.43-.59-.52 0-1.04.2-1.43.59L10.3 9.45l-7.72 7.72c-.78.78-.78 2.05 0 2.83L4 21.41c.39.39.9.59 1.41.59.51 0 1.02-.2 1.41-.59l7.78-7.78 2.81-2.81c.8-.78.8-2.07 0-2.86zM5.41 20L4 18.59l7.72-7.72 1.47 1.35L5.41 20z\"/>\n",
              "  </svg>\n",
              "      </button>\n",
              "      \n",
              "  <style>\n",
              "    .colab-df-container {\n",
              "      display:flex;\n",
              "      flex-wrap:wrap;\n",
              "      gap: 12px;\n",
              "    }\n",
              "\n",
              "    .colab-df-convert {\n",
              "      background-color: #E8F0FE;\n",
              "      border: none;\n",
              "      border-radius: 50%;\n",
              "      cursor: pointer;\n",
              "      display: none;\n",
              "      fill: #1967D2;\n",
              "      height: 32px;\n",
              "      padding: 0 0 0 0;\n",
              "      width: 32px;\n",
              "    }\n",
              "\n",
              "    .colab-df-convert:hover {\n",
              "      background-color: #E2EBFA;\n",
              "      box-shadow: 0px 1px 2px rgba(60, 64, 67, 0.3), 0px 1px 3px 1px rgba(60, 64, 67, 0.15);\n",
              "      fill: #174EA6;\n",
              "    }\n",
              "\n",
              "    [theme=dark] .colab-df-convert {\n",
              "      background-color: #3B4455;\n",
              "      fill: #D2E3FC;\n",
              "    }\n",
              "\n",
              "    [theme=dark] .colab-df-convert:hover {\n",
              "      background-color: #434B5C;\n",
              "      box-shadow: 0px 1px 3px 1px rgba(0, 0, 0, 0.15);\n",
              "      filter: drop-shadow(0px 1px 2px rgba(0, 0, 0, 0.3));\n",
              "      fill: #FFFFFF;\n",
              "    }\n",
              "  </style>\n",
              "\n",
              "      <script>\n",
              "        const buttonEl =\n",
              "          document.querySelector('#df-2e6a0743-a15e-4b2f-9871-1e3b100e81a0 button.colab-df-convert');\n",
              "        buttonEl.style.display =\n",
              "          google.colab.kernel.accessAllowed ? 'block' : 'none';\n",
              "\n",
              "        async function convertToInteractive(key) {\n",
              "          const element = document.querySelector('#df-2e6a0743-a15e-4b2f-9871-1e3b100e81a0');\n",
              "          const dataTable =\n",
              "            await google.colab.kernel.invokeFunction('convertToInteractive',\n",
              "                                                     [key], {});\n",
              "          if (!dataTable) return;\n",
              "\n",
              "          const docLinkHtml = 'Like what you see? Visit the ' +\n",
              "            '<a target=\"_blank\" href=https://colab.research.google.com/notebooks/data_table.ipynb>data table notebook</a>'\n",
              "            + ' to learn more about interactive tables.';\n",
              "          element.innerHTML = '';\n",
              "          dataTable['output_type'] = 'display_data';\n",
              "          await google.colab.output.renderOutput(dataTable, element);\n",
              "          const docLink = document.createElement('div');\n",
              "          docLink.innerHTML = docLinkHtml;\n",
              "          element.appendChild(docLink);\n",
              "        }\n",
              "      </script>\n",
              "    </div>\n",
              "  </div>\n",
              "  "
            ]
          },
          "metadata": {},
          "execution_count": 203
        }
      ]
    },
    {
      "cell_type": "markdown",
      "source": [
        "##### Conclusión\n",
        "Dada la tabla pivot del ingreso medio y mediano por grupos etarios es posible evidenciar que en promedio cuando los individuos son más jovenes tienden a recibir un menor salario, sin embargo el valor mediano de los salarios de estos individuos es superior al promedio.\n",
        "Por otro lado, se evidencia un contraste entre los individuos de 28 a 46 años ya que aunque tienen un salario en promedio mayor a los jóvenes, su salario mediano es menor al promedio pagado."
      ],
      "metadata": {
        "id": "xu2USamaJKCh"
      }
    },
    {
      "cell_type": "markdown",
      "source": [
        "#### Ingreso medio y mediano por género"
      ],
      "metadata": {
        "id": "RaolhkMMu0j5"
      }
    },
    {
      "cell_type": "code",
      "source": [
        "dataset.pivot_table(index=['gender_male'], \n",
        "                     values='wage', \n",
        "                     aggfunc=['mean','median'])"
      ],
      "metadata": {
        "colab": {
          "base_uri": "https://localhost:8080/",
          "height": 175
        },
        "id": "IycuMENGu52R",
        "outputId": "2d24a245-c089-40cb-d74d-7b98ae8070cd"
      },
      "execution_count": null,
      "outputs": [
        {
          "output_type": "execute_result",
          "data": {
            "text/plain": [
              "                     mean   median\n",
              "                     wage     wage\n",
              "gender_male                       \n",
              "0            74896.551724  69500.0\n",
              "1            71076.882845  66500.0"
            ],
            "text/html": [
              "\n",
              "  <div id=\"df-b7494cc2-5f0b-4299-ba90-4b9e36dfdb55\">\n",
              "    <div class=\"colab-df-container\">\n",
              "      <div>\n",
              "<style scoped>\n",
              "    .dataframe tbody tr th:only-of-type {\n",
              "        vertical-align: middle;\n",
              "    }\n",
              "\n",
              "    .dataframe tbody tr th {\n",
              "        vertical-align: top;\n",
              "    }\n",
              "\n",
              "    .dataframe thead tr th {\n",
              "        text-align: left;\n",
              "    }\n",
              "\n",
              "    .dataframe thead tr:last-of-type th {\n",
              "        text-align: right;\n",
              "    }\n",
              "</style>\n",
              "<table border=\"1\" class=\"dataframe\">\n",
              "  <thead>\n",
              "    <tr>\n",
              "      <th></th>\n",
              "      <th>mean</th>\n",
              "      <th>median</th>\n",
              "    </tr>\n",
              "    <tr>\n",
              "      <th></th>\n",
              "      <th>wage</th>\n",
              "      <th>wage</th>\n",
              "    </tr>\n",
              "    <tr>\n",
              "      <th>gender_male</th>\n",
              "      <th></th>\n",
              "      <th></th>\n",
              "    </tr>\n",
              "  </thead>\n",
              "  <tbody>\n",
              "    <tr>\n",
              "      <th>0</th>\n",
              "      <td>74896.551724</td>\n",
              "      <td>69500.0</td>\n",
              "    </tr>\n",
              "    <tr>\n",
              "      <th>1</th>\n",
              "      <td>71076.882845</td>\n",
              "      <td>66500.0</td>\n",
              "    </tr>\n",
              "  </tbody>\n",
              "</table>\n",
              "</div>\n",
              "      <button class=\"colab-df-convert\" onclick=\"convertToInteractive('df-b7494cc2-5f0b-4299-ba90-4b9e36dfdb55')\"\n",
              "              title=\"Convert this dataframe to an interactive table.\"\n",
              "              style=\"display:none;\">\n",
              "        \n",
              "  <svg xmlns=\"http://www.w3.org/2000/svg\" height=\"24px\"viewBox=\"0 0 24 24\"\n",
              "       width=\"24px\">\n",
              "    <path d=\"M0 0h24v24H0V0z\" fill=\"none\"/>\n",
              "    <path d=\"M18.56 5.44l.94 2.06.94-2.06 2.06-.94-2.06-.94-.94-2.06-.94 2.06-2.06.94zm-11 1L8.5 8.5l.94-2.06 2.06-.94-2.06-.94L8.5 2.5l-.94 2.06-2.06.94zm10 10l.94 2.06.94-2.06 2.06-.94-2.06-.94-.94-2.06-.94 2.06-2.06.94z\"/><path d=\"M17.41 7.96l-1.37-1.37c-.4-.4-.92-.59-1.43-.59-.52 0-1.04.2-1.43.59L10.3 9.45l-7.72 7.72c-.78.78-.78 2.05 0 2.83L4 21.41c.39.39.9.59 1.41.59.51 0 1.02-.2 1.41-.59l7.78-7.78 2.81-2.81c.8-.78.8-2.07 0-2.86zM5.41 20L4 18.59l7.72-7.72 1.47 1.35L5.41 20z\"/>\n",
              "  </svg>\n",
              "      </button>\n",
              "      \n",
              "  <style>\n",
              "    .colab-df-container {\n",
              "      display:flex;\n",
              "      flex-wrap:wrap;\n",
              "      gap: 12px;\n",
              "    }\n",
              "\n",
              "    .colab-df-convert {\n",
              "      background-color: #E8F0FE;\n",
              "      border: none;\n",
              "      border-radius: 50%;\n",
              "      cursor: pointer;\n",
              "      display: none;\n",
              "      fill: #1967D2;\n",
              "      height: 32px;\n",
              "      padding: 0 0 0 0;\n",
              "      width: 32px;\n",
              "    }\n",
              "\n",
              "    .colab-df-convert:hover {\n",
              "      background-color: #E2EBFA;\n",
              "      box-shadow: 0px 1px 2px rgba(60, 64, 67, 0.3), 0px 1px 3px 1px rgba(60, 64, 67, 0.15);\n",
              "      fill: #174EA6;\n",
              "    }\n",
              "\n",
              "    [theme=dark] .colab-df-convert {\n",
              "      background-color: #3B4455;\n",
              "      fill: #D2E3FC;\n",
              "    }\n",
              "\n",
              "    [theme=dark] .colab-df-convert:hover {\n",
              "      background-color: #434B5C;\n",
              "      box-shadow: 0px 1px 3px 1px rgba(0, 0, 0, 0.15);\n",
              "      filter: drop-shadow(0px 1px 2px rgba(0, 0, 0, 0.3));\n",
              "      fill: #FFFFFF;\n",
              "    }\n",
              "  </style>\n",
              "\n",
              "      <script>\n",
              "        const buttonEl =\n",
              "          document.querySelector('#df-b7494cc2-5f0b-4299-ba90-4b9e36dfdb55 button.colab-df-convert');\n",
              "        buttonEl.style.display =\n",
              "          google.colab.kernel.accessAllowed ? 'block' : 'none';\n",
              "\n",
              "        async function convertToInteractive(key) {\n",
              "          const element = document.querySelector('#df-b7494cc2-5f0b-4299-ba90-4b9e36dfdb55');\n",
              "          const dataTable =\n",
              "            await google.colab.kernel.invokeFunction('convertToInteractive',\n",
              "                                                     [key], {});\n",
              "          if (!dataTable) return;\n",
              "\n",
              "          const docLinkHtml = 'Like what you see? Visit the ' +\n",
              "            '<a target=\"_blank\" href=https://colab.research.google.com/notebooks/data_table.ipynb>data table notebook</a>'\n",
              "            + ' to learn more about interactive tables.';\n",
              "          element.innerHTML = '';\n",
              "          dataTable['output_type'] = 'display_data';\n",
              "          await google.colab.output.renderOutput(dataTable, element);\n",
              "          const docLink = document.createElement('div');\n",
              "          docLink.innerHTML = docLinkHtml;\n",
              "          element.appendChild(docLink);\n",
              "        }\n",
              "      </script>\n",
              "    </div>\n",
              "  </div>\n",
              "  "
            ]
          },
          "metadata": {},
          "execution_count": 204
        }
      ]
    },
    {
      "cell_type": "markdown",
      "source": [
        "##### Conclusión\n",
        "Respecto al ingreso medio y mediano por género, se puede evidenciar que las mujeres están recibiendo un salario promedio superior al de los hombres y también un valor mediano superior que ellos, aunque tampoco es una proporción altamente significativa."
      ],
      "metadata": {
        "id": "4vP23HiwKWMp"
      }
    },
    {
      "cell_type": "markdown",
      "source": [
        "#### Conclusión general"
      ],
      "metadata": {
        "id": "dXUJm36zlbxe"
      }
    },
    {
      "cell_type": "markdown",
      "source": [
        "Teniendo en cuenta todo lo anterior, es importante resaltar inicialmente que no hay presencia de datos inconsistentes dentro de la base de datos, por otro lado, solo se encontraron missing values en una variable (wage) con una proporción significante, que quedo demostrada al encontrar una gran cantidad de outliers en el isolation forest.\n",
        "\n",
        "Por otro lado, es importante destacar el enriquecimiento de la data que permitió desarrollar categorizaciones y análisis de porcentajes de compras y del ingreso de los individuos de una manera óptima.\n",
        "Así entonces, se pudo determinar que los salarios dependen mucho de la edad de los individuos, y así mismo esto se relaciona con las compras que realizan en su día a día, en contraste con esto también se pudo notar que entre géneros no hay una brecha altamente significativa en los ingresos, aunque las mujeres tienen un ingreso levemente superior."
      ],
      "metadata": {
        "id": "7tkF7oQ1lf0p"
      }
    }
  ]
}